{
  "nbformat": 4,
  "nbformat_minor": 0,
  "metadata": {
    "colab": {
      "name": "Embedding.ipynb",
      "provenance": [],
      "collapsed_sections": []
    },
    "kernelspec": {
      "name": "python3",
      "display_name": "Python 3"
    },
    "language_info": {
      "name": "python"
    },
    "widgets": {
      "application/vnd.jupyter.widget-state+json": {
        "12cf08f088344c37babca2838563ffa2": {
          "model_module": "@jupyter-widgets/controls",
          "model_name": "HBoxModel",
          "model_module_version": "1.5.0",
          "state": {
            "_view_name": "HBoxView",
            "_dom_classes": [],
            "_model_name": "HBoxModel",
            "_view_module": "@jupyter-widgets/controls",
            "_model_module_version": "1.5.0",
            "_view_count": null,
            "_view_module_version": "1.5.0",
            "box_style": "",
            "layout": "IPY_MODEL_5e0a4c839d9b41c883f2b389a8e0e607",
            "_model_module": "@jupyter-widgets/controls",
            "children": [
              "IPY_MODEL_dd259680abc44d45b305cbb0c12dd77b",
              "IPY_MODEL_6b11515682414b74a036902f72d3a3f5",
              "IPY_MODEL_a5fbd63fa4084723a3037e400e3fb389"
            ]
          }
        },
        "5e0a4c839d9b41c883f2b389a8e0e607": {
          "model_module": "@jupyter-widgets/base",
          "model_name": "LayoutModel",
          "model_module_version": "1.2.0",
          "state": {
            "_view_name": "LayoutView",
            "grid_template_rows": null,
            "right": null,
            "justify_content": null,
            "_view_module": "@jupyter-widgets/base",
            "overflow": null,
            "_model_module_version": "1.2.0",
            "_view_count": null,
            "flex_flow": null,
            "width": null,
            "min_width": null,
            "border": null,
            "align_items": null,
            "bottom": null,
            "_model_module": "@jupyter-widgets/base",
            "top": null,
            "grid_column": null,
            "overflow_y": null,
            "overflow_x": null,
            "grid_auto_flow": null,
            "grid_area": null,
            "grid_template_columns": null,
            "flex": null,
            "_model_name": "LayoutModel",
            "justify_items": null,
            "grid_row": null,
            "max_height": null,
            "align_content": null,
            "visibility": null,
            "align_self": null,
            "height": null,
            "min_height": null,
            "padding": null,
            "grid_auto_rows": null,
            "grid_gap": null,
            "max_width": null,
            "order": null,
            "_view_module_version": "1.2.0",
            "grid_template_areas": null,
            "object_position": null,
            "object_fit": null,
            "grid_auto_columns": null,
            "margin": null,
            "display": null,
            "left": null
          }
        },
        "dd259680abc44d45b305cbb0c12dd77b": {
          "model_module": "@jupyter-widgets/controls",
          "model_name": "HTMLModel",
          "model_module_version": "1.5.0",
          "state": {
            "_view_name": "HTMLView",
            "style": "IPY_MODEL_14310beac22d40639128bc102bc997a4",
            "_dom_classes": [],
            "description": "",
            "_model_name": "HTMLModel",
            "placeholder": "​",
            "_view_module": "@jupyter-widgets/controls",
            "_model_module_version": "1.5.0",
            "value": "placeholder_vectors.csv: 100%",
            "_view_count": null,
            "_view_module_version": "1.5.0",
            "description_tooltip": null,
            "_model_module": "@jupyter-widgets/controls",
            "layout": "IPY_MODEL_60ace706989042bb9b72fab6f90932b1"
          }
        },
        "6b11515682414b74a036902f72d3a3f5": {
          "model_module": "@jupyter-widgets/controls",
          "model_name": "FloatProgressModel",
          "model_module_version": "1.5.0",
          "state": {
            "_view_name": "ProgressView",
            "style": "IPY_MODEL_df3ae1ad23d245018ba151c8d3336543",
            "_dom_classes": [],
            "description": "",
            "_model_name": "FloatProgressModel",
            "bar_style": "success",
            "max": 598509,
            "_view_module": "@jupyter-widgets/controls",
            "_model_module_version": "1.5.0",
            "value": 598509,
            "_view_count": null,
            "_view_module_version": "1.5.0",
            "orientation": "horizontal",
            "min": 0,
            "description_tooltip": null,
            "_model_module": "@jupyter-widgets/controls",
            "layout": "IPY_MODEL_525cb82ce9c44265bab18788a642454d"
          }
        },
        "a5fbd63fa4084723a3037e400e3fb389": {
          "model_module": "@jupyter-widgets/controls",
          "model_name": "HTMLModel",
          "model_module_version": "1.5.0",
          "state": {
            "_view_name": "HTMLView",
            "style": "IPY_MODEL_4b7f99ca319d49d3a506a847493c34e8",
            "_dom_classes": [],
            "description": "",
            "_model_name": "HTMLModel",
            "placeholder": "​",
            "_view_module": "@jupyter-widgets/controls",
            "_model_module_version": "1.5.0",
            "value": " 599k/599k [00:00&lt;00:00, 1.46MB/s]",
            "_view_count": null,
            "_view_module_version": "1.5.0",
            "description_tooltip": null,
            "_model_module": "@jupyter-widgets/controls",
            "layout": "IPY_MODEL_9581ae71f6b640be8fc211d0c397e33a"
          }
        },
        "14310beac22d40639128bc102bc997a4": {
          "model_module": "@jupyter-widgets/controls",
          "model_name": "DescriptionStyleModel",
          "model_module_version": "1.5.0",
          "state": {
            "_view_name": "StyleView",
            "_model_name": "DescriptionStyleModel",
            "description_width": "",
            "_view_module": "@jupyter-widgets/base",
            "_model_module_version": "1.5.0",
            "_view_count": null,
            "_view_module_version": "1.2.0",
            "_model_module": "@jupyter-widgets/controls"
          }
        },
        "60ace706989042bb9b72fab6f90932b1": {
          "model_module": "@jupyter-widgets/base",
          "model_name": "LayoutModel",
          "model_module_version": "1.2.0",
          "state": {
            "_view_name": "LayoutView",
            "grid_template_rows": null,
            "right": null,
            "justify_content": null,
            "_view_module": "@jupyter-widgets/base",
            "overflow": null,
            "_model_module_version": "1.2.0",
            "_view_count": null,
            "flex_flow": null,
            "width": null,
            "min_width": null,
            "border": null,
            "align_items": null,
            "bottom": null,
            "_model_module": "@jupyter-widgets/base",
            "top": null,
            "grid_column": null,
            "overflow_y": null,
            "overflow_x": null,
            "grid_auto_flow": null,
            "grid_area": null,
            "grid_template_columns": null,
            "flex": null,
            "_model_name": "LayoutModel",
            "justify_items": null,
            "grid_row": null,
            "max_height": null,
            "align_content": null,
            "visibility": null,
            "align_self": null,
            "height": null,
            "min_height": null,
            "padding": null,
            "grid_auto_rows": null,
            "grid_gap": null,
            "max_width": null,
            "order": null,
            "_view_module_version": "1.2.0",
            "grid_template_areas": null,
            "object_position": null,
            "object_fit": null,
            "grid_auto_columns": null,
            "margin": null,
            "display": null,
            "left": null
          }
        },
        "df3ae1ad23d245018ba151c8d3336543": {
          "model_module": "@jupyter-widgets/controls",
          "model_name": "ProgressStyleModel",
          "model_module_version": "1.5.0",
          "state": {
            "_view_name": "StyleView",
            "_model_name": "ProgressStyleModel",
            "description_width": "",
            "_view_module": "@jupyter-widgets/base",
            "_model_module_version": "1.5.0",
            "_view_count": null,
            "_view_module_version": "1.2.0",
            "bar_color": null,
            "_model_module": "@jupyter-widgets/controls"
          }
        },
        "525cb82ce9c44265bab18788a642454d": {
          "model_module": "@jupyter-widgets/base",
          "model_name": "LayoutModel",
          "model_module_version": "1.2.0",
          "state": {
            "_view_name": "LayoutView",
            "grid_template_rows": null,
            "right": null,
            "justify_content": null,
            "_view_module": "@jupyter-widgets/base",
            "overflow": null,
            "_model_module_version": "1.2.0",
            "_view_count": null,
            "flex_flow": null,
            "width": null,
            "min_width": null,
            "border": null,
            "align_items": null,
            "bottom": null,
            "_model_module": "@jupyter-widgets/base",
            "top": null,
            "grid_column": null,
            "overflow_y": null,
            "overflow_x": null,
            "grid_auto_flow": null,
            "grid_area": null,
            "grid_template_columns": null,
            "flex": null,
            "_model_name": "LayoutModel",
            "justify_items": null,
            "grid_row": null,
            "max_height": null,
            "align_content": null,
            "visibility": null,
            "align_self": null,
            "height": null,
            "min_height": null,
            "padding": null,
            "grid_auto_rows": null,
            "grid_gap": null,
            "max_width": null,
            "order": null,
            "_view_module_version": "1.2.0",
            "grid_template_areas": null,
            "object_position": null,
            "object_fit": null,
            "grid_auto_columns": null,
            "margin": null,
            "display": null,
            "left": null
          }
        },
        "4b7f99ca319d49d3a506a847493c34e8": {
          "model_module": "@jupyter-widgets/controls",
          "model_name": "DescriptionStyleModel",
          "model_module_version": "1.5.0",
          "state": {
            "_view_name": "StyleView",
            "_model_name": "DescriptionStyleModel",
            "description_width": "",
            "_view_module": "@jupyter-widgets/base",
            "_model_module_version": "1.5.0",
            "_view_count": null,
            "_view_module_version": "1.2.0",
            "_model_module": "@jupyter-widgets/controls"
          }
        },
        "9581ae71f6b640be8fc211d0c397e33a": {
          "model_module": "@jupyter-widgets/base",
          "model_name": "LayoutModel",
          "model_module_version": "1.2.0",
          "state": {
            "_view_name": "LayoutView",
            "grid_template_rows": null,
            "right": null,
            "justify_content": null,
            "_view_module": "@jupyter-widgets/base",
            "overflow": null,
            "_model_module_version": "1.2.0",
            "_view_count": null,
            "flex_flow": null,
            "width": null,
            "min_width": null,
            "border": null,
            "align_items": null,
            "bottom": null,
            "_model_module": "@jupyter-widgets/base",
            "top": null,
            "grid_column": null,
            "overflow_y": null,
            "overflow_x": null,
            "grid_auto_flow": null,
            "grid_area": null,
            "grid_template_columns": null,
            "flex": null,
            "_model_name": "LayoutModel",
            "justify_items": null,
            "grid_row": null,
            "max_height": null,
            "align_content": null,
            "visibility": null,
            "align_self": null,
            "height": null,
            "min_height": null,
            "padding": null,
            "grid_auto_rows": null,
            "grid_gap": null,
            "max_width": null,
            "order": null,
            "_view_module_version": "1.2.0",
            "grid_template_areas": null,
            "object_position": null,
            "object_fit": null,
            "grid_auto_columns": null,
            "margin": null,
            "display": null,
            "left": null
          }
        },
        "356eaf185b984ad89902a805dd8c2c12": {
          "model_module": "@jupyter-widgets/controls",
          "model_name": "HBoxModel",
          "model_module_version": "1.5.0",
          "state": {
            "_view_name": "HBoxView",
            "_dom_classes": [],
            "_model_name": "HBoxModel",
            "_view_module": "@jupyter-widgets/controls",
            "_model_module_version": "1.5.0",
            "_view_count": null,
            "_view_module_version": "1.5.0",
            "box_style": "",
            "layout": "IPY_MODEL_79fcf25213f847a8bca11f70c379a988",
            "_model_module": "@jupyter-widgets/controls",
            "children": [
              "IPY_MODEL_980047271ab44a8d9a01e3f20260f5b6",
              "IPY_MODEL_7702e2878fae40b180e2b0a5397dec47",
              "IPY_MODEL_e1293180bd984bd6964887e781e6f59d"
            ]
          }
        },
        "79fcf25213f847a8bca11f70c379a988": {
          "model_module": "@jupyter-widgets/base",
          "model_name": "LayoutModel",
          "model_module_version": "1.2.0",
          "state": {
            "_view_name": "LayoutView",
            "grid_template_rows": null,
            "right": null,
            "justify_content": null,
            "_view_module": "@jupyter-widgets/base",
            "overflow": null,
            "_model_module_version": "1.2.0",
            "_view_count": null,
            "flex_flow": null,
            "width": null,
            "min_width": null,
            "border": null,
            "align_items": null,
            "bottom": null,
            "_model_module": "@jupyter-widgets/base",
            "top": null,
            "grid_column": null,
            "overflow_y": null,
            "overflow_x": null,
            "grid_auto_flow": null,
            "grid_area": null,
            "grid_template_columns": null,
            "flex": null,
            "_model_name": "LayoutModel",
            "justify_items": null,
            "grid_row": null,
            "max_height": null,
            "align_content": null,
            "visibility": null,
            "align_self": null,
            "height": null,
            "min_height": null,
            "padding": null,
            "grid_auto_rows": null,
            "grid_gap": null,
            "max_width": null,
            "order": null,
            "_view_module_version": "1.2.0",
            "grid_template_areas": null,
            "object_position": null,
            "object_fit": null,
            "grid_auto_columns": null,
            "margin": null,
            "display": null,
            "left": null
          }
        },
        "980047271ab44a8d9a01e3f20260f5b6": {
          "model_module": "@jupyter-widgets/controls",
          "model_name": "HTMLModel",
          "model_module_version": "1.5.0",
          "state": {
            "_view_name": "HTMLView",
            "style": "IPY_MODEL_c008dfcce26247f4a18c91cb1d1bc8e2",
            "_dom_classes": [],
            "description": "",
            "_model_name": "HTMLModel",
            "placeholder": "​",
            "_view_module": "@jupyter-widgets/controls",
            "_model_module_version": "1.5.0",
            "value": "sample_submission.csv: 100%",
            "_view_count": null,
            "_view_module_version": "1.5.0",
            "description_tooltip": null,
            "_model_module": "@jupyter-widgets/controls",
            "layout": "IPY_MODEL_edd8c6c2e80848f4857a4269c2da42c0"
          }
        },
        "7702e2878fae40b180e2b0a5397dec47": {
          "model_module": "@jupyter-widgets/controls",
          "model_name": "FloatProgressModel",
          "model_module_version": "1.5.0",
          "state": {
            "_view_name": "ProgressView",
            "style": "IPY_MODEL_4367aadc2e5648ab81ea4a89a5e30681",
            "_dom_classes": [],
            "description": "",
            "_model_name": "FloatProgressModel",
            "bar_style": "success",
            "max": 5860,
            "_view_module": "@jupyter-widgets/controls",
            "_model_module_version": "1.5.0",
            "value": 5860,
            "_view_count": null,
            "_view_module_version": "1.5.0",
            "orientation": "horizontal",
            "min": 0,
            "description_tooltip": null,
            "_model_module": "@jupyter-widgets/controls",
            "layout": "IPY_MODEL_7356ff5c1bcb4074896918cb8aad0557"
          }
        },
        "e1293180bd984bd6964887e781e6f59d": {
          "model_module": "@jupyter-widgets/controls",
          "model_name": "HTMLModel",
          "model_module_version": "1.5.0",
          "state": {
            "_view_name": "HTMLView",
            "style": "IPY_MODEL_f99bd009da5343a19447d136c2c003db",
            "_dom_classes": [],
            "description": "",
            "_model_name": "HTMLModel",
            "placeholder": "​",
            "_view_module": "@jupyter-widgets/controls",
            "_model_module_version": "1.5.0",
            "value": " 5.86k/5.86k [00:00&lt;00:00, 36.0kB/s]",
            "_view_count": null,
            "_view_module_version": "1.5.0",
            "description_tooltip": null,
            "_model_module": "@jupyter-widgets/controls",
            "layout": "IPY_MODEL_e8c21117c22c4899b7827a0d308aad72"
          }
        },
        "c008dfcce26247f4a18c91cb1d1bc8e2": {
          "model_module": "@jupyter-widgets/controls",
          "model_name": "DescriptionStyleModel",
          "model_module_version": "1.5.0",
          "state": {
            "_view_name": "StyleView",
            "_model_name": "DescriptionStyleModel",
            "description_width": "",
            "_view_module": "@jupyter-widgets/base",
            "_model_module_version": "1.5.0",
            "_view_count": null,
            "_view_module_version": "1.2.0",
            "_model_module": "@jupyter-widgets/controls"
          }
        },
        "edd8c6c2e80848f4857a4269c2da42c0": {
          "model_module": "@jupyter-widgets/base",
          "model_name": "LayoutModel",
          "model_module_version": "1.2.0",
          "state": {
            "_view_name": "LayoutView",
            "grid_template_rows": null,
            "right": null,
            "justify_content": null,
            "_view_module": "@jupyter-widgets/base",
            "overflow": null,
            "_model_module_version": "1.2.0",
            "_view_count": null,
            "flex_flow": null,
            "width": null,
            "min_width": null,
            "border": null,
            "align_items": null,
            "bottom": null,
            "_model_module": "@jupyter-widgets/base",
            "top": null,
            "grid_column": null,
            "overflow_y": null,
            "overflow_x": null,
            "grid_auto_flow": null,
            "grid_area": null,
            "grid_template_columns": null,
            "flex": null,
            "_model_name": "LayoutModel",
            "justify_items": null,
            "grid_row": null,
            "max_height": null,
            "align_content": null,
            "visibility": null,
            "align_self": null,
            "height": null,
            "min_height": null,
            "padding": null,
            "grid_auto_rows": null,
            "grid_gap": null,
            "max_width": null,
            "order": null,
            "_view_module_version": "1.2.0",
            "grid_template_areas": null,
            "object_position": null,
            "object_fit": null,
            "grid_auto_columns": null,
            "margin": null,
            "display": null,
            "left": null
          }
        },
        "4367aadc2e5648ab81ea4a89a5e30681": {
          "model_module": "@jupyter-widgets/controls",
          "model_name": "ProgressStyleModel",
          "model_module_version": "1.5.0",
          "state": {
            "_view_name": "StyleView",
            "_model_name": "ProgressStyleModel",
            "description_width": "",
            "_view_module": "@jupyter-widgets/base",
            "_model_module_version": "1.5.0",
            "_view_count": null,
            "_view_module_version": "1.2.0",
            "bar_color": null,
            "_model_module": "@jupyter-widgets/controls"
          }
        },
        "7356ff5c1bcb4074896918cb8aad0557": {
          "model_module": "@jupyter-widgets/base",
          "model_name": "LayoutModel",
          "model_module_version": "1.2.0",
          "state": {
            "_view_name": "LayoutView",
            "grid_template_rows": null,
            "right": null,
            "justify_content": null,
            "_view_module": "@jupyter-widgets/base",
            "overflow": null,
            "_model_module_version": "1.2.0",
            "_view_count": null,
            "flex_flow": null,
            "width": null,
            "min_width": null,
            "border": null,
            "align_items": null,
            "bottom": null,
            "_model_module": "@jupyter-widgets/base",
            "top": null,
            "grid_column": null,
            "overflow_y": null,
            "overflow_x": null,
            "grid_auto_flow": null,
            "grid_area": null,
            "grid_template_columns": null,
            "flex": null,
            "_model_name": "LayoutModel",
            "justify_items": null,
            "grid_row": null,
            "max_height": null,
            "align_content": null,
            "visibility": null,
            "align_self": null,
            "height": null,
            "min_height": null,
            "padding": null,
            "grid_auto_rows": null,
            "grid_gap": null,
            "max_width": null,
            "order": null,
            "_view_module_version": "1.2.0",
            "grid_template_areas": null,
            "object_position": null,
            "object_fit": null,
            "grid_auto_columns": null,
            "margin": null,
            "display": null,
            "left": null
          }
        },
        "f99bd009da5343a19447d136c2c003db": {
          "model_module": "@jupyter-widgets/controls",
          "model_name": "DescriptionStyleModel",
          "model_module_version": "1.5.0",
          "state": {
            "_view_name": "StyleView",
            "_model_name": "DescriptionStyleModel",
            "description_width": "",
            "_view_module": "@jupyter-widgets/base",
            "_model_module_version": "1.5.0",
            "_view_count": null,
            "_view_module_version": "1.2.0",
            "_model_module": "@jupyter-widgets/controls"
          }
        },
        "e8c21117c22c4899b7827a0d308aad72": {
          "model_module": "@jupyter-widgets/base",
          "model_name": "LayoutModel",
          "model_module_version": "1.2.0",
          "state": {
            "_view_name": "LayoutView",
            "grid_template_rows": null,
            "right": null,
            "justify_content": null,
            "_view_module": "@jupyter-widgets/base",
            "overflow": null,
            "_model_module_version": "1.2.0",
            "_view_count": null,
            "flex_flow": null,
            "width": null,
            "min_width": null,
            "border": null,
            "align_items": null,
            "bottom": null,
            "_model_module": "@jupyter-widgets/base",
            "top": null,
            "grid_column": null,
            "overflow_y": null,
            "overflow_x": null,
            "grid_auto_flow": null,
            "grid_area": null,
            "grid_template_columns": null,
            "flex": null,
            "_model_name": "LayoutModel",
            "justify_items": null,
            "grid_row": null,
            "max_height": null,
            "align_content": null,
            "visibility": null,
            "align_self": null,
            "height": null,
            "min_height": null,
            "padding": null,
            "grid_auto_rows": null,
            "grid_gap": null,
            "max_width": null,
            "order": null,
            "_view_module_version": "1.2.0",
            "grid_template_areas": null,
            "object_position": null,
            "object_fit": null,
            "grid_auto_columns": null,
            "margin": null,
            "display": null,
            "left": null
          }
        },
        "740ad30068ae4fd2a93db39942bfdb5b": {
          "model_module": "@jupyter-widgets/controls",
          "model_name": "HBoxModel",
          "model_module_version": "1.5.0",
          "state": {
            "_view_name": "HBoxView",
            "_dom_classes": [],
            "_model_name": "HBoxModel",
            "_view_module": "@jupyter-widgets/controls",
            "_model_module_version": "1.5.0",
            "_view_count": null,
            "_view_module_version": "1.5.0",
            "box_style": "",
            "layout": "IPY_MODEL_8c1209216bad4fe9af3723bd2a10d7b1",
            "_model_module": "@jupyter-widgets/controls",
            "children": [
              "IPY_MODEL_ae5c3a3deac44a36bf5daf261568ec7f",
              "IPY_MODEL_b13dac0f663c4ff68171c2fa6269bf5a",
              "IPY_MODEL_7f4410e4a73a4835a8a7d2fa047f35fd"
            ]
          }
        },
        "8c1209216bad4fe9af3723bd2a10d7b1": {
          "model_module": "@jupyter-widgets/base",
          "model_name": "LayoutModel",
          "model_module_version": "1.2.0",
          "state": {
            "_view_name": "LayoutView",
            "grid_template_rows": null,
            "right": null,
            "justify_content": null,
            "_view_module": "@jupyter-widgets/base",
            "overflow": null,
            "_model_module_version": "1.2.0",
            "_view_count": null,
            "flex_flow": null,
            "width": null,
            "min_width": null,
            "border": null,
            "align_items": null,
            "bottom": null,
            "_model_module": "@jupyter-widgets/base",
            "top": null,
            "grid_column": null,
            "overflow_y": null,
            "overflow_x": null,
            "grid_auto_flow": null,
            "grid_area": null,
            "grid_template_columns": null,
            "flex": null,
            "_model_name": "LayoutModel",
            "justify_items": null,
            "grid_row": null,
            "max_height": null,
            "align_content": null,
            "visibility": null,
            "align_self": null,
            "height": null,
            "min_height": null,
            "padding": null,
            "grid_auto_rows": null,
            "grid_gap": null,
            "max_width": null,
            "order": null,
            "_view_module_version": "1.2.0",
            "grid_template_areas": null,
            "object_position": null,
            "object_fit": null,
            "grid_auto_columns": null,
            "margin": null,
            "display": null,
            "left": null
          }
        },
        "ae5c3a3deac44a36bf5daf261568ec7f": {
          "model_module": "@jupyter-widgets/controls",
          "model_name": "HTMLModel",
          "model_module_version": "1.5.0",
          "state": {
            "_view_name": "HTMLView",
            "style": "IPY_MODEL_db72200cbcde421e805737b39dfc56d9",
            "_dom_classes": [],
            "description": "",
            "_model_name": "HTMLModel",
            "placeholder": "​",
            "_view_module": "@jupyter-widgets/controls",
            "_model_module_version": "1.5.0",
            "value": "test_words.txt: 100%",
            "_view_count": null,
            "_view_module_version": "1.5.0",
            "description_tooltip": null,
            "_model_module": "@jupyter-widgets/controls",
            "layout": "IPY_MODEL_a979bcc3aac749aa8c5684436ae74b3e"
          }
        },
        "b13dac0f663c4ff68171c2fa6269bf5a": {
          "model_module": "@jupyter-widgets/controls",
          "model_name": "FloatProgressModel",
          "model_module_version": "1.5.0",
          "state": {
            "_view_name": "ProgressView",
            "style": "IPY_MODEL_cf54176ce3b146e5873d1230df09bd86",
            "_dom_classes": [],
            "description": "",
            "_model_name": "FloatProgressModel",
            "bar_style": "success",
            "max": 1273,
            "_view_module": "@jupyter-widgets/controls",
            "_model_module_version": "1.5.0",
            "value": 1273,
            "_view_count": null,
            "_view_module_version": "1.5.0",
            "orientation": "horizontal",
            "min": 0,
            "description_tooltip": null,
            "_model_module": "@jupyter-widgets/controls",
            "layout": "IPY_MODEL_87c90ded983745d2bb349ca88edc5121"
          }
        },
        "7f4410e4a73a4835a8a7d2fa047f35fd": {
          "model_module": "@jupyter-widgets/controls",
          "model_name": "HTMLModel",
          "model_module_version": "1.5.0",
          "state": {
            "_view_name": "HTMLView",
            "style": "IPY_MODEL_22277d510cd147ed8004e603fc75dbff",
            "_dom_classes": [],
            "description": "",
            "_model_name": "HTMLModel",
            "placeholder": "​",
            "_view_module": "@jupyter-widgets/controls",
            "_model_module_version": "1.5.0",
            "value": " 1.27k/1.27k [00:00&lt;00:00, 12.8kB/s]",
            "_view_count": null,
            "_view_module_version": "1.5.0",
            "description_tooltip": null,
            "_model_module": "@jupyter-widgets/controls",
            "layout": "IPY_MODEL_b1bfbc106e544c2cbfd69d4d6635fafc"
          }
        },
        "db72200cbcde421e805737b39dfc56d9": {
          "model_module": "@jupyter-widgets/controls",
          "model_name": "DescriptionStyleModel",
          "model_module_version": "1.5.0",
          "state": {
            "_view_name": "StyleView",
            "_model_name": "DescriptionStyleModel",
            "description_width": "",
            "_view_module": "@jupyter-widgets/base",
            "_model_module_version": "1.5.0",
            "_view_count": null,
            "_view_module_version": "1.2.0",
            "_model_module": "@jupyter-widgets/controls"
          }
        },
        "a979bcc3aac749aa8c5684436ae74b3e": {
          "model_module": "@jupyter-widgets/base",
          "model_name": "LayoutModel",
          "model_module_version": "1.2.0",
          "state": {
            "_view_name": "LayoutView",
            "grid_template_rows": null,
            "right": null,
            "justify_content": null,
            "_view_module": "@jupyter-widgets/base",
            "overflow": null,
            "_model_module_version": "1.2.0",
            "_view_count": null,
            "flex_flow": null,
            "width": null,
            "min_width": null,
            "border": null,
            "align_items": null,
            "bottom": null,
            "_model_module": "@jupyter-widgets/base",
            "top": null,
            "grid_column": null,
            "overflow_y": null,
            "overflow_x": null,
            "grid_auto_flow": null,
            "grid_area": null,
            "grid_template_columns": null,
            "flex": null,
            "_model_name": "LayoutModel",
            "justify_items": null,
            "grid_row": null,
            "max_height": null,
            "align_content": null,
            "visibility": null,
            "align_self": null,
            "height": null,
            "min_height": null,
            "padding": null,
            "grid_auto_rows": null,
            "grid_gap": null,
            "max_width": null,
            "order": null,
            "_view_module_version": "1.2.0",
            "grid_template_areas": null,
            "object_position": null,
            "object_fit": null,
            "grid_auto_columns": null,
            "margin": null,
            "display": null,
            "left": null
          }
        },
        "cf54176ce3b146e5873d1230df09bd86": {
          "model_module": "@jupyter-widgets/controls",
          "model_name": "ProgressStyleModel",
          "model_module_version": "1.5.0",
          "state": {
            "_view_name": "StyleView",
            "_model_name": "ProgressStyleModel",
            "description_width": "",
            "_view_module": "@jupyter-widgets/base",
            "_model_module_version": "1.5.0",
            "_view_count": null,
            "_view_module_version": "1.2.0",
            "bar_color": null,
            "_model_module": "@jupyter-widgets/controls"
          }
        },
        "87c90ded983745d2bb349ca88edc5121": {
          "model_module": "@jupyter-widgets/base",
          "model_name": "LayoutModel",
          "model_module_version": "1.2.0",
          "state": {
            "_view_name": "LayoutView",
            "grid_template_rows": null,
            "right": null,
            "justify_content": null,
            "_view_module": "@jupyter-widgets/base",
            "overflow": null,
            "_model_module_version": "1.2.0",
            "_view_count": null,
            "flex_flow": null,
            "width": null,
            "min_width": null,
            "border": null,
            "align_items": null,
            "bottom": null,
            "_model_module": "@jupyter-widgets/base",
            "top": null,
            "grid_column": null,
            "overflow_y": null,
            "overflow_x": null,
            "grid_auto_flow": null,
            "grid_area": null,
            "grid_template_columns": null,
            "flex": null,
            "_model_name": "LayoutModel",
            "justify_items": null,
            "grid_row": null,
            "max_height": null,
            "align_content": null,
            "visibility": null,
            "align_self": null,
            "height": null,
            "min_height": null,
            "padding": null,
            "grid_auto_rows": null,
            "grid_gap": null,
            "max_width": null,
            "order": null,
            "_view_module_version": "1.2.0",
            "grid_template_areas": null,
            "object_position": null,
            "object_fit": null,
            "grid_auto_columns": null,
            "margin": null,
            "display": null,
            "left": null
          }
        },
        "22277d510cd147ed8004e603fc75dbff": {
          "model_module": "@jupyter-widgets/controls",
          "model_name": "DescriptionStyleModel",
          "model_module_version": "1.5.0",
          "state": {
            "_view_name": "StyleView",
            "_model_name": "DescriptionStyleModel",
            "description_width": "",
            "_view_module": "@jupyter-widgets/base",
            "_model_module_version": "1.5.0",
            "_view_count": null,
            "_view_module_version": "1.2.0",
            "_model_module": "@jupyter-widgets/controls"
          }
        },
        "b1bfbc106e544c2cbfd69d4d6635fafc": {
          "model_module": "@jupyter-widgets/base",
          "model_name": "LayoutModel",
          "model_module_version": "1.2.0",
          "state": {
            "_view_name": "LayoutView",
            "grid_template_rows": null,
            "right": null,
            "justify_content": null,
            "_view_module": "@jupyter-widgets/base",
            "overflow": null,
            "_model_module_version": "1.2.0",
            "_view_count": null,
            "flex_flow": null,
            "width": null,
            "min_width": null,
            "border": null,
            "align_items": null,
            "bottom": null,
            "_model_module": "@jupyter-widgets/base",
            "top": null,
            "grid_column": null,
            "overflow_y": null,
            "overflow_x": null,
            "grid_auto_flow": null,
            "grid_area": null,
            "grid_template_columns": null,
            "flex": null,
            "_model_name": "LayoutModel",
            "justify_items": null,
            "grid_row": null,
            "max_height": null,
            "align_content": null,
            "visibility": null,
            "align_self": null,
            "height": null,
            "min_height": null,
            "padding": null,
            "grid_auto_rows": null,
            "grid_gap": null,
            "max_width": null,
            "order": null,
            "_view_module_version": "1.2.0",
            "grid_template_areas": null,
            "object_position": null,
            "object_fit": null,
            "grid_auto_columns": null,
            "margin": null,
            "display": null,
            "left": null
          }
        },
        "55832379205c4534adc9aa347512f8ed": {
          "model_module": "@jupyter-widgets/controls",
          "model_name": "HBoxModel",
          "model_module_version": "1.5.0",
          "state": {
            "_view_name": "HBoxView",
            "_dom_classes": [],
            "_model_name": "HBoxModel",
            "_view_module": "@jupyter-widgets/controls",
            "_model_module_version": "1.5.0",
            "_view_count": null,
            "_view_module_version": "1.5.0",
            "box_style": "",
            "layout": "IPY_MODEL_3add1d841f4649289a21bfcabc0e2b4f",
            "_model_module": "@jupyter-widgets/controls",
            "children": [
              "IPY_MODEL_c26a3b72fb6c46c4b26a18dfdedd4cde",
              "IPY_MODEL_e646256d46b34b57888f8cf966ffe0d2",
              "IPY_MODEL_792ded33a9564cae9f12f75c0a584e49"
            ]
          }
        },
        "3add1d841f4649289a21bfcabc0e2b4f": {
          "model_module": "@jupyter-widgets/base",
          "model_name": "LayoutModel",
          "model_module_version": "1.2.0",
          "state": {
            "_view_name": "LayoutView",
            "grid_template_rows": null,
            "right": null,
            "justify_content": null,
            "_view_module": "@jupyter-widgets/base",
            "overflow": null,
            "_model_module_version": "1.2.0",
            "_view_count": null,
            "flex_flow": null,
            "width": null,
            "min_width": null,
            "border": null,
            "align_items": null,
            "bottom": null,
            "_model_module": "@jupyter-widgets/base",
            "top": null,
            "grid_column": null,
            "overflow_y": null,
            "overflow_x": null,
            "grid_auto_flow": null,
            "grid_area": null,
            "grid_template_columns": null,
            "flex": null,
            "_model_name": "LayoutModel",
            "justify_items": null,
            "grid_row": null,
            "max_height": null,
            "align_content": null,
            "visibility": null,
            "align_self": null,
            "height": null,
            "min_height": null,
            "padding": null,
            "grid_auto_rows": null,
            "grid_gap": null,
            "max_width": null,
            "order": null,
            "_view_module_version": "1.2.0",
            "grid_template_areas": null,
            "object_position": null,
            "object_fit": null,
            "grid_auto_columns": null,
            "margin": null,
            "display": null,
            "left": null
          }
        },
        "c26a3b72fb6c46c4b26a18dfdedd4cde": {
          "model_module": "@jupyter-widgets/controls",
          "model_name": "HTMLModel",
          "model_module_version": "1.5.0",
          "state": {
            "_view_name": "HTMLView",
            "style": "IPY_MODEL_5535cc107dfa497f8c548cafadca7fca",
            "_dom_classes": [],
            "description": "",
            "_model_name": "HTMLModel",
            "placeholder": "​",
            "_view_module": "@jupyter-widgets/controls",
            "_model_module_version": "1.5.0",
            "value": "train_labels.csv: 100%",
            "_view_count": null,
            "_view_module_version": "1.5.0",
            "description_tooltip": null,
            "_model_module": "@jupyter-widgets/controls",
            "layout": "IPY_MODEL_5cddc5a994d249ffbd4e865218b1a0eb"
          }
        },
        "e646256d46b34b57888f8cf966ffe0d2": {
          "model_module": "@jupyter-widgets/controls",
          "model_name": "FloatProgressModel",
          "model_module_version": "1.5.0",
          "state": {
            "_view_name": "ProgressView",
            "style": "IPY_MODEL_d47f5237289549438e8cab628d1c1ed0",
            "_dom_classes": [],
            "description": "",
            "_model_name": "FloatProgressModel",
            "bar_style": "success",
            "max": 507270,
            "_view_module": "@jupyter-widgets/controls",
            "_model_module_version": "1.5.0",
            "value": 507270,
            "_view_count": null,
            "_view_module_version": "1.5.0",
            "orientation": "horizontal",
            "min": 0,
            "description_tooltip": null,
            "_model_module": "@jupyter-widgets/controls",
            "layout": "IPY_MODEL_b6879d2bfa82439cb9833a9e018aba37"
          }
        },
        "792ded33a9564cae9f12f75c0a584e49": {
          "model_module": "@jupyter-widgets/controls",
          "model_name": "HTMLModel",
          "model_module_version": "1.5.0",
          "state": {
            "_view_name": "HTMLView",
            "style": "IPY_MODEL_c13b94e0e4df4738ba22ffa31ade322e",
            "_dom_classes": [],
            "description": "",
            "_model_name": "HTMLModel",
            "placeholder": "​",
            "_view_module": "@jupyter-widgets/controls",
            "_model_module_version": "1.5.0",
            "value": " 507k/507k [00:00&lt;00:00, 1.15MB/s]",
            "_view_count": null,
            "_view_module_version": "1.5.0",
            "description_tooltip": null,
            "_model_module": "@jupyter-widgets/controls",
            "layout": "IPY_MODEL_d70eccefb3cf4639bc8ecf0a91626ae2"
          }
        },
        "5535cc107dfa497f8c548cafadca7fca": {
          "model_module": "@jupyter-widgets/controls",
          "model_name": "DescriptionStyleModel",
          "model_module_version": "1.5.0",
          "state": {
            "_view_name": "StyleView",
            "_model_name": "DescriptionStyleModel",
            "description_width": "",
            "_view_module": "@jupyter-widgets/base",
            "_model_module_version": "1.5.0",
            "_view_count": null,
            "_view_module_version": "1.2.0",
            "_model_module": "@jupyter-widgets/controls"
          }
        },
        "5cddc5a994d249ffbd4e865218b1a0eb": {
          "model_module": "@jupyter-widgets/base",
          "model_name": "LayoutModel",
          "model_module_version": "1.2.0",
          "state": {
            "_view_name": "LayoutView",
            "grid_template_rows": null,
            "right": null,
            "justify_content": null,
            "_view_module": "@jupyter-widgets/base",
            "overflow": null,
            "_model_module_version": "1.2.0",
            "_view_count": null,
            "flex_flow": null,
            "width": null,
            "min_width": null,
            "border": null,
            "align_items": null,
            "bottom": null,
            "_model_module": "@jupyter-widgets/base",
            "top": null,
            "grid_column": null,
            "overflow_y": null,
            "overflow_x": null,
            "grid_auto_flow": null,
            "grid_area": null,
            "grid_template_columns": null,
            "flex": null,
            "_model_name": "LayoutModel",
            "justify_items": null,
            "grid_row": null,
            "max_height": null,
            "align_content": null,
            "visibility": null,
            "align_self": null,
            "height": null,
            "min_height": null,
            "padding": null,
            "grid_auto_rows": null,
            "grid_gap": null,
            "max_width": null,
            "order": null,
            "_view_module_version": "1.2.0",
            "grid_template_areas": null,
            "object_position": null,
            "object_fit": null,
            "grid_auto_columns": null,
            "margin": null,
            "display": null,
            "left": null
          }
        },
        "d47f5237289549438e8cab628d1c1ed0": {
          "model_module": "@jupyter-widgets/controls",
          "model_name": "ProgressStyleModel",
          "model_module_version": "1.5.0",
          "state": {
            "_view_name": "StyleView",
            "_model_name": "ProgressStyleModel",
            "description_width": "",
            "_view_module": "@jupyter-widgets/base",
            "_model_module_version": "1.5.0",
            "_view_count": null,
            "_view_module_version": "1.2.0",
            "bar_color": null,
            "_model_module": "@jupyter-widgets/controls"
          }
        },
        "b6879d2bfa82439cb9833a9e018aba37": {
          "model_module": "@jupyter-widgets/base",
          "model_name": "LayoutModel",
          "model_module_version": "1.2.0",
          "state": {
            "_view_name": "LayoutView",
            "grid_template_rows": null,
            "right": null,
            "justify_content": null,
            "_view_module": "@jupyter-widgets/base",
            "overflow": null,
            "_model_module_version": "1.2.0",
            "_view_count": null,
            "flex_flow": null,
            "width": null,
            "min_width": null,
            "border": null,
            "align_items": null,
            "bottom": null,
            "_model_module": "@jupyter-widgets/base",
            "top": null,
            "grid_column": null,
            "overflow_y": null,
            "overflow_x": null,
            "grid_auto_flow": null,
            "grid_area": null,
            "grid_template_columns": null,
            "flex": null,
            "_model_name": "LayoutModel",
            "justify_items": null,
            "grid_row": null,
            "max_height": null,
            "align_content": null,
            "visibility": null,
            "align_self": null,
            "height": null,
            "min_height": null,
            "padding": null,
            "grid_auto_rows": null,
            "grid_gap": null,
            "max_width": null,
            "order": null,
            "_view_module_version": "1.2.0",
            "grid_template_areas": null,
            "object_position": null,
            "object_fit": null,
            "grid_auto_columns": null,
            "margin": null,
            "display": null,
            "left": null
          }
        },
        "c13b94e0e4df4738ba22ffa31ade322e": {
          "model_module": "@jupyter-widgets/controls",
          "model_name": "DescriptionStyleModel",
          "model_module_version": "1.5.0",
          "state": {
            "_view_name": "StyleView",
            "_model_name": "DescriptionStyleModel",
            "description_width": "",
            "_view_module": "@jupyter-widgets/base",
            "_model_module_version": "1.5.0",
            "_view_count": null,
            "_view_module_version": "1.2.0",
            "_model_module": "@jupyter-widgets/controls"
          }
        },
        "d70eccefb3cf4639bc8ecf0a91626ae2": {
          "model_module": "@jupyter-widgets/base",
          "model_name": "LayoutModel",
          "model_module_version": "1.2.0",
          "state": {
            "_view_name": "LayoutView",
            "grid_template_rows": null,
            "right": null,
            "justify_content": null,
            "_view_module": "@jupyter-widgets/base",
            "overflow": null,
            "_model_module_version": "1.2.0",
            "_view_count": null,
            "flex_flow": null,
            "width": null,
            "min_width": null,
            "border": null,
            "align_items": null,
            "bottom": null,
            "_model_module": "@jupyter-widgets/base",
            "top": null,
            "grid_column": null,
            "overflow_y": null,
            "overflow_x": null,
            "grid_auto_flow": null,
            "grid_area": null,
            "grid_template_columns": null,
            "flex": null,
            "_model_name": "LayoutModel",
            "justify_items": null,
            "grid_row": null,
            "max_height": null,
            "align_content": null,
            "visibility": null,
            "align_self": null,
            "height": null,
            "min_height": null,
            "padding": null,
            "grid_auto_rows": null,
            "grid_gap": null,
            "max_width": null,
            "order": null,
            "_view_module_version": "1.2.0",
            "grid_template_areas": null,
            "object_position": null,
            "object_fit": null,
            "grid_auto_columns": null,
            "margin": null,
            "display": null,
            "left": null
          }
        },
        "8b62a80b484b47d8a4a52daf44596e52": {
          "model_module": "@jupyter-widgets/output",
          "model_name": "OutputModel",
          "model_module_version": "1.0.0",
          "state": {
            "_view_name": "OutputView",
            "msg_id": "",
            "_dom_classes": [],
            "_model_name": "OutputModel",
            "outputs": [
              {
                "output_type": "display_data",
                "data": {
                  "text/html": "<pre style=\"white-space:pre;overflow-x:auto;line-height:normal;font-family:Menlo,'DejaVu Sans Mono',consolas,'Courier New',monospace\"><span style=\"color: #000080; text-decoration-color: #000080; font-weight: bold\">submission.zip</span> <span style=\"color: #729c1f; text-decoration-color: #729c1f\">━━━━━━━━━━━━━━━━━━━━━━━━━━━━━━━</span> <span style=\"color: #800080; text-decoration-color: #800080\">100.0%</span> • <span style=\"color: #008000; text-decoration-color: #008000\">267.0/265.4 KB</span> • <span style=\"color: #800000; text-decoration-color: #800000\">446.6 kB/s</span> • <span style=\"color: #008080; text-decoration-color: #008080\">0:00:00</span>\n</pre>\n",
                  "text/plain": "\u001b[1;34msubmission.zip\u001b[0m \u001b[38;2;114;156;31m━━━━━━━━━━━━━━━━━━━━━━━━━━━━━━━\u001b[0m \u001b[35m100.0%\u001b[0m • \u001b[32m267.0/265.4 KB\u001b[0m • \u001b[31m446.6 kB/s\u001b[0m • \u001b[36m0:00:00\u001b[0m\n"
                },
                "metadata": {}
              }
            ],
            "_view_module": "@jupyter-widgets/output",
            "_model_module_version": "1.0.0",
            "_view_count": null,
            "_view_module_version": "1.0.0",
            "layout": "IPY_MODEL_b11f437d69e84306b42b0b762fce30ea",
            "_model_module": "@jupyter-widgets/output"
          }
        },
        "b11f437d69e84306b42b0b762fce30ea": {
          "model_module": "@jupyter-widgets/base",
          "model_name": "LayoutModel",
          "model_module_version": "1.2.0",
          "state": {
            "_view_name": "LayoutView",
            "grid_template_rows": null,
            "right": null,
            "justify_content": null,
            "_view_module": "@jupyter-widgets/base",
            "overflow": null,
            "_model_module_version": "1.2.0",
            "_view_count": null,
            "flex_flow": null,
            "width": null,
            "min_width": null,
            "border": null,
            "align_items": null,
            "bottom": null,
            "_model_module": "@jupyter-widgets/base",
            "top": null,
            "grid_column": null,
            "overflow_y": null,
            "overflow_x": null,
            "grid_auto_flow": null,
            "grid_area": null,
            "grid_template_columns": null,
            "flex": null,
            "_model_name": "LayoutModel",
            "justify_items": null,
            "grid_row": null,
            "max_height": null,
            "align_content": null,
            "visibility": null,
            "align_self": null,
            "height": null,
            "min_height": null,
            "padding": null,
            "grid_auto_rows": null,
            "grid_gap": null,
            "max_width": null,
            "order": null,
            "_view_module_version": "1.2.0",
            "grid_template_areas": null,
            "object_position": null,
            "object_fit": null,
            "grid_auto_columns": null,
            "margin": null,
            "display": null,
            "left": null
          }
        }
      }
    }
  },
  "cells": [
    {
      "cell_type": "code",
      "execution_count": null,
      "metadata": {
        "id": "qjBoKtfV1Iub",
        "colab": {
          "base_uri": "https://localhost:8080/",
          "height": 1000
        },
        "outputId": "8944054c-cf69-4cb7-a269-53c5bade3831"
      },
      "outputs": [
        {
          "output_type": "stream",
          "name": "stdout",
          "text": [
            "Collecting aicrowd-cli\n",
            "  Downloading aicrowd_cli-0.1.10-py3-none-any.whl (44 kB)\n",
            "\u001b[?25l\r\u001b[K     |███████▎                        | 10 kB 16.3 MB/s eta 0:00:01\r\u001b[K     |██████████████▋                 | 20 kB 17.3 MB/s eta 0:00:01\r\u001b[K     |██████████████████████          | 30 kB 20.3 MB/s eta 0:00:01\r\u001b[K     |█████████████████████████████▎  | 40 kB 21.7 MB/s eta 0:00:01\r\u001b[K     |████████████████████████████████| 44 kB 1.4 MB/s \n",
            "\u001b[?25hCollecting requests-toolbelt<1,>=0.9.1\n",
            "  Downloading requests_toolbelt-0.9.1-py2.py3-none-any.whl (54 kB)\n",
            "\u001b[K     |████████████████████████████████| 54 kB 1.9 MB/s \n",
            "\u001b[?25hCollecting pyzmq==22.1.0\n",
            "  Downloading pyzmq-22.1.0-cp37-cp37m-manylinux1_x86_64.whl (1.1 MB)\n",
            "\u001b[K     |████████████████████████████████| 1.1 MB 47.0 MB/s \n",
            "\u001b[?25hRequirement already satisfied: click<8,>=7.1.2 in /usr/local/lib/python3.7/dist-packages (from aicrowd-cli) (7.1.2)\n",
            "Collecting GitPython==3.1.18\n",
            "  Downloading GitPython-3.1.18-py3-none-any.whl (170 kB)\n",
            "\u001b[K     |████████████████████████████████| 170 kB 62.9 MB/s \n",
            "\u001b[?25hRequirement already satisfied: tqdm<5,>=4.56.0 in /usr/local/lib/python3.7/dist-packages (from aicrowd-cli) (4.62.3)\n",
            "Requirement already satisfied: toml<1,>=0.10.2 in /usr/local/lib/python3.7/dist-packages (from aicrowd-cli) (0.10.2)\n",
            "Collecting rich<11,>=10.0.0\n",
            "  Downloading rich-10.16.1-py3-none-any.whl (214 kB)\n",
            "\u001b[K     |████████████████████████████████| 214 kB 64.4 MB/s \n",
            "\u001b[?25hCollecting requests<3,>=2.25.1\n",
            "  Downloading requests-2.26.0-py2.py3-none-any.whl (62 kB)\n",
            "\u001b[K     |████████████████████████████████| 62 kB 886 kB/s \n",
            "\u001b[?25hRequirement already satisfied: typing-extensions>=3.7.4.0 in /usr/local/lib/python3.7/dist-packages (from GitPython==3.1.18->aicrowd-cli) (3.10.0.2)\n",
            "Collecting gitdb<5,>=4.0.1\n",
            "  Downloading gitdb-4.0.9-py3-none-any.whl (63 kB)\n",
            "\u001b[K     |████████████████████████████████| 63 kB 1.7 MB/s \n",
            "\u001b[?25hCollecting smmap<6,>=3.0.1\n",
            "  Downloading smmap-5.0.0-py3-none-any.whl (24 kB)\n",
            "Requirement already satisfied: charset-normalizer~=2.0.0 in /usr/local/lib/python3.7/dist-packages (from requests<3,>=2.25.1->aicrowd-cli) (2.0.8)\n",
            "Requirement already satisfied: certifi>=2017.4.17 in /usr/local/lib/python3.7/dist-packages (from requests<3,>=2.25.1->aicrowd-cli) (2021.10.8)\n",
            "Requirement already satisfied: idna<4,>=2.5 in /usr/local/lib/python3.7/dist-packages (from requests<3,>=2.25.1->aicrowd-cli) (2.10)\n",
            "Requirement already satisfied: urllib3<1.27,>=1.21.1 in /usr/local/lib/python3.7/dist-packages (from requests<3,>=2.25.1->aicrowd-cli) (1.24.3)\n",
            "Collecting colorama<0.5.0,>=0.4.0\n",
            "  Downloading colorama-0.4.4-py2.py3-none-any.whl (16 kB)\n",
            "Collecting commonmark<0.10.0,>=0.9.0\n",
            "  Downloading commonmark-0.9.1-py2.py3-none-any.whl (51 kB)\n",
            "\u001b[K     |████████████████████████████████| 51 kB 6.5 MB/s \n",
            "\u001b[?25hRequirement already satisfied: pygments<3.0.0,>=2.6.0 in /usr/local/lib/python3.7/dist-packages (from rich<11,>=10.0.0->aicrowd-cli) (2.6.1)\n",
            "Installing collected packages: smmap, requests, gitdb, commonmark, colorama, rich, requests-toolbelt, pyzmq, GitPython, aicrowd-cli\n",
            "  Attempting uninstall: requests\n",
            "    Found existing installation: requests 2.23.0\n",
            "    Uninstalling requests-2.23.0:\n",
            "      Successfully uninstalled requests-2.23.0\n",
            "  Attempting uninstall: pyzmq\n",
            "    Found existing installation: pyzmq 22.3.0\n",
            "    Uninstalling pyzmq-22.3.0:\n",
            "      Successfully uninstalled pyzmq-22.3.0\n",
            "\u001b[31mERROR: pip's dependency resolver does not currently take into account all the packages that are installed. This behaviour is the source of the following dependency conflicts.\n",
            "google-colab 1.0.0 requires requests~=2.23.0, but you have requests 2.26.0 which is incompatible.\n",
            "datascience 0.10.6 requires folium==0.2.1, but you have folium 0.8.3 which is incompatible.\u001b[0m\n",
            "Successfully installed GitPython-3.1.18 aicrowd-cli-0.1.10 colorama-0.4.4 commonmark-0.9.1 gitdb-4.0.9 pyzmq-22.1.0 requests-2.26.0 requests-toolbelt-0.9.1 rich-10.16.1 smmap-5.0.0\n"
          ]
        },
        {
          "output_type": "display_data",
          "data": {
            "application/vnd.colab-display-data+json": {
              "pip_warning": {
                "packages": [
                  "zmq"
                ]
              }
            }
          },
          "metadata": {}
        }
      ],
      "source": [
        "!pip install aicrowd-cli\n",
        "%load_ext aicrowd.magic"
      ]
    },
    {
      "cell_type": "code",
      "source": [
        "%aicrowd login"
      ],
      "metadata": {
        "colab": {
          "base_uri": "https://localhost:8080/"
        },
        "id": "e30axZ3Z1aYA",
        "outputId": "fb522fa0-9ff4-4a4e-e557-685c3ab2c9c4"
      },
      "execution_count": null,
      "outputs": [
        {
          "output_type": "stream",
          "name": "stdout",
          "text": [
            "Please login here: \u001b[34m\u001b[1m\u001b[4mhttps://api.aicrowd.com/auth/jrkPj0d4QdnvF0sEyoxwfrrRYo7dET6AUXXIJ8QUAww\u001b[0m\n",
            "\u001b[32mAPI Key valid\u001b[0m\n",
            "\u001b[32mSaved API Key successfully!\u001b[0m\n"
          ]
        }
      ]
    },
    {
      "cell_type": "code",
      "source": [
        "!rm -rf data\n",
        "!mkdir data\n",
        "%aicrowd ds dl -c embedding-game -o data"
      ],
      "metadata": {
        "colab": {
          "base_uri": "https://localhost:8080/",
          "height": 145,
          "referenced_widgets": [
            "12cf08f088344c37babca2838563ffa2",
            "5e0a4c839d9b41c883f2b389a8e0e607",
            "dd259680abc44d45b305cbb0c12dd77b",
            "6b11515682414b74a036902f72d3a3f5",
            "a5fbd63fa4084723a3037e400e3fb389",
            "14310beac22d40639128bc102bc997a4",
            "60ace706989042bb9b72fab6f90932b1",
            "df3ae1ad23d245018ba151c8d3336543",
            "525cb82ce9c44265bab18788a642454d",
            "4b7f99ca319d49d3a506a847493c34e8",
            "9581ae71f6b640be8fc211d0c397e33a",
            "356eaf185b984ad89902a805dd8c2c12",
            "79fcf25213f847a8bca11f70c379a988",
            "980047271ab44a8d9a01e3f20260f5b6",
            "7702e2878fae40b180e2b0a5397dec47",
            "e1293180bd984bd6964887e781e6f59d",
            "c008dfcce26247f4a18c91cb1d1bc8e2",
            "edd8c6c2e80848f4857a4269c2da42c0",
            "4367aadc2e5648ab81ea4a89a5e30681",
            "7356ff5c1bcb4074896918cb8aad0557",
            "f99bd009da5343a19447d136c2c003db",
            "e8c21117c22c4899b7827a0d308aad72",
            "740ad30068ae4fd2a93db39942bfdb5b",
            "8c1209216bad4fe9af3723bd2a10d7b1",
            "ae5c3a3deac44a36bf5daf261568ec7f",
            "b13dac0f663c4ff68171c2fa6269bf5a",
            "7f4410e4a73a4835a8a7d2fa047f35fd",
            "db72200cbcde421e805737b39dfc56d9",
            "a979bcc3aac749aa8c5684436ae74b3e",
            "cf54176ce3b146e5873d1230df09bd86",
            "87c90ded983745d2bb349ca88edc5121",
            "22277d510cd147ed8004e603fc75dbff",
            "b1bfbc106e544c2cbfd69d4d6635fafc",
            "55832379205c4534adc9aa347512f8ed",
            "3add1d841f4649289a21bfcabc0e2b4f",
            "c26a3b72fb6c46c4b26a18dfdedd4cde",
            "e646256d46b34b57888f8cf966ffe0d2",
            "792ded33a9564cae9f12f75c0a584e49",
            "5535cc107dfa497f8c548cafadca7fca",
            "5cddc5a994d249ffbd4e865218b1a0eb",
            "d47f5237289549438e8cab628d1c1ed0",
            "b6879d2bfa82439cb9833a9e018aba37",
            "c13b94e0e4df4738ba22ffa31ade322e",
            "d70eccefb3cf4639bc8ecf0a91626ae2"
          ]
        },
        "id": "peGBv5Ka1aaB",
        "outputId": "60c1afa2-b6ed-45b2-fd44-92e171dfa03c"
      },
      "execution_count": null,
      "outputs": [
        {
          "output_type": "display_data",
          "data": {
            "application/vnd.jupyter.widget-view+json": {
              "model_id": "12cf08f088344c37babca2838563ffa2",
              "version_minor": 0,
              "version_major": 2
            },
            "text/plain": [
              "placeholder_vectors.csv:   0%|          | 0.00/599k [00:00<?, ?B/s]"
            ]
          },
          "metadata": {}
        },
        {
          "output_type": "display_data",
          "data": {
            "application/vnd.jupyter.widget-view+json": {
              "model_id": "356eaf185b984ad89902a805dd8c2c12",
              "version_minor": 0,
              "version_major": 2
            },
            "text/plain": [
              "sample_submission.csv:   0%|          | 0.00/5.86k [00:00<?, ?B/s]"
            ]
          },
          "metadata": {}
        },
        {
          "output_type": "display_data",
          "data": {
            "application/vnd.jupyter.widget-view+json": {
              "model_id": "740ad30068ae4fd2a93db39942bfdb5b",
              "version_minor": 0,
              "version_major": 2
            },
            "text/plain": [
              "test_words.txt:   0%|          | 0.00/1.27k [00:00<?, ?B/s]"
            ]
          },
          "metadata": {}
        },
        {
          "output_type": "display_data",
          "data": {
            "application/vnd.jupyter.widget-view+json": {
              "model_id": "55832379205c4534adc9aa347512f8ed",
              "version_minor": 0,
              "version_major": 2
            },
            "text/plain": [
              "train_labels.csv:   0%|          | 0.00/507k [00:00<?, ?B/s]"
            ]
          },
          "metadata": {}
        }
      ]
    },
    {
      "cell_type": "code",
      "source": [
        "import pandas as pd\n",
        "import numpy as np\n",
        "import os\n",
        "import json\n",
        "import ast\n",
        "from sklearn.metrics.pairwise import cosine_similarity\n",
        "\n",
        "from gensim.models import Word2Vec\n",
        "import nltk\n",
        "nltk.download('punkt')"
      ],
      "metadata": {
        "colab": {
          "base_uri": "https://localhost:8080/"
        },
        "id": "8SUW8GzL1abk",
        "outputId": "657ce7ec-b5bd-4a33-d752-1a39472ea044"
      },
      "execution_count": null,
      "outputs": [
        {
          "output_type": "stream",
          "name": "stdout",
          "text": [
            "[nltk_data] Downloading package punkt to /root/nltk_data...\n",
            "[nltk_data]   Unzipping tokenizers/punkt.zip.\n"
          ]
        },
        {
          "output_type": "execute_result",
          "data": {
            "text/plain": [
              "True"
            ]
          },
          "metadata": {},
          "execution_count": 4
        }
      ]
    },
    {
      "cell_type": "code",
      "source": [
        "train_df = pd.read_csv(\"data/train_labels.csv\")"
      ],
      "metadata": {
        "id": "JSOjyIBB1ad_"
      },
      "execution_count": null,
      "outputs": []
    },
    {
      "cell_type": "code",
      "source": [
        "train_df.head()"
      ],
      "metadata": {
        "colab": {
          "base_uri": "https://localhost:8080/",
          "height": 206
        },
        "id": "RDtvjrcN1agR",
        "outputId": "deb56abd-cb61-41a0-e308-54e82d49dc84"
      },
      "execution_count": null,
      "outputs": [
        {
          "output_type": "execute_result",
          "data": {
            "text/html": [
              "\n",
              "  <div id=\"df-f33b6572-0ce6-4436-9823-a5a4ab4c5106\">\n",
              "    <div class=\"colab-df-container\">\n",
              "      <div>\n",
              "<style scoped>\n",
              "    .dataframe tbody tr th:only-of-type {\n",
              "        vertical-align: middle;\n",
              "    }\n",
              "\n",
              "    .dataframe tbody tr th {\n",
              "        vertical-align: top;\n",
              "    }\n",
              "\n",
              "    .dataframe thead th {\n",
              "        text-align: right;\n",
              "    }\n",
              "</style>\n",
              "<table border=\"1\" class=\"dataframe\">\n",
              "  <thead>\n",
              "    <tr style=\"text-align: right;\">\n",
              "      <th></th>\n",
              "      <th>embeddings</th>\n",
              "      <th>label</th>\n",
              "    </tr>\n",
              "  </thead>\n",
              "  <tbody>\n",
              "    <tr>\n",
              "      <th>0</th>\n",
              "      <td>[0.525386, 0.61333424, 0.62004805, 0.5554309, ...</td>\n",
              "      <td>exchanges</td>\n",
              "    </tr>\n",
              "    <tr>\n",
              "      <th>1</th>\n",
              "      <td>[0.5653091, 0.61592805, 0.54518753, 0.575984, ...</td>\n",
              "      <td>equines</td>\n",
              "    </tr>\n",
              "    <tr>\n",
              "      <th>2</th>\n",
              "      <td>[0.69483936, 0.59534645, 0.5720794, 0.7992547,...</td>\n",
              "      <td>Was</td>\n",
              "    </tr>\n",
              "    <tr>\n",
              "      <th>3</th>\n",
              "      <td>[0.59585017, 0.5326628, 0.6304897, 0.6168022, ...</td>\n",
              "      <td>systems</td>\n",
              "    </tr>\n",
              "    <tr>\n",
              "      <th>4</th>\n",
              "      <td>[0.6212443, 0.53205186, 0.5439351, 0.5772528, ...</td>\n",
              "      <td>remainder</td>\n",
              "    </tr>\n",
              "  </tbody>\n",
              "</table>\n",
              "</div>\n",
              "      <button class=\"colab-df-convert\" onclick=\"convertToInteractive('df-f33b6572-0ce6-4436-9823-a5a4ab4c5106')\"\n",
              "              title=\"Convert this dataframe to an interactive table.\"\n",
              "              style=\"display:none;\">\n",
              "        \n",
              "  <svg xmlns=\"http://www.w3.org/2000/svg\" height=\"24px\"viewBox=\"0 0 24 24\"\n",
              "       width=\"24px\">\n",
              "    <path d=\"M0 0h24v24H0V0z\" fill=\"none\"/>\n",
              "    <path d=\"M18.56 5.44l.94 2.06.94-2.06 2.06-.94-2.06-.94-.94-2.06-.94 2.06-2.06.94zm-11 1L8.5 8.5l.94-2.06 2.06-.94-2.06-.94L8.5 2.5l-.94 2.06-2.06.94zm10 10l.94 2.06.94-2.06 2.06-.94-2.06-.94-.94-2.06-.94 2.06-2.06.94z\"/><path d=\"M17.41 7.96l-1.37-1.37c-.4-.4-.92-.59-1.43-.59-.52 0-1.04.2-1.43.59L10.3 9.45l-7.72 7.72c-.78.78-.78 2.05 0 2.83L4 21.41c.39.39.9.59 1.41.59.51 0 1.02-.2 1.41-.59l7.78-7.78 2.81-2.81c.8-.78.8-2.07 0-2.86zM5.41 20L4 18.59l7.72-7.72 1.47 1.35L5.41 20z\"/>\n",
              "  </svg>\n",
              "      </button>\n",
              "      \n",
              "  <style>\n",
              "    .colab-df-container {\n",
              "      display:flex;\n",
              "      flex-wrap:wrap;\n",
              "      gap: 12px;\n",
              "    }\n",
              "\n",
              "    .colab-df-convert {\n",
              "      background-color: #E8F0FE;\n",
              "      border: none;\n",
              "      border-radius: 50%;\n",
              "      cursor: pointer;\n",
              "      display: none;\n",
              "      fill: #1967D2;\n",
              "      height: 32px;\n",
              "      padding: 0 0 0 0;\n",
              "      width: 32px;\n",
              "    }\n",
              "\n",
              "    .colab-df-convert:hover {\n",
              "      background-color: #E2EBFA;\n",
              "      box-shadow: 0px 1px 2px rgba(60, 64, 67, 0.3), 0px 1px 3px 1px rgba(60, 64, 67, 0.15);\n",
              "      fill: #174EA6;\n",
              "    }\n",
              "\n",
              "    [theme=dark] .colab-df-convert {\n",
              "      background-color: #3B4455;\n",
              "      fill: #D2E3FC;\n",
              "    }\n",
              "\n",
              "    [theme=dark] .colab-df-convert:hover {\n",
              "      background-color: #434B5C;\n",
              "      box-shadow: 0px 1px 3px 1px rgba(0, 0, 0, 0.15);\n",
              "      filter: drop-shadow(0px 1px 2px rgba(0, 0, 0, 0.3));\n",
              "      fill: #FFFFFF;\n",
              "    }\n",
              "  </style>\n",
              "\n",
              "      <script>\n",
              "        const buttonEl =\n",
              "          document.querySelector('#df-f33b6572-0ce6-4436-9823-a5a4ab4c5106 button.colab-df-convert');\n",
              "        buttonEl.style.display =\n",
              "          google.colab.kernel.accessAllowed ? 'block' : 'none';\n",
              "\n",
              "        async function convertToInteractive(key) {\n",
              "          const element = document.querySelector('#df-f33b6572-0ce6-4436-9823-a5a4ab4c5106');\n",
              "          const dataTable =\n",
              "            await google.colab.kernel.invokeFunction('convertToInteractive',\n",
              "                                                     [key], {});\n",
              "          if (!dataTable) return;\n",
              "\n",
              "          const docLinkHtml = 'Like what you see? Visit the ' +\n",
              "            '<a target=\"_blank\" href=https://colab.research.google.com/notebooks/data_table.ipynb>data table notebook</a>'\n",
              "            + ' to learn more about interactive tables.';\n",
              "          element.innerHTML = '';\n",
              "          dataTable['output_type'] = 'display_data';\n",
              "          await google.colab.output.renderOutput(dataTable, element);\n",
              "          const docLink = document.createElement('div');\n",
              "          docLink.innerHTML = docLinkHtml;\n",
              "          element.appendChild(docLink);\n",
              "        }\n",
              "      </script>\n",
              "    </div>\n",
              "  </div>\n",
              "  "
            ],
            "text/plain": [
              "                                          embeddings      label\n",
              "0  [0.525386, 0.61333424, 0.62004805, 0.5554309, ...  exchanges\n",
              "1  [0.5653091, 0.61592805, 0.54518753, 0.575984, ...    equines\n",
              "2  [0.69483936, 0.59534645, 0.5720794, 0.7992547,...        Was\n",
              "3  [0.59585017, 0.5326628, 0.6304897, 0.6168022, ...    systems\n",
              "4  [0.6212443, 0.53205186, 0.5439351, 0.5772528, ...  remainder"
            ]
          },
          "metadata": {},
          "execution_count": 6
        }
      ]
    },
    {
      "cell_type": "code",
      "source": [
        "train_df.shape"
      ],
      "metadata": {
        "colab": {
          "base_uri": "https://localhost:8080/"
        },
        "id": "6f0dL6js8U9d",
        "outputId": "9063c682-c3f4-4357-8566-94a1f9ddc542"
      },
      "execution_count": null,
      "outputs": [
        {
          "output_type": "execute_result",
          "data": {
            "text/plain": [
              "(149, 2)"
            ]
          },
          "metadata": {},
          "execution_count": 7
        }
      ]
    },
    {
      "cell_type": "code",
      "source": [
        "with open(\"data/test_words.txt\", \"r\") as f:\n",
        "  text = f.read()\n",
        "test_words = text.split(',')\n",
        "test_words"
      ],
      "metadata": {
        "colab": {
          "base_uri": "https://localhost:8080/"
        },
        "id": "gpixRunw1aix",
        "outputId": "89f5648f-fb20-4501-82d0-10ab6a42f0a2"
      },
      "execution_count": null,
      "outputs": [
        {
          "output_type": "execute_result",
          "data": {
            "text/plain": [
              "['equine',\n",
              " 'is',\n",
              " 'assist',\n",
              " 'refers',\n",
              " 'the',\n",
              " 'progressive',\n",
              " 'when',\n",
              " 'divorce',\n",
              " 'not',\n",
              " 'allocate',\n",
              " 'control',\n",
              " 'they',\n",
              " 'and',\n",
              " 'lawsuits',\n",
              " 'should',\n",
              " 'often',\n",
              " 'in',\n",
              " 'sums',\n",
              " 'purchase',\n",
              " 'associated',\n",
              " 'some',\n",
              " 'gambling',\n",
              " 'valuation',\n",
              " 'prepared',\n",
              " 'revenue',\n",
              " 'establish',\n",
              " 'contingent',\n",
              " 'sell',\n",
              " 'outlay',\n",
              " 'other',\n",
              " 'exchange',\n",
              " 'have',\n",
              " 'relation',\n",
              " 'taking',\n",
              " 'related',\n",
              " 'addition',\n",
              " 'growing',\n",
              " 'agreements',\n",
              " 'shareholders',\n",
              " 'pay',\n",
              " 'accounting',\n",
              " 'longer',\n",
              " 'high',\n",
              " 'sector',\n",
              " 'estimating',\n",
              " 'partners',\n",
              " 'such',\n",
              " 'industry',\n",
              " 'disastrous',\n",
              " 'stock',\n",
              " 'among',\n",
              " 'structure',\n",
              " 'could',\n",
              " 'lost',\n",
              " 'action',\n",
              " 'might',\n",
              " 'above',\n",
              " 'prices',\n",
              " 'she',\n",
              " 'profit',\n",
              " 'goods',\n",
              " 'services',\n",
              " 'company',\n",
              " 'misusing',\n",
              " 'has',\n",
              " 'estate',\n",
              " 'force',\n",
              " 'by',\n",
              " 'consume',\n",
              " 'within',\n",
              " 'place',\n",
              " 'subsidize',\n",
              " 'resolve',\n",
              " 'disputes',\n",
              " 'initial',\n",
              " 'value',\n",
              " 'legal',\n",
              " 'deadlock',\n",
              " 'information',\n",
              " 'dollars',\n",
              " 'farm',\n",
              " 'formula',\n",
              " 'contest',\n",
              " 'buy',\n",
              " 'performance',\n",
              " 'further',\n",
              " 'many',\n",
              " 'finance',\n",
              " 'from',\n",
              " 'activity',\n",
              " 'risk',\n",
              " 'government',\n",
              " 'into',\n",
              " 'are',\n",
              " 'three',\n",
              " 'management',\n",
              " 'money',\n",
              " 'accused',\n",
              " 's',\n",
              " 'income',\n",
              " 'taxation',\n",
              " 'participants',\n",
              " 'horses',\n",
              " 'horse',\n",
              " 'tax',\n",
              " 'appraisers',\n",
              " 'repay',\n",
              " 'people',\n",
              " 'a',\n",
              " 'fund',\n",
              " 'economy',\n",
              " 'purposes',\n",
              " 'at',\n",
              " 'complex',\n",
              " 'interest',\n",
              " 'an',\n",
              " 'decision',\n",
              " 'friends',\n",
              " 'drive',\n",
              " 'years',\n",
              " 'selling',\n",
              " 'type',\n",
              " 'making',\n",
              " 'same',\n",
              " 'tools',\n",
              " 'on',\n",
              " 'upon',\n",
              " 'economic',\n",
              " 'his',\n",
              " 'their',\n",
              " 'for',\n",
              " 'managerial',\n",
              " 'system',\n",
              " 'public',\n",
              " 'managers',\n",
              " 'functions',\n",
              " 'can',\n",
              " 'of',\n",
              " 'any',\n",
              " 'price',\n",
              " 'market',\n",
              " 'opinion',\n",
              " 'litigation',\n",
              " 'london',\n",
              " 'assets',\n",
              " 'rest',\n",
              " 'large',\n",
              " 'general',\n",
              " 'with',\n",
              " 'bubble',\n",
              " 'was',\n",
              " 'investment',\n",
              " 'ownership',\n",
              " 'inflation',\n",
              " 'him',\n",
              " 'shares',\n",
              " 'your',\n",
              " 'lifeblood',\n",
              " 'gift',\n",
              " 'business',\n",
              " 'businesses',\n",
              " 'As',\n",
              " 'organizational',\n",
              " 'thousands',\n",
              " 'or',\n",
              " 'used',\n",
              " 'subscribed',\n",
              " 'time',\n",
              " 'increase',\n",
              " 'capital',\n",
              " 'use',\n",
              " 'to',\n",
              " 'small',\n",
              " 'venture',\n",
              " 'more',\n",
              " 'bought',\n",
              " 'banking',\n",
              " 'markets',\n",
              " 'funds',\n",
              " 'be',\n",
              " '']"
            ]
          },
          "metadata": {},
          "execution_count": 8
        }
      ]
    },
    {
      "cell_type": "code",
      "source": [
        "len(test_words)"
      ],
      "metadata": {
        "colab": {
          "base_uri": "https://localhost:8080/"
        },
        "id": "mF-P-OQs1amV",
        "outputId": "4d12ee01-8f2c-423a-b6d9-918e9360ac83"
      },
      "execution_count": null,
      "outputs": [
        {
          "output_type": "execute_result",
          "data": {
            "text/plain": [
              "181"
            ]
          },
          "metadata": {},
          "execution_count": 9
        }
      ]
    },
    {
      "cell_type": "code",
      "source": [
        "train_df.embeddings = train_df.embeddings.apply(lambda x: ast.literal_eval(x))"
      ],
      "metadata": {
        "id": "Qug3KcwF19Zm"
      },
      "execution_count": null,
      "outputs": []
    },
    {
      "cell_type": "code",
      "source": [
        "len(train_df['embeddings'][0])"
      ],
      "metadata": {
        "colab": {
          "base_uri": "https://localhost:8080/"
        },
        "id": "N50FwP5W19b6",
        "outputId": "b539432b-7c93-4eda-a9a3-58f62b5b14fe"
      },
      "execution_count": null,
      "outputs": [
        {
          "output_type": "execute_result",
          "data": {
            "text/plain": [
              "300"
            ]
          },
          "metadata": {},
          "execution_count": 11
        }
      ]
    },
    {
      "cell_type": "code",
      "source": [
        "train_df.head(5)"
      ],
      "metadata": {
        "colab": {
          "base_uri": "https://localhost:8080/",
          "height": 206
        },
        "id": "Icqb5d6W19eu",
        "outputId": "757b9f4a-d9fa-4db6-ae32-ab01a5d1f0b9"
      },
      "execution_count": null,
      "outputs": [
        {
          "output_type": "execute_result",
          "data": {
            "text/html": [
              "\n",
              "  <div id=\"df-9ef9002f-2654-4568-bc86-2b69e617f226\">\n",
              "    <div class=\"colab-df-container\">\n",
              "      <div>\n",
              "<style scoped>\n",
              "    .dataframe tbody tr th:only-of-type {\n",
              "        vertical-align: middle;\n",
              "    }\n",
              "\n",
              "    .dataframe tbody tr th {\n",
              "        vertical-align: top;\n",
              "    }\n",
              "\n",
              "    .dataframe thead th {\n",
              "        text-align: right;\n",
              "    }\n",
              "</style>\n",
              "<table border=\"1\" class=\"dataframe\">\n",
              "  <thead>\n",
              "    <tr style=\"text-align: right;\">\n",
              "      <th></th>\n",
              "      <th>embeddings</th>\n",
              "      <th>label</th>\n",
              "    </tr>\n",
              "  </thead>\n",
              "  <tbody>\n",
              "    <tr>\n",
              "      <th>0</th>\n",
              "      <td>[0.525386, 0.61333424, 0.62004805, 0.5554309, ...</td>\n",
              "      <td>exchanges</td>\n",
              "    </tr>\n",
              "    <tr>\n",
              "      <th>1</th>\n",
              "      <td>[0.5653091, 0.61592805, 0.54518753, 0.575984, ...</td>\n",
              "      <td>equines</td>\n",
              "    </tr>\n",
              "    <tr>\n",
              "      <th>2</th>\n",
              "      <td>[0.69483936, 0.59534645, 0.5720794, 0.7992547,...</td>\n",
              "      <td>Was</td>\n",
              "    </tr>\n",
              "    <tr>\n",
              "      <th>3</th>\n",
              "      <td>[0.59585017, 0.5326628, 0.6304897, 0.6168022, ...</td>\n",
              "      <td>systems</td>\n",
              "    </tr>\n",
              "    <tr>\n",
              "      <th>4</th>\n",
              "      <td>[0.6212443, 0.53205186, 0.5439351, 0.5772528, ...</td>\n",
              "      <td>remainder</td>\n",
              "    </tr>\n",
              "  </tbody>\n",
              "</table>\n",
              "</div>\n",
              "      <button class=\"colab-df-convert\" onclick=\"convertToInteractive('df-9ef9002f-2654-4568-bc86-2b69e617f226')\"\n",
              "              title=\"Convert this dataframe to an interactive table.\"\n",
              "              style=\"display:none;\">\n",
              "        \n",
              "  <svg xmlns=\"http://www.w3.org/2000/svg\" height=\"24px\"viewBox=\"0 0 24 24\"\n",
              "       width=\"24px\">\n",
              "    <path d=\"M0 0h24v24H0V0z\" fill=\"none\"/>\n",
              "    <path d=\"M18.56 5.44l.94 2.06.94-2.06 2.06-.94-2.06-.94-.94-2.06-.94 2.06-2.06.94zm-11 1L8.5 8.5l.94-2.06 2.06-.94-2.06-.94L8.5 2.5l-.94 2.06-2.06.94zm10 10l.94 2.06.94-2.06 2.06-.94-2.06-.94-.94-2.06-.94 2.06-2.06.94z\"/><path d=\"M17.41 7.96l-1.37-1.37c-.4-.4-.92-.59-1.43-.59-.52 0-1.04.2-1.43.59L10.3 9.45l-7.72 7.72c-.78.78-.78 2.05 0 2.83L4 21.41c.39.39.9.59 1.41.59.51 0 1.02-.2 1.41-.59l7.78-7.78 2.81-2.81c.8-.78.8-2.07 0-2.86zM5.41 20L4 18.59l7.72-7.72 1.47 1.35L5.41 20z\"/>\n",
              "  </svg>\n",
              "      </button>\n",
              "      \n",
              "  <style>\n",
              "    .colab-df-container {\n",
              "      display:flex;\n",
              "      flex-wrap:wrap;\n",
              "      gap: 12px;\n",
              "    }\n",
              "\n",
              "    .colab-df-convert {\n",
              "      background-color: #E8F0FE;\n",
              "      border: none;\n",
              "      border-radius: 50%;\n",
              "      cursor: pointer;\n",
              "      display: none;\n",
              "      fill: #1967D2;\n",
              "      height: 32px;\n",
              "      padding: 0 0 0 0;\n",
              "      width: 32px;\n",
              "    }\n",
              "\n",
              "    .colab-df-convert:hover {\n",
              "      background-color: #E2EBFA;\n",
              "      box-shadow: 0px 1px 2px rgba(60, 64, 67, 0.3), 0px 1px 3px 1px rgba(60, 64, 67, 0.15);\n",
              "      fill: #174EA6;\n",
              "    }\n",
              "\n",
              "    [theme=dark] .colab-df-convert {\n",
              "      background-color: #3B4455;\n",
              "      fill: #D2E3FC;\n",
              "    }\n",
              "\n",
              "    [theme=dark] .colab-df-convert:hover {\n",
              "      background-color: #434B5C;\n",
              "      box-shadow: 0px 1px 3px 1px rgba(0, 0, 0, 0.15);\n",
              "      filter: drop-shadow(0px 1px 2px rgba(0, 0, 0, 0.3));\n",
              "      fill: #FFFFFF;\n",
              "    }\n",
              "  </style>\n",
              "\n",
              "      <script>\n",
              "        const buttonEl =\n",
              "          document.querySelector('#df-9ef9002f-2654-4568-bc86-2b69e617f226 button.colab-df-convert');\n",
              "        buttonEl.style.display =\n",
              "          google.colab.kernel.accessAllowed ? 'block' : 'none';\n",
              "\n",
              "        async function convertToInteractive(key) {\n",
              "          const element = document.querySelector('#df-9ef9002f-2654-4568-bc86-2b69e617f226');\n",
              "          const dataTable =\n",
              "            await google.colab.kernel.invokeFunction('convertToInteractive',\n",
              "                                                     [key], {});\n",
              "          if (!dataTable) return;\n",
              "\n",
              "          const docLinkHtml = 'Like what you see? Visit the ' +\n",
              "            '<a target=\"_blank\" href=https://colab.research.google.com/notebooks/data_table.ipynb>data table notebook</a>'\n",
              "            + ' to learn more about interactive tables.';\n",
              "          element.innerHTML = '';\n",
              "          dataTable['output_type'] = 'display_data';\n",
              "          await google.colab.output.renderOutput(dataTable, element);\n",
              "          const docLink = document.createElement('div');\n",
              "          docLink.innerHTML = docLinkHtml;\n",
              "          element.appendChild(docLink);\n",
              "        }\n",
              "      </script>\n",
              "    </div>\n",
              "  </div>\n",
              "  "
            ],
            "text/plain": [
              "                                          embeddings      label\n",
              "0  [0.525386, 0.61333424, 0.62004805, 0.5554309, ...  exchanges\n",
              "1  [0.5653091, 0.61592805, 0.54518753, 0.575984, ...    equines\n",
              "2  [0.69483936, 0.59534645, 0.5720794, 0.7992547,...        Was\n",
              "3  [0.59585017, 0.5326628, 0.6304897, 0.6168022, ...    systems\n",
              "4  [0.6212443, 0.53205186, 0.5439351, 0.5772528, ...  remainder"
            ]
          },
          "metadata": {},
          "execution_count": 12
        }
      ]
    },
    {
      "cell_type": "code",
      "source": [
        "col=[]\n",
        "for i in range(300):\n",
        "  s='Col-'+str(i)\n",
        "  col.append(s)"
      ],
      "metadata": {
        "id": "OH5Qw0Lk4qeP"
      },
      "execution_count": null,
      "outputs": []
    },
    {
      "cell_type": "code",
      "source": [
        "rows=[]\n",
        "for i in train_df['embeddings']:\n",
        "  rows.append(i)"
      ],
      "metadata": {
        "id": "dfaIlAX35TwP"
      },
      "execution_count": null,
      "outputs": []
    },
    {
      "cell_type": "code",
      "source": [
        "len(col),len(rows)"
      ],
      "metadata": {
        "colab": {
          "base_uri": "https://localhost:8080/"
        },
        "id": "1sdc_IzW438x",
        "outputId": "093112f1-6482-495a-fa12-251a5666c1d3"
      },
      "execution_count": null,
      "outputs": [
        {
          "output_type": "execute_result",
          "data": {
            "text/plain": [
              "(300, 149)"
            ]
          },
          "metadata": {},
          "execution_count": 41
        }
      ]
    },
    {
      "cell_type": "code",
      "source": [
        "len(rows[0])"
      ],
      "metadata": {
        "colab": {
          "base_uri": "https://localhost:8080/"
        },
        "id": "BlRbP1bG5cr3",
        "outputId": "88d9e8e3-5aeb-4e11-ec26-c88ea927c926"
      },
      "execution_count": null,
      "outputs": [
        {
          "output_type": "execute_result",
          "data": {
            "text/plain": [
              "300"
            ]
          },
          "metadata": {},
          "execution_count": 14
        }
      ]
    },
    {
      "cell_type": "code",
      "source": [
        "df = pd.DataFrame(rows,\n",
        "                  columns = col)"
      ],
      "metadata": {
        "id": "VKaDHex_3-Sw"
      },
      "execution_count": null,
      "outputs": []
    },
    {
      "cell_type": "code",
      "source": [
        "df.shape"
      ],
      "metadata": {
        "colab": {
          "base_uri": "https://localhost:8080/"
        },
        "id": "OF88Px6S3-Vw",
        "outputId": "7dfb55de-f663-45e5-ee59-9bf2c7cef58b"
      },
      "execution_count": null,
      "outputs": [
        {
          "output_type": "execute_result",
          "data": {
            "text/plain": [
              "(149, 300)"
            ]
          },
          "metadata": {},
          "execution_count": 46
        }
      ]
    },
    {
      "cell_type": "code",
      "source": [
        "df.head(5)"
      ],
      "metadata": {
        "colab": {
          "base_uri": "https://localhost:8080/",
          "height": 299
        },
        "id": "jSamppcd3-Yp",
        "outputId": "55c24060-3064-45cf-c5c2-c5e189e255a7"
      },
      "execution_count": null,
      "outputs": [
        {
          "output_type": "execute_result",
          "data": {
            "text/html": [
              "\n",
              "  <div id=\"df-d1840de2-bfdb-4263-9db5-908140c0a647\">\n",
              "    <div class=\"colab-df-container\">\n",
              "      <div>\n",
              "<style scoped>\n",
              "    .dataframe tbody tr th:only-of-type {\n",
              "        vertical-align: middle;\n",
              "    }\n",
              "\n",
              "    .dataframe tbody tr th {\n",
              "        vertical-align: top;\n",
              "    }\n",
              "\n",
              "    .dataframe thead th {\n",
              "        text-align: right;\n",
              "    }\n",
              "</style>\n",
              "<table border=\"1\" class=\"dataframe\">\n",
              "  <thead>\n",
              "    <tr style=\"text-align: right;\">\n",
              "      <th></th>\n",
              "      <th>Col-0</th>\n",
              "      <th>Col-1</th>\n",
              "      <th>Col-2</th>\n",
              "      <th>Col-3</th>\n",
              "      <th>Col-4</th>\n",
              "      <th>Col-5</th>\n",
              "      <th>Col-6</th>\n",
              "      <th>Col-7</th>\n",
              "      <th>Col-8</th>\n",
              "      <th>Col-9</th>\n",
              "      <th>Col-10</th>\n",
              "      <th>Col-11</th>\n",
              "      <th>Col-12</th>\n",
              "      <th>Col-13</th>\n",
              "      <th>Col-14</th>\n",
              "      <th>Col-15</th>\n",
              "      <th>Col-16</th>\n",
              "      <th>Col-17</th>\n",
              "      <th>Col-18</th>\n",
              "      <th>Col-19</th>\n",
              "      <th>Col-20</th>\n",
              "      <th>Col-21</th>\n",
              "      <th>Col-22</th>\n",
              "      <th>Col-23</th>\n",
              "      <th>Col-24</th>\n",
              "      <th>Col-25</th>\n",
              "      <th>Col-26</th>\n",
              "      <th>Col-27</th>\n",
              "      <th>Col-28</th>\n",
              "      <th>Col-29</th>\n",
              "      <th>Col-30</th>\n",
              "      <th>Col-31</th>\n",
              "      <th>Col-32</th>\n",
              "      <th>Col-33</th>\n",
              "      <th>Col-34</th>\n",
              "      <th>Col-35</th>\n",
              "      <th>Col-36</th>\n",
              "      <th>Col-37</th>\n",
              "      <th>Col-38</th>\n",
              "      <th>Col-39</th>\n",
              "      <th>...</th>\n",
              "      <th>Col-260</th>\n",
              "      <th>Col-261</th>\n",
              "      <th>Col-262</th>\n",
              "      <th>Col-263</th>\n",
              "      <th>Col-264</th>\n",
              "      <th>Col-265</th>\n",
              "      <th>Col-266</th>\n",
              "      <th>Col-267</th>\n",
              "      <th>Col-268</th>\n",
              "      <th>Col-269</th>\n",
              "      <th>Col-270</th>\n",
              "      <th>Col-271</th>\n",
              "      <th>Col-272</th>\n",
              "      <th>Col-273</th>\n",
              "      <th>Col-274</th>\n",
              "      <th>Col-275</th>\n",
              "      <th>Col-276</th>\n",
              "      <th>Col-277</th>\n",
              "      <th>Col-278</th>\n",
              "      <th>Col-279</th>\n",
              "      <th>Col-280</th>\n",
              "      <th>Col-281</th>\n",
              "      <th>Col-282</th>\n",
              "      <th>Col-283</th>\n",
              "      <th>Col-284</th>\n",
              "      <th>Col-285</th>\n",
              "      <th>Col-286</th>\n",
              "      <th>Col-287</th>\n",
              "      <th>Col-288</th>\n",
              "      <th>Col-289</th>\n",
              "      <th>Col-290</th>\n",
              "      <th>Col-291</th>\n",
              "      <th>Col-292</th>\n",
              "      <th>Col-293</th>\n",
              "      <th>Col-294</th>\n",
              "      <th>Col-295</th>\n",
              "      <th>Col-296</th>\n",
              "      <th>Col-297</th>\n",
              "      <th>Col-298</th>\n",
              "      <th>Col-299</th>\n",
              "    </tr>\n",
              "  </thead>\n",
              "  <tbody>\n",
              "    <tr>\n",
              "      <th>0</th>\n",
              "      <td>0.525386</td>\n",
              "      <td>0.613334</td>\n",
              "      <td>0.620048</td>\n",
              "      <td>0.555431</td>\n",
              "      <td>0.669389</td>\n",
              "      <td>0.524727</td>\n",
              "      <td>0.526745</td>\n",
              "      <td>0.589699</td>\n",
              "      <td>0.649061</td>\n",
              "      <td>0.663398</td>\n",
              "      <td>0.527262</td>\n",
              "      <td>0.527446</td>\n",
              "      <td>0.525798</td>\n",
              "      <td>0.765231</td>\n",
              "      <td>0.536563</td>\n",
              "      <td>0.578431</td>\n",
              "      <td>0.586390</td>\n",
              "      <td>0.747255</td>\n",
              "      <td>0.557703</td>\n",
              "      <td>0.530900</td>\n",
              "      <td>0.604994</td>\n",
              "      <td>0.553676</td>\n",
              "      <td>0.689884</td>\n",
              "      <td>0.583744</td>\n",
              "      <td>0.543629</td>\n",
              "      <td>0.584657</td>\n",
              "      <td>0.525333</td>\n",
              "      <td>0.628602</td>\n",
              "      <td>0.698191</td>\n",
              "      <td>0.665628</td>\n",
              "      <td>0.525555</td>\n",
              "      <td>0.524353</td>\n",
              "      <td>0.551534</td>\n",
              "      <td>0.568298</td>\n",
              "      <td>0.595095</td>\n",
              "      <td>0.548712</td>\n",
              "      <td>0.609663</td>\n",
              "      <td>0.568538</td>\n",
              "      <td>0.648368</td>\n",
              "      <td>0.594345</td>\n",
              "      <td>...</td>\n",
              "      <td>0.560364</td>\n",
              "      <td>0.637580</td>\n",
              "      <td>0.570981</td>\n",
              "      <td>0.625499</td>\n",
              "      <td>0.558199</td>\n",
              "      <td>0.706738</td>\n",
              "      <td>0.703290</td>\n",
              "      <td>0.562028</td>\n",
              "      <td>0.529971</td>\n",
              "      <td>0.646302</td>\n",
              "      <td>0.524536</td>\n",
              "      <td>0.550659</td>\n",
              "      <td>0.540931</td>\n",
              "      <td>0.552350</td>\n",
              "      <td>0.586390</td>\n",
              "      <td>0.539076</td>\n",
              "      <td>0.540931</td>\n",
              "      <td>0.597373</td>\n",
              "      <td>0.564597</td>\n",
              "      <td>0.792671</td>\n",
              "      <td>0.607722</td>\n",
              "      <td>0.644936</td>\n",
              "      <td>0.567581</td>\n",
              "      <td>0.575565</td>\n",
              "      <td>0.652561</td>\n",
              "      <td>0.540550</td>\n",
              "      <td>0.525041</td>\n",
              "      <td>0.684210</td>\n",
              "      <td>0.661924</td>\n",
              "      <td>0.556369</td>\n",
              "      <td>0.647677</td>\n",
              "      <td>0.524807</td>\n",
              "      <td>0.643578</td>\n",
              "      <td>0.597885</td>\n",
              "      <td>0.603382</td>\n",
              "      <td>0.633037</td>\n",
              "      <td>0.681019</td>\n",
              "      <td>0.581608</td>\n",
              "      <td>0.533708</td>\n",
              "      <td>0.677867</td>\n",
              "    </tr>\n",
              "    <tr>\n",
              "      <th>1</th>\n",
              "      <td>0.565309</td>\n",
              "      <td>0.615928</td>\n",
              "      <td>0.545188</td>\n",
              "      <td>0.575984</td>\n",
              "      <td>0.573396</td>\n",
              "      <td>0.599433</td>\n",
              "      <td>0.559977</td>\n",
              "      <td>0.687438</td>\n",
              "      <td>0.584200</td>\n",
              "      <td>0.540911</td>\n",
              "      <td>0.613907</td>\n",
              "      <td>0.591357</td>\n",
              "      <td>0.527353</td>\n",
              "      <td>0.524843</td>\n",
              "      <td>0.581385</td>\n",
              "      <td>0.547481</td>\n",
              "      <td>0.533298</td>\n",
              "      <td>1.150222</td>\n",
              "      <td>0.533875</td>\n",
              "      <td>0.726398</td>\n",
              "      <td>0.679438</td>\n",
              "      <td>0.535251</td>\n",
              "      <td>0.585578</td>\n",
              "      <td>0.530699</td>\n",
              "      <td>0.526331</td>\n",
              "      <td>0.590904</td>\n",
              "      <td>0.534071</td>\n",
              "      <td>0.737624</td>\n",
              "      <td>0.606079</td>\n",
              "      <td>0.540193</td>\n",
              "      <td>0.524498</td>\n",
              "      <td>0.571578</td>\n",
              "      <td>0.671673</td>\n",
              "      <td>0.570832</td>\n",
              "      <td>0.525333</td>\n",
              "      <td>0.784040</td>\n",
              "      <td>0.526353</td>\n",
              "      <td>0.529530</td>\n",
              "      <td>0.576828</td>\n",
              "      <td>0.644936</td>\n",
              "      <td>...</td>\n",
              "      <td>0.524377</td>\n",
              "      <td>0.618270</td>\n",
              "      <td>0.695674</td>\n",
              "      <td>0.595095</td>\n",
              "      <td>0.627354</td>\n",
              "      <td>0.524299</td>\n",
              "      <td>0.542963</td>\n",
              "      <td>0.528134</td>\n",
              "      <td>0.533226</td>\n",
              "      <td>0.621846</td>\n",
              "      <td>0.525555</td>\n",
              "      <td>0.790497</td>\n",
              "      <td>0.528309</td>\n",
              "      <td>0.640224</td>\n",
              "      <td>0.567915</td>\n",
              "      <td>0.529971</td>\n",
              "      <td>0.562926</td>\n",
              "      <td>0.568106</td>\n",
              "      <td>0.524761</td>\n",
              "      <td>0.828896</td>\n",
              "      <td>0.653267</td>\n",
              "      <td>0.531394</td>\n",
              "      <td>0.625499</td>\n",
              "      <td>0.543446</td>\n",
              "      <td>0.530105</td>\n",
              "      <td>0.561393</td>\n",
              "      <td>0.544744</td>\n",
              "      <td>0.524350</td>\n",
              "      <td>0.857886</td>\n",
              "      <td>1.027500</td>\n",
              "      <td>0.531181</td>\n",
              "      <td>0.588269</td>\n",
              "      <td>0.529851</td>\n",
              "      <td>0.553715</td>\n",
              "      <td>0.607447</td>\n",
              "      <td>0.701581</td>\n",
              "      <td>0.737624</td>\n",
              "      <td>0.743373</td>\n",
              "      <td>0.581942</td>\n",
              "      <td>0.643578</td>\n",
              "    </tr>\n",
              "    <tr>\n",
              "      <th>2</th>\n",
              "      <td>0.694839</td>\n",
              "      <td>0.595346</td>\n",
              "      <td>0.572079</td>\n",
              "      <td>0.799255</td>\n",
              "      <td>0.577466</td>\n",
              "      <td>0.545571</td>\n",
              "      <td>0.535997</td>\n",
              "      <td>0.541384</td>\n",
              "      <td>0.638237</td>\n",
              "      <td>0.577787</td>\n",
              "      <td>0.528560</td>\n",
              "      <td>0.524319</td>\n",
              "      <td>0.528560</td>\n",
              "      <td>0.530564</td>\n",
              "      <td>0.726398</td>\n",
              "      <td>0.590179</td>\n",
              "      <td>0.525333</td>\n",
              "      <td>0.683409</td>\n",
              "      <td>0.530972</td>\n",
              "      <td>0.542135</td>\n",
              "      <td>0.561808</td>\n",
              "      <td>0.733842</td>\n",
              "      <td>0.792671</td>\n",
              "      <td>0.536948</td>\n",
              "      <td>0.568250</td>\n",
              "      <td>0.589220</td>\n",
              "      <td>0.527580</td>\n",
              "      <td>0.667877</td>\n",
              "      <td>0.627354</td>\n",
              "      <td>0.728244</td>\n",
              "      <td>0.567391</td>\n",
              "      <td>0.531041</td>\n",
              "      <td>0.527930</td>\n",
              "      <td>0.805934</td>\n",
              "      <td>0.569701</td>\n",
              "      <td>0.673207</td>\n",
              "      <td>0.585116</td>\n",
              "      <td>0.579952</td>\n",
              "      <td>0.570044</td>\n",
              "      <td>0.659002</td>\n",
              "      <td>...</td>\n",
              "      <td>0.707606</td>\n",
              "      <td>0.544556</td>\n",
              "      <td>0.620645</td>\n",
              "      <td>0.577253</td>\n",
              "      <td>0.529009</td>\n",
              "      <td>1.014864</td>\n",
              "      <td>0.534819</td>\n",
              "      <td>0.524454</td>\n",
              "      <td>0.528560</td>\n",
              "      <td>0.611346</td>\n",
              "      <td>0.524536</td>\n",
              "      <td>0.574836</td>\n",
              "      <td>0.775576</td>\n",
              "      <td>0.651856</td>\n",
              "      <td>0.649061</td>\n",
              "      <td>0.948821</td>\n",
              "      <td>0.525181</td>\n",
              "      <td>0.524410</td>\n",
              "      <td>0.662660</td>\n",
              "      <td>0.549481</td>\n",
              "      <td>0.619156</td>\n",
              "      <td>0.524954</td>\n",
              "      <td>0.527580</td>\n",
              "      <td>0.564666</td>\n",
              "      <td>0.559835</td>\n",
              "      <td>0.619453</td>\n",
              "      <td>0.526766</td>\n",
              "      <td>0.524382</td>\n",
              "      <td>0.613620</td>\n",
              "      <td>0.568972</td>\n",
              "      <td>0.543918</td>\n",
              "      <td>0.730100</td>\n",
              "      <td>0.524706</td>\n",
              "      <td>0.831252</td>\n",
              "      <td>0.547279</td>\n",
              "      <td>0.526827</td>\n",
              "      <td>0.528134</td>\n",
              "      <td>0.530662</td>\n",
              "      <td>0.575044</td>\n",
              "      <td>0.654687</td>\n",
              "    </tr>\n",
              "    <tr>\n",
              "      <th>3</th>\n",
              "      <td>0.595850</td>\n",
              "      <td>0.532663</td>\n",
              "      <td>0.630490</td>\n",
              "      <td>0.616802</td>\n",
              "      <td>0.524350</td>\n",
              "      <td>0.595346</td>\n",
              "      <td>0.544493</td>\n",
              "      <td>0.616802</td>\n",
              "      <td>0.564506</td>\n",
              "      <td>0.549551</td>\n",
              "      <td>0.532127</td>\n",
              "      <td>0.535555</td>\n",
              "      <td>0.560539</td>\n",
              "      <td>0.556632</td>\n",
              "      <td>0.551241</td>\n",
              "      <td>0.550985</td>\n",
              "      <td>0.558789</td>\n",
              "      <td>0.548850</td>\n",
              "      <td>0.547955</td>\n",
              "      <td>0.564872</td>\n",
              "      <td>0.552164</td>\n",
              "      <td>0.556309</td>\n",
              "      <td>0.564369</td>\n",
              "      <td>0.611064</td>\n",
              "      <td>0.611064</td>\n",
              "      <td>0.592367</td>\n",
              "      <td>0.525798</td>\n",
              "      <td>0.592122</td>\n",
              "      <td>0.544306</td>\n",
              "      <td>0.524675</td>\n",
              "      <td>0.574732</td>\n",
              "      <td>0.524548</td>\n",
              "      <td>0.535536</td>\n",
              "      <td>0.545443</td>\n",
              "      <td>0.571829</td>\n",
              "      <td>0.524454</td>\n",
              "      <td>0.561436</td>\n",
              "      <td>0.531111</td>\n",
              "      <td>0.615928</td>\n",
              "      <td>0.542370</td>\n",
              "      <td>...</td>\n",
              "      <td>0.566918</td>\n",
              "      <td>0.525333</td>\n",
              "      <td>0.606079</td>\n",
              "      <td>0.649757</td>\n",
              "      <td>0.594345</td>\n",
              "      <td>0.565795</td>\n",
              "      <td>0.542018</td>\n",
              "      <td>0.544120</td>\n",
              "      <td>0.529971</td>\n",
              "      <td>0.697349</td>\n",
              "      <td>0.530699</td>\n",
              "      <td>0.528502</td>\n",
              "      <td>0.543325</td>\n",
              "      <td>0.616510</td>\n",
              "      <td>0.545124</td>\n",
              "      <td>0.539395</td>\n",
              "      <td>0.565517</td>\n",
              "      <td>0.552952</td>\n",
              "      <td>0.554918</td>\n",
              "      <td>0.562659</td>\n",
              "      <td>0.527241</td>\n",
              "      <td>0.646302</td>\n",
              "      <td>0.622449</td>\n",
              "      <td>0.569653</td>\n",
              "      <td>0.540818</td>\n",
              "      <td>0.540153</td>\n",
              "      <td>0.697349</td>\n",
              "      <td>0.540043</td>\n",
              "      <td>0.553715</td>\n",
              "      <td>0.580721</td>\n",
              "      <td>0.524410</td>\n",
              "      <td>0.634971</td>\n",
              "      <td>0.554957</td>\n",
              "      <td>0.686627</td>\n",
              "      <td>0.608274</td>\n",
              "      <td>0.545188</td>\n",
              "      <td>0.556390</td>\n",
              "      <td>0.525674</td>\n",
              "      <td>0.562382</td>\n",
              "      <td>0.556289</td>\n",
              "    </tr>\n",
              "    <tr>\n",
              "      <th>4</th>\n",
              "      <td>0.621244</td>\n",
              "      <td>0.532052</td>\n",
              "      <td>0.543935</td>\n",
              "      <td>0.577253</td>\n",
              "      <td>0.597118</td>\n",
              "      <td>0.525333</td>\n",
              "      <td>0.538554</td>\n",
              "      <td>0.529851</td>\n",
              "      <td>0.662660</td>\n",
              "      <td>0.526827</td>\n",
              "      <td>0.524382</td>\n",
              "      <td>0.531977</td>\n",
              "      <td>0.550876</td>\n",
              "      <td>0.658277</td>\n",
              "      <td>0.524289</td>\n",
              "      <td>0.528134</td>\n",
              "      <td>0.540373</td>\n",
              "      <td>0.565424</td>\n",
              "      <td>0.547955</td>\n",
              "      <td>0.615348</td>\n",
              "      <td>0.550623</td>\n",
              "      <td>0.574010</td>\n",
              "      <td>0.545700</td>\n",
              "      <td>0.638897</td>\n",
              "      <td>0.628602</td>\n",
              "      <td>0.677084</td>\n",
              "      <td>0.529726</td>\n",
              "      <td>0.620645</td>\n",
              "      <td>0.544997</td>\n",
              "      <td>0.719111</td>\n",
              "      <td>0.524727</td>\n",
              "      <td>0.532278</td>\n",
              "      <td>0.581719</td>\n",
              "      <td>0.641559</td>\n",
              "      <td>0.623055</td>\n",
              "      <td>0.608551</td>\n",
              "      <td>0.525000</td>\n",
              "      <td>0.524367</td>\n",
              "      <td>0.549129</td>\n",
              "      <td>0.531977</td>\n",
              "      <td>...</td>\n",
              "      <td>0.606625</td>\n",
              "      <td>0.601525</td>\n",
              "      <td>0.526195</td>\n",
              "      <td>0.624272</td>\n",
              "      <td>0.544493</td>\n",
              "      <td>0.578108</td>\n",
              "      <td>0.542370</td>\n",
              "      <td>0.622449</td>\n",
              "      <td>0.602849</td>\n",
              "      <td>0.560587</td>\n",
              "      <td>0.636271</td>\n",
              "      <td>0.527408</td>\n",
              "      <td>0.557590</td>\n",
              "      <td>0.524498</td>\n",
              "      <td>0.587325</td>\n",
              "      <td>0.528032</td>\n",
              "      <td>0.556591</td>\n",
              "      <td>0.564872</td>\n",
              "      <td>0.524398</td>\n",
              "      <td>0.636271</td>\n",
              "      <td>0.631759</td>\n",
              "      <td>0.531903</td>\n",
              "      <td>0.546416</td>\n",
              "      <td>0.628602</td>\n",
              "      <td>0.565842</td>\n",
              "      <td>0.562882</td>\n",
              "      <td>0.578539</td>\n",
              "      <td>0.623663</td>\n",
              "      <td>0.667877</td>\n",
              "      <td>0.568827</td>\n",
              "      <td>0.524289</td>\n",
              "      <td>0.658277</td>\n",
              "      <td>0.575984</td>\n",
              "      <td>0.524434</td>\n",
              "      <td>0.637580</td>\n",
              "      <td>0.590904</td>\n",
              "      <td>0.634971</td>\n",
              "      <td>0.579080</td>\n",
              "      <td>0.691526</td>\n",
              "      <td>0.535863</td>\n",
              "    </tr>\n",
              "  </tbody>\n",
              "</table>\n",
              "<p>5 rows × 300 columns</p>\n",
              "</div>\n",
              "      <button class=\"colab-df-convert\" onclick=\"convertToInteractive('df-d1840de2-bfdb-4263-9db5-908140c0a647')\"\n",
              "              title=\"Convert this dataframe to an interactive table.\"\n",
              "              style=\"display:none;\">\n",
              "        \n",
              "  <svg xmlns=\"http://www.w3.org/2000/svg\" height=\"24px\"viewBox=\"0 0 24 24\"\n",
              "       width=\"24px\">\n",
              "    <path d=\"M0 0h24v24H0V0z\" fill=\"none\"/>\n",
              "    <path d=\"M18.56 5.44l.94 2.06.94-2.06 2.06-.94-2.06-.94-.94-2.06-.94 2.06-2.06.94zm-11 1L8.5 8.5l.94-2.06 2.06-.94-2.06-.94L8.5 2.5l-.94 2.06-2.06.94zm10 10l.94 2.06.94-2.06 2.06-.94-2.06-.94-.94-2.06-.94 2.06-2.06.94z\"/><path d=\"M17.41 7.96l-1.37-1.37c-.4-.4-.92-.59-1.43-.59-.52 0-1.04.2-1.43.59L10.3 9.45l-7.72 7.72c-.78.78-.78 2.05 0 2.83L4 21.41c.39.39.9.59 1.41.59.51 0 1.02-.2 1.41-.59l7.78-7.78 2.81-2.81c.8-.78.8-2.07 0-2.86zM5.41 20L4 18.59l7.72-7.72 1.47 1.35L5.41 20z\"/>\n",
              "  </svg>\n",
              "      </button>\n",
              "      \n",
              "  <style>\n",
              "    .colab-df-container {\n",
              "      display:flex;\n",
              "      flex-wrap:wrap;\n",
              "      gap: 12px;\n",
              "    }\n",
              "\n",
              "    .colab-df-convert {\n",
              "      background-color: #E8F0FE;\n",
              "      border: none;\n",
              "      border-radius: 50%;\n",
              "      cursor: pointer;\n",
              "      display: none;\n",
              "      fill: #1967D2;\n",
              "      height: 32px;\n",
              "      padding: 0 0 0 0;\n",
              "      width: 32px;\n",
              "    }\n",
              "\n",
              "    .colab-df-convert:hover {\n",
              "      background-color: #E2EBFA;\n",
              "      box-shadow: 0px 1px 2px rgba(60, 64, 67, 0.3), 0px 1px 3px 1px rgba(60, 64, 67, 0.15);\n",
              "      fill: #174EA6;\n",
              "    }\n",
              "\n",
              "    [theme=dark] .colab-df-convert {\n",
              "      background-color: #3B4455;\n",
              "      fill: #D2E3FC;\n",
              "    }\n",
              "\n",
              "    [theme=dark] .colab-df-convert:hover {\n",
              "      background-color: #434B5C;\n",
              "      box-shadow: 0px 1px 3px 1px rgba(0, 0, 0, 0.15);\n",
              "      filter: drop-shadow(0px 1px 2px rgba(0, 0, 0, 0.3));\n",
              "      fill: #FFFFFF;\n",
              "    }\n",
              "  </style>\n",
              "\n",
              "      <script>\n",
              "        const buttonEl =\n",
              "          document.querySelector('#df-d1840de2-bfdb-4263-9db5-908140c0a647 button.colab-df-convert');\n",
              "        buttonEl.style.display =\n",
              "          google.colab.kernel.accessAllowed ? 'block' : 'none';\n",
              "\n",
              "        async function convertToInteractive(key) {\n",
              "          const element = document.querySelector('#df-d1840de2-bfdb-4263-9db5-908140c0a647');\n",
              "          const dataTable =\n",
              "            await google.colab.kernel.invokeFunction('convertToInteractive',\n",
              "                                                     [key], {});\n",
              "          if (!dataTable) return;\n",
              "\n",
              "          const docLinkHtml = 'Like what you see? Visit the ' +\n",
              "            '<a target=\"_blank\" href=https://colab.research.google.com/notebooks/data_table.ipynb>data table notebook</a>'\n",
              "            + ' to learn more about interactive tables.';\n",
              "          element.innerHTML = '';\n",
              "          dataTable['output_type'] = 'display_data';\n",
              "          await google.colab.output.renderOutput(dataTable, element);\n",
              "          const docLink = document.createElement('div');\n",
              "          docLink.innerHTML = docLinkHtml;\n",
              "          element.appendChild(docLink);\n",
              "        }\n",
              "      </script>\n",
              "    </div>\n",
              "  </div>\n",
              "  "
            ],
            "text/plain": [
              "      Col-0     Col-1     Col-2  ...   Col-297   Col-298   Col-299\n",
              "0  0.525386  0.613334  0.620048  ...  0.581608  0.533708  0.677867\n",
              "1  0.565309  0.615928  0.545188  ...  0.743373  0.581942  0.643578\n",
              "2  0.694839  0.595346  0.572079  ...  0.530662  0.575044  0.654687\n",
              "3  0.595850  0.532663  0.630490  ...  0.525674  0.562382  0.556289\n",
              "4  0.621244  0.532052  0.543935  ...  0.579080  0.691526  0.535863\n",
              "\n",
              "[5 rows x 300 columns]"
            ]
          },
          "metadata": {},
          "execution_count": 47
        }
      ]
    },
    {
      "cell_type": "code",
      "source": [
        "X=df.iloc[:]"
      ],
      "metadata": {
        "id": "JAJ3xxpT5pEg"
      },
      "execution_count": null,
      "outputs": []
    },
    {
      "cell_type": "code",
      "source": [
        "Y=train_df.iloc[:,1]"
      ],
      "metadata": {
        "id": "zKKJZcKE5rfO"
      },
      "execution_count": null,
      "outputs": []
    },
    {
      "cell_type": "code",
      "source": [
        "X=rows"
      ],
      "metadata": {
        "id": "aFzWF4gU5rqM"
      },
      "execution_count": null,
      "outputs": []
    },
    {
      "cell_type": "code",
      "source": [
        "Y=[c.lower() for c in Y]"
      ],
      "metadata": {
        "id": "HhKxLCNi5lTd"
      },
      "execution_count": null,
      "outputs": []
    },
    {
      "cell_type": "code",
      "source": [
        "Y=[c.replace('_','') for c in Y]"
      ],
      "metadata": {
        "id": "6VxMdm1fTYUX"
      },
      "execution_count": null,
      "outputs": []
    },
    {
      "cell_type": "code",
      "source": [
        "len(Y),len(X)"
      ],
      "metadata": {
        "colab": {
          "base_uri": "https://localhost:8080/"
        },
        "id": "vXlYgTA250NS",
        "outputId": "406619fa-da8c-45d1-e1fb-2a10bc55926b"
      },
      "execution_count": null,
      "outputs": [
        {
          "output_type": "execute_result",
          "data": {
            "text/plain": [
              "(149, 149)"
            ]
          },
          "metadata": {},
          "execution_count": 19
        }
      ]
    },
    {
      "cell_type": "code",
      "source": [
        "for i in range(len(X)):\n",
        "  print(max(X[i]),min(X[i]))"
      ],
      "metadata": {
        "id": "rNDZPIrHLcdT"
      },
      "execution_count": null,
      "outputs": []
    },
    {
      "cell_type": "markdown",
      "source": [
        "##SUBMISSION"
      ],
      "metadata": {
        "id": "9CUgqbEZ2Uy0"
      }
    },
    {
      "cell_type": "code",
      "source": [
        "test_df=pd.read_csv('data/placeholder_vectors.csv')"
      ],
      "metadata": {
        "id": "9f5NmG-_2d92"
      },
      "execution_count": null,
      "outputs": []
    },
    {
      "cell_type": "code",
      "source": [
        "X_test=[]\n",
        "for i in test_df.embeddings:\n",
        "  try:\n",
        "    j=ast.literal_eval(i)\n",
        "    X_test.append(j)\n",
        "  except:\n",
        "    print(i)"
      ],
      "metadata": {
        "colab": {
          "base_uri": "https://localhost:8080/"
        },
        "id": "VuUyqNa1Lcfl",
        "outputId": "7d31c426-f543-451e-ea0f-2cb72a6f81ae"
      },
      "execution_count": null,
      "outputs": [
        {
          "output_type": "stream",
          "name": "stdout",
          "text": [
            "a\n",
            "of\n",
            "to\n",
            "and\n"
          ]
        }
      ]
    },
    {
      "cell_type": "code",
      "source": [
        "test_df.head()"
      ],
      "metadata": {
        "colab": {
          "base_uri": "https://localhost:8080/",
          "height": 206
        },
        "id": "xuSuzdMo9dfF",
        "outputId": "b90b801e-900d-4de0-d7e0-afcecfdd15fd"
      },
      "execution_count": null,
      "outputs": [
        {
          "output_type": "execute_result",
          "data": {
            "text/html": [
              "\n",
              "  <div id=\"df-cd56d5ed-a537-4008-9fc7-daa68f34cb3e\">\n",
              "    <div class=\"colab-df-container\">\n",
              "      <div>\n",
              "<style scoped>\n",
              "    .dataframe tbody tr th:only-of-type {\n",
              "        vertical-align: middle;\n",
              "    }\n",
              "\n",
              "    .dataframe tbody tr th {\n",
              "        vertical-align: top;\n",
              "    }\n",
              "\n",
              "    .dataframe thead th {\n",
              "        text-align: right;\n",
              "    }\n",
              "</style>\n",
              "<table border=\"1\" class=\"dataframe\">\n",
              "  <thead>\n",
              "    <tr style=\"text-align: right;\">\n",
              "      <th></th>\n",
              "      <th>placeholder</th>\n",
              "      <th>embeddings</th>\n",
              "    </tr>\n",
              "  </thead>\n",
              "  <tbody>\n",
              "    <tr>\n",
              "      <th>0</th>\n",
              "      <td>0</td>\n",
              "      <td>[0.72639763, 0.55363804, 0.5709315, 0.69988114...</td>\n",
              "    </tr>\n",
              "    <tr>\n",
              "      <th>1</th>\n",
              "      <td>1</td>\n",
              "      <td>[0.570044, 0.53571916, 0.5704866, 0.6747511, 0...</td>\n",
              "    </tr>\n",
              "    <tr>\n",
              "      <th>2</th>\n",
              "      <td>2</td>\n",
              "      <td>a</td>\n",
              "    </tr>\n",
              "    <tr>\n",
              "      <th>3</th>\n",
              "      <td>3</td>\n",
              "      <td>[0.5926122, 0.56348646, 0.5378386, 0.65755475,...</td>\n",
              "    </tr>\n",
              "    <tr>\n",
              "      <th>4</th>\n",
              "      <td>4</td>\n",
              "      <td>[0.6739781, 0.5331372, 0.5242991, 0.5666829, 0...</td>\n",
              "    </tr>\n",
              "  </tbody>\n",
              "</table>\n",
              "</div>\n",
              "      <button class=\"colab-df-convert\" onclick=\"convertToInteractive('df-cd56d5ed-a537-4008-9fc7-daa68f34cb3e')\"\n",
              "              title=\"Convert this dataframe to an interactive table.\"\n",
              "              style=\"display:none;\">\n",
              "        \n",
              "  <svg xmlns=\"http://www.w3.org/2000/svg\" height=\"24px\"viewBox=\"0 0 24 24\"\n",
              "       width=\"24px\">\n",
              "    <path d=\"M0 0h24v24H0V0z\" fill=\"none\"/>\n",
              "    <path d=\"M18.56 5.44l.94 2.06.94-2.06 2.06-.94-2.06-.94-.94-2.06-.94 2.06-2.06.94zm-11 1L8.5 8.5l.94-2.06 2.06-.94-2.06-.94L8.5 2.5l-.94 2.06-2.06.94zm10 10l.94 2.06.94-2.06 2.06-.94-2.06-.94-.94-2.06-.94 2.06-2.06.94z\"/><path d=\"M17.41 7.96l-1.37-1.37c-.4-.4-.92-.59-1.43-.59-.52 0-1.04.2-1.43.59L10.3 9.45l-7.72 7.72c-.78.78-.78 2.05 0 2.83L4 21.41c.39.39.9.59 1.41.59.51 0 1.02-.2 1.41-.59l7.78-7.78 2.81-2.81c.8-.78.8-2.07 0-2.86zM5.41 20L4 18.59l7.72-7.72 1.47 1.35L5.41 20z\"/>\n",
              "  </svg>\n",
              "      </button>\n",
              "      \n",
              "  <style>\n",
              "    .colab-df-container {\n",
              "      display:flex;\n",
              "      flex-wrap:wrap;\n",
              "      gap: 12px;\n",
              "    }\n",
              "\n",
              "    .colab-df-convert {\n",
              "      background-color: #E8F0FE;\n",
              "      border: none;\n",
              "      border-radius: 50%;\n",
              "      cursor: pointer;\n",
              "      display: none;\n",
              "      fill: #1967D2;\n",
              "      height: 32px;\n",
              "      padding: 0 0 0 0;\n",
              "      width: 32px;\n",
              "    }\n",
              "\n",
              "    .colab-df-convert:hover {\n",
              "      background-color: #E2EBFA;\n",
              "      box-shadow: 0px 1px 2px rgba(60, 64, 67, 0.3), 0px 1px 3px 1px rgba(60, 64, 67, 0.15);\n",
              "      fill: #174EA6;\n",
              "    }\n",
              "\n",
              "    [theme=dark] .colab-df-convert {\n",
              "      background-color: #3B4455;\n",
              "      fill: #D2E3FC;\n",
              "    }\n",
              "\n",
              "    [theme=dark] .colab-df-convert:hover {\n",
              "      background-color: #434B5C;\n",
              "      box-shadow: 0px 1px 3px 1px rgba(0, 0, 0, 0.15);\n",
              "      filter: drop-shadow(0px 1px 2px rgba(0, 0, 0, 0.3));\n",
              "      fill: #FFFFFF;\n",
              "    }\n",
              "  </style>\n",
              "\n",
              "      <script>\n",
              "        const buttonEl =\n",
              "          document.querySelector('#df-cd56d5ed-a537-4008-9fc7-daa68f34cb3e button.colab-df-convert');\n",
              "        buttonEl.style.display =\n",
              "          google.colab.kernel.accessAllowed ? 'block' : 'none';\n",
              "\n",
              "        async function convertToInteractive(key) {\n",
              "          const element = document.querySelector('#df-cd56d5ed-a537-4008-9fc7-daa68f34cb3e');\n",
              "          const dataTable =\n",
              "            await google.colab.kernel.invokeFunction('convertToInteractive',\n",
              "                                                     [key], {});\n",
              "          if (!dataTable) return;\n",
              "\n",
              "          const docLinkHtml = 'Like what you see? Visit the ' +\n",
              "            '<a target=\"_blank\" href=https://colab.research.google.com/notebooks/data_table.ipynb>data table notebook</a>'\n",
              "            + ' to learn more about interactive tables.';\n",
              "          element.innerHTML = '';\n",
              "          dataTable['output_type'] = 'display_data';\n",
              "          await google.colab.output.renderOutput(dataTable, element);\n",
              "          const docLink = document.createElement('div');\n",
              "          docLink.innerHTML = docLinkHtml;\n",
              "          element.appendChild(docLink);\n",
              "        }\n",
              "      </script>\n",
              "    </div>\n",
              "  </div>\n",
              "  "
            ],
            "text/plain": [
              "   placeholder                                         embeddings\n",
              "0            0  [0.72639763, 0.55363804, 0.5709315, 0.69988114...\n",
              "1            1  [0.570044, 0.53571916, 0.5704866, 0.6747511, 0...\n",
              "2            2                                                  a\n",
              "3            3  [0.5926122, 0.56348646, 0.5378386, 0.65755475,...\n",
              "4            4  [0.6739781, 0.5331372, 0.5242991, 0.5666829, 0..."
            ]
          },
          "metadata": {},
          "execution_count": 22
        }
      ]
    },
    {
      "cell_type": "code",
      "source": [
        "from numpy import dot\n",
        "from numpy.linalg import norm\n",
        "def similarity(l1,l2):\n",
        "  cos_sim = dot(l1, l2)/(norm(l1)*norm(l2))\n",
        "  return cos_sim"
      ],
      "metadata": {
        "id": "0-FrLOf6A-oH"
      },
      "execution_count": null,
      "outputs": []
    },
    {
      "cell_type": "code",
      "source": [
        "def custom_similarity(l1,l2):\n",
        "  index=1\n",
        "  similar=0\n",
        "  for i in range(len(l1)):\n",
        "    j=(l1[i]-l2[i])*(l1[i]-l2[i])\n",
        "    similar=similar+(j*index)\n",
        "    index+=1\n",
        "  return similar"
      ],
      "metadata": {
        "id": "SBFHgeOVRTcI"
      },
      "execution_count": null,
      "outputs": []
    },
    {
      "cell_type": "code",
      "source": [
        "from sklearn.metrics.pairwise import cosine_similarity\n",
        "def get_cosine_similarity(feature_vec_1, feature_vec_2):\n",
        "  return cosine_similarity(feature_vec_1, feature_vec_2)[0][0]"
      ],
      "metadata": {
        "id": "k71lEi9YB62N"
      },
      "execution_count": null,
      "outputs": []
    },
    {
      "cell_type": "code",
      "source": [
        "get_cosine_similarity(['remainder'],['return'])"
      ],
      "metadata": {
        "colab": {
          "base_uri": "https://localhost:8080/",
          "height": 941
        },
        "id": "HB1n4OqIhk-l",
        "outputId": "083eef15-57c3-443d-909f-ff1ab2082f27"
      },
      "execution_count": null,
      "outputs": [
        {
          "output_type": "display_data",
          "data": {
            "text/html": [
              "<pre style=\"white-space:pre;overflow-x:auto;line-height:normal;font-family:Menlo,'DejaVu Sans Mono',consolas,'Courier New',monospace\"><span style=\"color: #ff0000; text-decoration-color: #ff0000\">╭──────────────────────────── </span><span style=\"color: #800000; text-decoration-color: #800000; font-weight: bold\">Traceback </span><span style=\"color: #bf7f7f; text-decoration-color: #bf7f7f; font-weight: bold\">(most recent call last)</span><span style=\"color: #ff0000; text-decoration-color: #ff0000\"> ────────────────────────────╮</span>\n",
              "<span style=\"color: #ff0000; text-decoration-color: #ff0000\">│</span>                                                                                           <span style=\"color: #ff0000; text-decoration-color: #ff0000\">│</span>\n",
              "<span style=\"color: #ff0000; text-decoration-color: #ff0000\">│</span> <span style=\"color: #bfbf7f; text-decoration-color: #bfbf7f\">/usr/local/lib/python3.7/dist-packages/IPython/core/</span><span style=\"color: #808000; text-decoration-color: #808000; font-weight: bold\">interactiveshell.py</span>:<span style=\"color: #0000ff; text-decoration-color: #0000ff\">2882</span> in <span style=\"color: #00ff00; text-decoration-color: #00ff00\">run_code</span>  <span style=\"color: #ff0000; text-decoration-color: #ff0000\">│</span>\n",
              "<span style=\"color: #ff0000; text-decoration-color: #ff0000\">│</span>                                                                                           <span style=\"color: #ff0000; text-decoration-color: #ff0000\">│</span>\n",
              "<span style=\"color: #ff0000; text-decoration-color: #ff0000\">│</span>   <span style=\"color: #7f7f7f; text-decoration-color: #7f7f7f\">2879 │   │   │   </span><span style=\"color: #0000ff; text-decoration-color: #0000ff\">try</span>:                                                                   <span style=\"color: #ff0000; text-decoration-color: #ff0000\">│</span>\n",
              "<span style=\"color: #ff0000; text-decoration-color: #ff0000\">│</span>   <span style=\"color: #7f7f7f; text-decoration-color: #7f7f7f\">2880 │   │   │   │   </span><span style=\"color: #00ffff; text-decoration-color: #00ffff\">self</span>.hooks.pre_run_code_hook()                                     <span style=\"color: #ff0000; text-decoration-color: #ff0000\">│</span>\n",
              "<span style=\"color: #ff0000; text-decoration-color: #ff0000\">│</span>   <span style=\"color: #7f7f7f; text-decoration-color: #7f7f7f\">2881 │   │   │   │   #rprint('Running code', repr(code_obj)) # dbg</span>                      <span style=\"color: #ff0000; text-decoration-color: #ff0000\">│</span>\n",
              "<span style=\"color: #ff0000; text-decoration-color: #ff0000\">│</span> <span style=\"color: #800000; text-decoration-color: #800000\">❱ </span>2882 <span style=\"color: #7f7f7f; text-decoration-color: #7f7f7f\">│   │   │   │   </span>exec(code_obj, <span style=\"color: #00ffff; text-decoration-color: #00ffff\">self</span>.user_global_ns, <span style=\"color: #00ffff; text-decoration-color: #00ffff\">self</span>.user_ns)                  <span style=\"color: #ff0000; text-decoration-color: #ff0000\">│</span>\n",
              "<span style=\"color: #ff0000; text-decoration-color: #ff0000\">│</span>   <span style=\"color: #7f7f7f; text-decoration-color: #7f7f7f\">2883 │   │   │   </span><span style=\"color: #0000ff; text-decoration-color: #0000ff\">finally</span>:                                                               <span style=\"color: #ff0000; text-decoration-color: #ff0000\">│</span>\n",
              "<span style=\"color: #ff0000; text-decoration-color: #ff0000\">│</span>   <span style=\"color: #7f7f7f; text-decoration-color: #7f7f7f\">2884 │   │   │   │   # Reset our crash handler in place</span>                                 <span style=\"color: #ff0000; text-decoration-color: #ff0000\">│</span>\n",
              "<span style=\"color: #ff0000; text-decoration-color: #ff0000\">│</span>   <span style=\"color: #7f7f7f; text-decoration-color: #7f7f7f\">2885 │   │   │   │   </span>sys.excepthook = old_excepthook                                    <span style=\"color: #ff0000; text-decoration-color: #ff0000\">│</span>\n",
              "<span style=\"color: #ff0000; text-decoration-color: #ff0000\">│</span> <span style=\"color: #808000; text-decoration-color: #808000\">&lt;ipython-input-256-522a24770447&gt;</span>:<span style=\"color: #0000ff; text-decoration-color: #0000ff\">1</span> in <span style=\"color: #00ff00; text-decoration-color: #00ff00\">&lt;module&gt;</span>                                            <span style=\"color: #ff0000; text-decoration-color: #ff0000\">│</span>\n",
              "<span style=\"color: #ff0000; text-decoration-color: #ff0000\">│</span> <span style=\"color: #808000; text-decoration-color: #808000\">&lt;ipython-input-255-a2cff6124cc5&gt;</span>:<span style=\"color: #0000ff; text-decoration-color: #0000ff\">3</span> in <span style=\"color: #00ff00; text-decoration-color: #00ff00\">get_cosine_similarity</span>                               <span style=\"color: #ff0000; text-decoration-color: #ff0000\">│</span>\n",
              "<span style=\"color: #ff0000; text-decoration-color: #ff0000\">│</span>                                                                                           <span style=\"color: #ff0000; text-decoration-color: #ff0000\">│</span>\n",
              "<span style=\"color: #ff0000; text-decoration-color: #ff0000\">│</span> <span style=\"color: #bfbf7f; text-decoration-color: #bfbf7f\">/usr/local/lib/python3.7/dist-packages/sklearn/metrics/</span><span style=\"color: #808000; text-decoration-color: #808000; font-weight: bold\">pairwise.py</span>:<span style=\"color: #0000ff; text-decoration-color: #0000ff\">1246</span> in                <span style=\"color: #ff0000; text-decoration-color: #ff0000\">│</span>\n",
              "<span style=\"color: #ff0000; text-decoration-color: #ff0000\">│</span> <span style=\"color: #00ff00; text-decoration-color: #00ff00\">cosine_similarity</span>                                                                         <span style=\"color: #ff0000; text-decoration-color: #ff0000\">│</span>\n",
              "<span style=\"color: #ff0000; text-decoration-color: #ff0000\">│</span>                                                                                           <span style=\"color: #ff0000; text-decoration-color: #ff0000\">│</span>\n",
              "<span style=\"color: #ff0000; text-decoration-color: #ff0000\">│</span>   <span style=\"color: #7f7f7f; text-decoration-color: #7f7f7f\">1243 </span><span style=\"color: #bfbf7f; text-decoration-color: #bfbf7f\">│   </span><span style=\"color: #808000; text-decoration-color: #808000\">\"\"\"</span>                                                                            <span style=\"color: #ff0000; text-decoration-color: #ff0000\">│</span>\n",
              "<span style=\"color: #ff0000; text-decoration-color: #ff0000\">│</span>   <span style=\"color: #7f7f7f; text-decoration-color: #7f7f7f\">1244 │   # to avoid recursive import</span>                                                    <span style=\"color: #ff0000; text-decoration-color: #ff0000\">│</span>\n",
              "<span style=\"color: #ff0000; text-decoration-color: #ff0000\">│</span>   <span style=\"color: #7f7f7f; text-decoration-color: #7f7f7f\">1245 │   </span>                                                                               <span style=\"color: #ff0000; text-decoration-color: #ff0000\">│</span>\n",
              "<span style=\"color: #ff0000; text-decoration-color: #ff0000\">│</span> <span style=\"color: #800000; text-decoration-color: #800000\">❱ </span>1246 <span style=\"color: #7f7f7f; text-decoration-color: #7f7f7f\">│   </span>X, Y = check_pairwise_arrays(X, Y)                                             <span style=\"color: #ff0000; text-decoration-color: #ff0000\">│</span>\n",
              "<span style=\"color: #ff0000; text-decoration-color: #ff0000\">│</span>   <span style=\"color: #7f7f7f; text-decoration-color: #7f7f7f\">1247 │   </span>                                                                               <span style=\"color: #ff0000; text-decoration-color: #ff0000\">│</span>\n",
              "<span style=\"color: #ff0000; text-decoration-color: #ff0000\">│</span>   <span style=\"color: #7f7f7f; text-decoration-color: #7f7f7f\">1248 │   </span>X_normalized = normalize(X, copy=<span style=\"color: #0000ff; text-decoration-color: #0000ff\">True</span>)                                         <span style=\"color: #ff0000; text-decoration-color: #ff0000\">│</span>\n",
              "<span style=\"color: #ff0000; text-decoration-color: #ff0000\">│</span>   <span style=\"color: #7f7f7f; text-decoration-color: #7f7f7f\">1249 │   </span><span style=\"color: #0000ff; text-decoration-color: #0000ff\">if</span> X <span style=\"color: #ff00ff; text-decoration-color: #ff00ff\">is</span> Y:                                                                     <span style=\"color: #ff0000; text-decoration-color: #ff0000\">│</span>\n",
              "<span style=\"color: #ff0000; text-decoration-color: #ff0000\">│</span>                                                                                           <span style=\"color: #ff0000; text-decoration-color: #ff0000\">│</span>\n",
              "<span style=\"color: #ff0000; text-decoration-color: #ff0000\">│</span> <span style=\"color: #bfbf7f; text-decoration-color: #bfbf7f\">/usr/local/lib/python3.7/dist-packages/sklearn/metrics/</span><span style=\"color: #808000; text-decoration-color: #808000; font-weight: bold\">pairwise.py</span>:<span style=\"color: #0000ff; text-decoration-color: #0000ff\">162</span> in                 <span style=\"color: #ff0000; text-decoration-color: #ff0000\">│</span>\n",
              "<span style=\"color: #ff0000; text-decoration-color: #ff0000\">│</span> <span style=\"color: #00ff00; text-decoration-color: #00ff00\">check_pairwise_arrays</span>                                                                     <span style=\"color: #ff0000; text-decoration-color: #ff0000\">│</span>\n",
              "<span style=\"color: #ff0000; text-decoration-color: #ff0000\">│</span>                                                                                           <span style=\"color: #ff0000; text-decoration-color: #ff0000\">│</span>\n",
              "<span style=\"color: #ff0000; text-decoration-color: #ff0000\">│</span>   <span style=\"color: #7f7f7f; text-decoration-color: #7f7f7f\"> 159 │   │   │   </span>dtype=dtype,                                                           <span style=\"color: #ff0000; text-decoration-color: #ff0000\">│</span>\n",
              "<span style=\"color: #ff0000; text-decoration-color: #ff0000\">│</span>   <span style=\"color: #7f7f7f; text-decoration-color: #7f7f7f\"> 160 │   │   │   </span>copy=copy,                                                             <span style=\"color: #ff0000; text-decoration-color: #ff0000\">│</span>\n",
              "<span style=\"color: #ff0000; text-decoration-color: #ff0000\">│</span>   <span style=\"color: #7f7f7f; text-decoration-color: #7f7f7f\"> 161 │   │   │   </span>force_all_finite=force_all_finite,                                     <span style=\"color: #ff0000; text-decoration-color: #ff0000\">│</span>\n",
              "<span style=\"color: #ff0000; text-decoration-color: #ff0000\">│</span> <span style=\"color: #800000; text-decoration-color: #800000\">❱ </span> 162 <span style=\"color: #7f7f7f; text-decoration-color: #7f7f7f\">│   │   │   </span>estimator=estimator,                                                   <span style=\"color: #ff0000; text-decoration-color: #ff0000\">│</span>\n",
              "<span style=\"color: #ff0000; text-decoration-color: #ff0000\">│</span>   <span style=\"color: #7f7f7f; text-decoration-color: #7f7f7f\"> 163 │   │   </span>)                                                                          <span style=\"color: #ff0000; text-decoration-color: #ff0000\">│</span>\n",
              "<span style=\"color: #ff0000; text-decoration-color: #ff0000\">│</span>   <span style=\"color: #7f7f7f; text-decoration-color: #7f7f7f\"> 164 │   │   </span>Y = check_array(                                                           <span style=\"color: #ff0000; text-decoration-color: #ff0000\">│</span>\n",
              "<span style=\"color: #ff0000; text-decoration-color: #ff0000\">│</span>   <span style=\"color: #7f7f7f; text-decoration-color: #7f7f7f\"> 165 │   │   │   </span>Y,                                                                     <span style=\"color: #ff0000; text-decoration-color: #ff0000\">│</span>\n",
              "<span style=\"color: #ff0000; text-decoration-color: #ff0000\">│</span>                                                                                           <span style=\"color: #ff0000; text-decoration-color: #ff0000\">│</span>\n",
              "<span style=\"color: #ff0000; text-decoration-color: #ff0000\">│</span> <span style=\"color: #bfbf7f; text-decoration-color: #bfbf7f\">/usr/local/lib/python3.7/dist-packages/sklearn/utils/</span><span style=\"color: #808000; text-decoration-color: #808000; font-weight: bold\">validation.py</span>:<span style=\"color: #0000ff; text-decoration-color: #0000ff\">738</span> in <span style=\"color: #00ff00; text-decoration-color: #00ff00\">check_array</span>     <span style=\"color: #ff0000; text-decoration-color: #ff0000\">│</span>\n",
              "<span style=\"color: #ff0000; text-decoration-color: #ff0000\">│</span>                                                                                           <span style=\"color: #ff0000; text-decoration-color: #ff0000\">│</span>\n",
              "<span style=\"color: #ff0000; text-decoration-color: #ff0000\">│</span>   <span style=\"color: #7f7f7f; text-decoration-color: #7f7f7f\"> 735 │   │   │   │   │   │   </span>_assert_all_finite(array, allow_nan=<span style=\"color: #0000ff; text-decoration-color: #0000ff\">False</span>, msg_dtype=dtype <span style=\"color: #ff0000; text-decoration-color: #ff0000\">│</span>\n",
              "<span style=\"color: #ff0000; text-decoration-color: #ff0000\">│</span>   <span style=\"color: #7f7f7f; text-decoration-color: #7f7f7f\"> 736 │   │   │   │   │   </span>array = array.astype(dtype, casting=<span style=\"color: #808000; text-decoration-color: #808000\">\"unsafe\"</span>, copy=<span style=\"color: #0000ff; text-decoration-color: #0000ff\">False</span>)      <span style=\"color: #ff0000; text-decoration-color: #ff0000\">│</span>\n",
              "<span style=\"color: #ff0000; text-decoration-color: #ff0000\">│</span>   <span style=\"color: #7f7f7f; text-decoration-color: #7f7f7f\"> 737 │   │   │   │   </span><span style=\"color: #0000ff; text-decoration-color: #0000ff\">else</span>:                                                              <span style=\"color: #ff0000; text-decoration-color: #ff0000\">│</span>\n",
              "<span style=\"color: #ff0000; text-decoration-color: #ff0000\">│</span> <span style=\"color: #800000; text-decoration-color: #800000\">❱ </span> 738 <span style=\"color: #7f7f7f; text-decoration-color: #7f7f7f\">│   │   │   │   │   </span>array = np.asarray(array, order=order, dtype=dtype)            <span style=\"color: #ff0000; text-decoration-color: #ff0000\">│</span>\n",
              "<span style=\"color: #ff0000; text-decoration-color: #ff0000\">│</span>   <span style=\"color: #7f7f7f; text-decoration-color: #7f7f7f\"> 739 │   │   │   </span><span style=\"color: #0000ff; text-decoration-color: #0000ff\">except</span> ComplexWarning <span style=\"color: #0000ff; text-decoration-color: #0000ff\">as</span> complex_warning:                              <span style=\"color: #ff0000; text-decoration-color: #ff0000\">│</span>\n",
              "<span style=\"color: #ff0000; text-decoration-color: #ff0000\">│</span>   <span style=\"color: #7f7f7f; text-decoration-color: #7f7f7f\"> 740 │   │   │   │   </span><span style=\"color: #0000ff; text-decoration-color: #0000ff\">raise</span> <span style=\"color: #00ffff; text-decoration-color: #00ffff\">ValueError</span>(                                                  <span style=\"color: #ff0000; text-decoration-color: #ff0000\">│</span>\n",
              "<span style=\"color: #ff0000; text-decoration-color: #ff0000\">│</span>   <span style=\"color: #7f7f7f; text-decoration-color: #7f7f7f\"> 741 │   │   │   │   │   </span><span style=\"color: #808000; text-decoration-color: #808000\">\"Complex data not supported\\n{}\\n\"</span>.format(array)               <span style=\"color: #ff0000; text-decoration-color: #ff0000\">│</span>\n",
              "<span style=\"color: #ff0000; text-decoration-color: #ff0000\">│</span>                                                                                           <span style=\"color: #ff0000; text-decoration-color: #ff0000\">│</span>\n",
              "<span style=\"color: #ff0000; text-decoration-color: #ff0000\">│</span> <span style=\"color: #bfbf7f; text-decoration-color: #bfbf7f\">/usr/local/lib/python3.7/dist-packages/numpy/core/</span><span style=\"color: #808000; text-decoration-color: #808000; font-weight: bold\">_asarray.py</span>:<span style=\"color: #0000ff; text-decoration-color: #0000ff\">83</span> in <span style=\"color: #00ff00; text-decoration-color: #00ff00\">asarray</span>               <span style=\"color: #ff0000; text-decoration-color: #ff0000\">│</span>\n",
              "<span style=\"color: #ff0000; text-decoration-color: #ff0000\">│</span>                                                                                           <span style=\"color: #ff0000; text-decoration-color: #ff0000\">│</span>\n",
              "<span style=\"color: #ff0000; text-decoration-color: #ff0000\">│</span>   <span style=\"color: #7f7f7f; text-decoration-color: #7f7f7f\"> 80 </span><span style=\"color: #bfbf7f; text-decoration-color: #bfbf7f\">│   </span><span style=\"color: #808000; text-decoration-color: #808000\">True</span>                                                                            <span style=\"color: #ff0000; text-decoration-color: #ff0000\">│</span>\n",
              "<span style=\"color: #ff0000; text-decoration-color: #ff0000\">│</span>   <span style=\"color: #7f7f7f; text-decoration-color: #7f7f7f\"> 81 │   </span>                                                                                <span style=\"color: #ff0000; text-decoration-color: #ff0000\">│</span>\n",
              "<span style=\"color: #ff0000; text-decoration-color: #ff0000\">│</span>   <span style=\"color: #7f7f7f; text-decoration-color: #7f7f7f\"> 82 </span><span style=\"color: #bfbf7f; text-decoration-color: #bfbf7f\">│   </span><span style=\"color: #808000; text-decoration-color: #808000\">\"\"\"</span>                                                                             <span style=\"color: #ff0000; text-decoration-color: #ff0000\">│</span>\n",
              "<span style=\"color: #ff0000; text-decoration-color: #ff0000\">│</span> <span style=\"color: #800000; text-decoration-color: #800000\">❱ </span> 83 <span style=\"color: #7f7f7f; text-decoration-color: #7f7f7f\">│   </span><span style=\"color: #0000ff; text-decoration-color: #0000ff\">return</span> array(a, dtype, copy=<span style=\"color: #0000ff; text-decoration-color: #0000ff\">False</span>, order=order)                                 <span style=\"color: #ff0000; text-decoration-color: #ff0000\">│</span>\n",
              "<span style=\"color: #ff0000; text-decoration-color: #ff0000\">│</span>   <span style=\"color: #7f7f7f; text-decoration-color: #7f7f7f\"> 84 </span>                                                                                    <span style=\"color: #ff0000; text-decoration-color: #ff0000\">│</span>\n",
              "<span style=\"color: #ff0000; text-decoration-color: #ff0000\">│</span>   <span style=\"color: #7f7f7f; text-decoration-color: #7f7f7f\"> 85 </span>                                                                                    <span style=\"color: #ff0000; text-decoration-color: #ff0000\">│</span>\n",
              "<span style=\"color: #ff0000; text-decoration-color: #ff0000\">│</span>   <span style=\"color: #7f7f7f; text-decoration-color: #7f7f7f\"> 86 </span><span style=\"color: #ff00ff; text-decoration-color: #ff00ff; font-weight: bold\">@set_module</span>(<span style=\"color: #808000; text-decoration-color: #808000\">'numpy'</span>)                                                                <span style=\"color: #ff0000; text-decoration-color: #ff0000\">│</span>\n",
              "<span style=\"color: #ff0000; text-decoration-color: #ff0000\">╰───────────────────────────────────────────────────────────────────────────────────────────╯</span>\n",
              "<span style=\"color: #ff0000; text-decoration-color: #ff0000; font-weight: bold\">ValueError: </span>could not convert string to float: <span style=\"color: #008000; text-decoration-color: #008000\">'remainder'</span>\n",
              "</pre>\n"
            ],
            "text/plain": [
              "\u001b[91m╭─\u001b[0m\u001b[91m─────────────────────────── \u001b[0m\u001b[1;31mTraceback \u001b[0m\u001b[1;2;31m(most recent call last)\u001b[0m\u001b[91m ───────────────────────────\u001b[0m\u001b[91m─╮\u001b[0m\n",
              "\u001b[91m│\u001b[0m                                                                                           \u001b[91m│\u001b[0m\n",
              "\u001b[91m│\u001b[0m \u001b[2;33m/usr/local/lib/python3.7/dist-packages/IPython/core/\u001b[0m\u001b[1;33minteractiveshell.py\u001b[0m:\u001b[94m2882\u001b[0m in \u001b[92mrun_code\u001b[0m  \u001b[91m│\u001b[0m\n",
              "\u001b[91m│\u001b[0m                                                                                           \u001b[91m│\u001b[0m\n",
              "\u001b[91m│\u001b[0m   \u001b[2m2879 \u001b[0m\u001b[2m│   │   │   \u001b[0m\u001b[94mtry\u001b[0m:                                                                   \u001b[91m│\u001b[0m\n",
              "\u001b[91m│\u001b[0m   \u001b[2m2880 \u001b[0m\u001b[2m│   │   │   │   \u001b[0m\u001b[96mself\u001b[0m.hooks.pre_run_code_hook()                                     \u001b[91m│\u001b[0m\n",
              "\u001b[91m│\u001b[0m   \u001b[2m2881 \u001b[0m\u001b[2m│   │   │   │   \u001b[0m\u001b[2m#rprint('Running code', repr(code_obj)) # dbg\u001b[0m                      \u001b[91m│\u001b[0m\n",
              "\u001b[91m│\u001b[0m \u001b[31m❱ \u001b[0m2882 \u001b[2m│   │   │   │   \u001b[0mexec(code_obj, \u001b[96mself\u001b[0m.user_global_ns, \u001b[96mself\u001b[0m.user_ns)                  \u001b[91m│\u001b[0m\n",
              "\u001b[91m│\u001b[0m   \u001b[2m2883 \u001b[0m\u001b[2m│   │   │   \u001b[0m\u001b[94mfinally\u001b[0m:                                                               \u001b[91m│\u001b[0m\n",
              "\u001b[91m│\u001b[0m   \u001b[2m2884 \u001b[0m\u001b[2m│   │   │   │   \u001b[0m\u001b[2m# Reset our crash handler in place\u001b[0m                                 \u001b[91m│\u001b[0m\n",
              "\u001b[91m│\u001b[0m   \u001b[2m2885 \u001b[0m\u001b[2m│   │   │   │   \u001b[0msys.excepthook = old_excepthook                                    \u001b[91m│\u001b[0m\n",
              "\u001b[91m│\u001b[0m \u001b[33m<ipython-input-256-522a24770447>\u001b[0m:\u001b[94m1\u001b[0m in \u001b[92m<module>\u001b[0m                                            \u001b[91m│\u001b[0m\n",
              "\u001b[91m│\u001b[0m \u001b[33m<ipython-input-255-a2cff6124cc5>\u001b[0m:\u001b[94m3\u001b[0m in \u001b[92mget_cosine_similarity\u001b[0m                               \u001b[91m│\u001b[0m\n",
              "\u001b[91m│\u001b[0m                                                                                           \u001b[91m│\u001b[0m\n",
              "\u001b[91m│\u001b[0m \u001b[2;33m/usr/local/lib/python3.7/dist-packages/sklearn/metrics/\u001b[0m\u001b[1;33mpairwise.py\u001b[0m:\u001b[94m1246\u001b[0m in                \u001b[91m│\u001b[0m\n",
              "\u001b[91m│\u001b[0m \u001b[92mcosine_similarity\u001b[0m                                                                         \u001b[91m│\u001b[0m\n",
              "\u001b[91m│\u001b[0m                                                                                           \u001b[91m│\u001b[0m\n",
              "\u001b[91m│\u001b[0m   \u001b[2m1243 \u001b[0m\u001b[2;33m│   \u001b[0m\u001b[33m\"\"\"\u001b[0m                                                                            \u001b[91m│\u001b[0m\n",
              "\u001b[91m│\u001b[0m   \u001b[2m1244 \u001b[0m\u001b[2m│   \u001b[0m\u001b[2m# to avoid recursive import\u001b[0m                                                    \u001b[91m│\u001b[0m\n",
              "\u001b[91m│\u001b[0m   \u001b[2m1245 \u001b[0m\u001b[2m│   \u001b[0m                                                                               \u001b[91m│\u001b[0m\n",
              "\u001b[91m│\u001b[0m \u001b[31m❱ \u001b[0m1246 \u001b[2m│   \u001b[0mX, Y = check_pairwise_arrays(X, Y)                                             \u001b[91m│\u001b[0m\n",
              "\u001b[91m│\u001b[0m   \u001b[2m1247 \u001b[0m\u001b[2m│   \u001b[0m                                                                               \u001b[91m│\u001b[0m\n",
              "\u001b[91m│\u001b[0m   \u001b[2m1248 \u001b[0m\u001b[2m│   \u001b[0mX_normalized = normalize(X, copy=\u001b[94mTrue\u001b[0m)                                         \u001b[91m│\u001b[0m\n",
              "\u001b[91m│\u001b[0m   \u001b[2m1249 \u001b[0m\u001b[2m│   \u001b[0m\u001b[94mif\u001b[0m X \u001b[95mis\u001b[0m Y:                                                                     \u001b[91m│\u001b[0m\n",
              "\u001b[91m│\u001b[0m                                                                                           \u001b[91m│\u001b[0m\n",
              "\u001b[91m│\u001b[0m \u001b[2;33m/usr/local/lib/python3.7/dist-packages/sklearn/metrics/\u001b[0m\u001b[1;33mpairwise.py\u001b[0m:\u001b[94m162\u001b[0m in                 \u001b[91m│\u001b[0m\n",
              "\u001b[91m│\u001b[0m \u001b[92mcheck_pairwise_arrays\u001b[0m                                                                     \u001b[91m│\u001b[0m\n",
              "\u001b[91m│\u001b[0m                                                                                           \u001b[91m│\u001b[0m\n",
              "\u001b[91m│\u001b[0m   \u001b[2m 159 \u001b[0m\u001b[2m│   │   │   \u001b[0mdtype=dtype,                                                           \u001b[91m│\u001b[0m\n",
              "\u001b[91m│\u001b[0m   \u001b[2m 160 \u001b[0m\u001b[2m│   │   │   \u001b[0mcopy=copy,                                                             \u001b[91m│\u001b[0m\n",
              "\u001b[91m│\u001b[0m   \u001b[2m 161 \u001b[0m\u001b[2m│   │   │   \u001b[0mforce_all_finite=force_all_finite,                                     \u001b[91m│\u001b[0m\n",
              "\u001b[91m│\u001b[0m \u001b[31m❱ \u001b[0m 162 \u001b[2m│   │   │   \u001b[0mestimator=estimator,                                                   \u001b[91m│\u001b[0m\n",
              "\u001b[91m│\u001b[0m   \u001b[2m 163 \u001b[0m\u001b[2m│   │   \u001b[0m)                                                                          \u001b[91m│\u001b[0m\n",
              "\u001b[91m│\u001b[0m   \u001b[2m 164 \u001b[0m\u001b[2m│   │   \u001b[0mY = check_array(                                                           \u001b[91m│\u001b[0m\n",
              "\u001b[91m│\u001b[0m   \u001b[2m 165 \u001b[0m\u001b[2m│   │   │   \u001b[0mY,                                                                     \u001b[91m│\u001b[0m\n",
              "\u001b[91m│\u001b[0m                                                                                           \u001b[91m│\u001b[0m\n",
              "\u001b[91m│\u001b[0m \u001b[2;33m/usr/local/lib/python3.7/dist-packages/sklearn/utils/\u001b[0m\u001b[1;33mvalidation.py\u001b[0m:\u001b[94m738\u001b[0m in \u001b[92mcheck_array\u001b[0m     \u001b[91m│\u001b[0m\n",
              "\u001b[91m│\u001b[0m                                                                                           \u001b[91m│\u001b[0m\n",
              "\u001b[91m│\u001b[0m   \u001b[2m 735 \u001b[0m\u001b[2m│   │   │   │   │   │   \u001b[0m_assert_all_finite(array, allow_nan=\u001b[94mFalse\u001b[0m, msg_dtype=dtype \u001b[91m│\u001b[0m\n",
              "\u001b[91m│\u001b[0m   \u001b[2m 736 \u001b[0m\u001b[2m│   │   │   │   │   \u001b[0marray = array.astype(dtype, casting=\u001b[33m\"\u001b[0m\u001b[33munsafe\u001b[0m\u001b[33m\"\u001b[0m, copy=\u001b[94mFalse\u001b[0m)      \u001b[91m│\u001b[0m\n",
              "\u001b[91m│\u001b[0m   \u001b[2m 737 \u001b[0m\u001b[2m│   │   │   │   \u001b[0m\u001b[94melse\u001b[0m:                                                              \u001b[91m│\u001b[0m\n",
              "\u001b[91m│\u001b[0m \u001b[31m❱ \u001b[0m 738 \u001b[2m│   │   │   │   │   \u001b[0marray = np.asarray(array, order=order, dtype=dtype)            \u001b[91m│\u001b[0m\n",
              "\u001b[91m│\u001b[0m   \u001b[2m 739 \u001b[0m\u001b[2m│   │   │   \u001b[0m\u001b[94mexcept\u001b[0m ComplexWarning \u001b[94mas\u001b[0m complex_warning:                              \u001b[91m│\u001b[0m\n",
              "\u001b[91m│\u001b[0m   \u001b[2m 740 \u001b[0m\u001b[2m│   │   │   │   \u001b[0m\u001b[94mraise\u001b[0m \u001b[96mValueError\u001b[0m(                                                  \u001b[91m│\u001b[0m\n",
              "\u001b[91m│\u001b[0m   \u001b[2m 741 \u001b[0m\u001b[2m│   │   │   │   │   \u001b[0m\u001b[33m\"\u001b[0m\u001b[33mComplex data not supported\u001b[0m\u001b[33m\\n\u001b[0m\u001b[33m{}\u001b[0m\u001b[33m\\n\u001b[0m\u001b[33m\"\u001b[0m.format(array)               \u001b[91m│\u001b[0m\n",
              "\u001b[91m│\u001b[0m                                                                                           \u001b[91m│\u001b[0m\n",
              "\u001b[91m│\u001b[0m \u001b[2;33m/usr/local/lib/python3.7/dist-packages/numpy/core/\u001b[0m\u001b[1;33m_asarray.py\u001b[0m:\u001b[94m83\u001b[0m in \u001b[92masarray\u001b[0m               \u001b[91m│\u001b[0m\n",
              "\u001b[91m│\u001b[0m                                                                                           \u001b[91m│\u001b[0m\n",
              "\u001b[91m│\u001b[0m   \u001b[2m 80 \u001b[0m\u001b[2;33m│   \u001b[0m\u001b[33mTrue\u001b[0m                                                                            \u001b[91m│\u001b[0m\n",
              "\u001b[91m│\u001b[0m   \u001b[2m 81 \u001b[0m\u001b[2m│   \u001b[0m                                                                                \u001b[91m│\u001b[0m\n",
              "\u001b[91m│\u001b[0m   \u001b[2m 82 \u001b[0m\u001b[2;33m│   \u001b[0m\u001b[33m\"\"\"\u001b[0m                                                                             \u001b[91m│\u001b[0m\n",
              "\u001b[91m│\u001b[0m \u001b[31m❱ \u001b[0m 83 \u001b[2m│   \u001b[0m\u001b[94mreturn\u001b[0m array(a, dtype, copy=\u001b[94mFalse\u001b[0m, order=order)                                 \u001b[91m│\u001b[0m\n",
              "\u001b[91m│\u001b[0m   \u001b[2m 84 \u001b[0m                                                                                    \u001b[91m│\u001b[0m\n",
              "\u001b[91m│\u001b[0m   \u001b[2m 85 \u001b[0m                                                                                    \u001b[91m│\u001b[0m\n",
              "\u001b[91m│\u001b[0m   \u001b[2m 86 \u001b[0m\u001b[1;95m@set_module\u001b[0m(\u001b[33m'\u001b[0m\u001b[33mnumpy\u001b[0m\u001b[33m'\u001b[0m)                                                                \u001b[91m│\u001b[0m\n",
              "\u001b[91m╰───────────────────────────────────────────────────────────────────────────────────────────╯\u001b[0m\n",
              "\u001b[1;91mValueError: \u001b[0mcould not convert string to float: \u001b[32m'remainder'\u001b[0m\n"
            ]
          },
          "metadata": {}
        }
      ]
    },
    {
      "cell_type": "code",
      "source": [
        "from scipy.spatial import distance\n",
        "def euclidean_similarity(a,b):\n",
        "  return distance.euclidean(a, b)"
      ],
      "metadata": {
        "id": "k7jNd1YsDnaH"
      },
      "execution_count": null,
      "outputs": []
    },
    {
      "cell_type": "code",
      "source": [
        "custom_similarity(X_test[0],X[0])"
      ],
      "metadata": {
        "colab": {
          "base_uri": "https://localhost:8080/"
        },
        "id": "tWD5xpOyB97n",
        "outputId": "b5471644-8f92-42bf-974b-573e9e72a79c"
      },
      "execution_count": null,
      "outputs": [
        {
          "output_type": "execute_result",
          "data": {
            "text/plain": [
              "387.57544130693526"
            ]
          },
          "metadata": {},
          "execution_count": 223
        }
      ]
    },
    {
      "cell_type": "code",
      "source": [
        "import string\n",
        "count=0\n",
        "rest=0\n",
        "d={}\n",
        "Y_new=[]\n",
        "for i in Y:\n",
        "  j=i.lower()\n",
        "  line = ''.join(c for c in j if c in string.ascii_letters)\n",
        "  Y_new.append(line)\n",
        "  if line not in test_words:\n",
        "    f=False\n",
        "    for k in test_words:\n",
        "      for l in test_words:\n",
        "        if k!=l and (k+l==j or l+k==line) and k!='s' and l!='s':\n",
        "          d[line]=[k,l]\n",
        "          f=True\n",
        "          rest+=1\n",
        "          print(k,l,line)\n",
        "          #print(line,k,l)\n",
        "          break\n",
        "      if f==True:\n",
        "        break\n",
        "    if f==False:\n",
        "      count+=1\n",
        "      print(line,j)"
      ],
      "metadata": {
        "id": "Zslw9hZH195S",
        "colab": {
          "base_uri": "https://localhost:8080/"
        },
        "outputId": "30747870-7324-4dbb-db14-7249bc27d6f8"
      },
      "execution_count": null,
      "outputs": [
        {
          "output_type": "stream",
          "name": "stdout",
          "text": [
            "exchanges exchanges\n",
            "equines equines\n",
            "systems systems\n",
            "remainder remainder\n",
            "amongst amongst\n",
            "decisions decisions\n",
            "the from fromthe\n",
            "well well\n",
            "dispute dispute\n",
            "gifts gifts\n",
            "partnership partnership\n",
            "the on onthe\n",
            "individuals individuals\n",
            "outlays outlays\n",
            "subsidy subsidy\n",
            "risks risks\n",
            "the by bythe\n",
            "allocating allocating\n",
            "actions actions\n",
            "these these\n",
            "vital vital\n",
            "never never\n",
            "thousanddollars thousanddollars\n",
            "resolving resolving\n",
            "losing losing\n",
            "frequently frequently\n",
            "may may\n",
            "assisting assisting\n",
            "contingents contingents\n",
            "several several\n",
            "martin martinâ€™\n",
            "tool tool\n",
            "the into intothe\n",
            "appraiser appraiser\n",
            "complicated complicated\n",
            "year year\n",
            "managing managing\n",
            "function function\n",
            "taxes taxes\n",
            "havent havent\n",
            "stalemate stalemate\n",
            "either either\n",
            "oversubscribed oversubscribed\n",
            "agreement agreement\n",
            "service service\n",
            "ventures ventures\n",
            "private private\n",
            "estates estates\n",
            "farms farms\n",
            "investments investments\n",
            "divorces divorces\n",
            "valuations valuations\n",
            "purpose purpose\n",
            "relating relating\n",
            "ownerships ownerships\n",
            "times times\n",
            "places places\n",
            "shareholder shareholder\n",
            "hundreds hundreds\n",
            "stocks stocks\n",
            "forces forces\n",
            "take take\n",
            "below below\n",
            "additon additon\n",
            "profits profits\n",
            "england england\n",
            "larger larger\n",
            "firm firm\n",
            "progressives progressives\n",
            "the within withinthe\n",
            "moneys moneys\n",
            "sold sold\n",
            "structures structures\n",
            "contests contests\n",
            "consumed consumed\n",
            "drives drives\n",
            "referred referred\n",
            "opinions opinions\n",
            "bank bank\n",
            "lawsuit lawsuit\n",
            "industries industries\n",
            "uses uses\n",
            "managership managership\n",
            "grown grown\n",
            "themselves themselves\n",
            "sum sum\n",
            "accusing accusing\n",
            "interests interests\n",
            "financing financing\n",
            "performances performances\n",
            "four four\n",
            "pricing pricing\n",
            "attendees attendees\n",
            "activities activities\n",
            "the capital thecapital\n",
            "place market marketplace\n",
            "he he\n",
            "ought ought\n",
            "the in inthe\n",
            "increases increases\n",
            "low low\n",
            "calamitous calamitous\n",
            "were were\n",
            "controlling controlling\n",
            "less less\n",
            "friend friend\n",
            "paid paid\n",
            "being being\n",
            "the with withthe\n",
            "made made\n",
            "this this\n",
            "misused misused\n",
            "establishing establishing\n",
            "formulas formulas\n",
            "estimate estimate\n",
            "manager manager\n",
            "similar similar\n",
            "bubbles bubbles\n",
            "preparing preparing\n",
            "info info\n",
            "repaid repaid\n",
            "had had\n",
            "types types\n"
          ]
        }
      ]
    },
    {
      "cell_type": "code",
      "source": [
        "Y=Y_new"
      ],
      "metadata": {
        "id": "TkfCXpJ2GYKA"
      },
      "execution_count": null,
      "outputs": []
    },
    {
      "cell_type": "code",
      "source": [
        "Y[0]"
      ],
      "metadata": {
        "colab": {
          "base_uri": "https://localhost:8080/",
          "height": 35
        },
        "id": "nowpU9kWHPLV",
        "outputId": "d9ddb890-51d1-42ea-d5d2-752eee1082a6"
      },
      "execution_count": null,
      "outputs": [
        {
          "output_type": "execute_result",
          "data": {
            "application/vnd.google.colaboratory.intrinsic+json": {
              "type": "string"
            },
            "text/plain": [
              "'exchanges'"
            ]
          },
          "metadata": {},
          "execution_count": 32
        }
      ]
    },
    {
      "cell_type": "code",
      "source": [
        "from sklearn.feature_extraction.text import TfidfVectorizer\n",
        "\n",
        "stemmer = nltk.stem.porter.PorterStemmer()\n",
        "remove_punctuation_map = dict((ord(char), None) for char in string.punctuation)\n",
        "\n",
        "def stem_tokens(tokens):\n",
        "    return [stemmer.stem(item) for item in tokens]\n",
        "\n",
        "'''remove punctuation, lowercase, stem'''\n",
        "def normalize(text):\n",
        "    return stem_tokens(nltk.word_tokenize(text.lower().translate(remove_punctuation_map)))\n",
        "\n",
        "vectorizer = TfidfVectorizer(tokenizer=normalize)\n",
        "\n",
        "def cosine_sim(text1, text2):\n",
        "    tfidf = vectorizer.fit_transform([text1, text2])\n",
        "    return ((tfidf * tfidf.T).A)[0,1]"
      ],
      "metadata": {
        "id": "3I1aF5SrGnzw"
      },
      "execution_count": null,
      "outputs": []
    },
    {
      "cell_type": "code",
      "source": [
        "cosine_sim('gen_eral','general')"
      ],
      "metadata": {
        "colab": {
          "base_uri": "https://localhost:8080/"
        },
        "id": "1AMb5cmIHKCW",
        "outputId": "75d16143-a3c0-4f92-f351-fe276499a768"
      },
      "execution_count": null,
      "outputs": [
        {
          "output_type": "execute_result",
          "data": {
            "text/plain": [
              "1.0"
            ]
          },
          "metadata": {},
          "execution_count": 34
        }
      ]
    },
    {
      "cell_type": "code",
      "source": [
        "dd={}\n",
        "rest=[]\n",
        "for i in Y:\n",
        "  l=[]\n",
        "  if i in d:\n",
        "    i=' '.join(d[i])\n",
        "  #print(i)\n",
        "  for j in test_words:\n",
        "    l.append(cosine_sim(i,j))\n",
        "  k=np.argmax(l)\n",
        "  if k==0:\n",
        "    rest.append(i)\n",
        "    continue\n",
        "  ll=[]\n",
        "  for j in range(len(l)):\n",
        "    if l[j]==l[k]:\n",
        "      ll.append(test_words[j])\n",
        "  dd[i]=ll"
      ],
      "metadata": {
        "id": "MiSD7rhGHZTS"
      },
      "execution_count": null,
      "outputs": []
    },
    {
      "cell_type": "code",
      "source": [
        "len(dd),len(Y),len(rest)"
      ],
      "metadata": {
        "colab": {
          "base_uri": "https://localhost:8080/"
        },
        "id": "f9M25whkH3DN",
        "outputId": "29cc31c7-da2b-436d-c21f-9cf777382e15"
      },
      "execution_count": null,
      "outputs": [
        {
          "output_type": "execute_result",
          "data": {
            "text/plain": [
              "(102, 149, 47)"
            ]
          },
          "metadata": {},
          "execution_count": 88
        }
      ]
    },
    {
      "cell_type": "code",
      "source": [
        "l=[]\n",
        "for j in test_words:\n",
        "  l.append(cosine_sim(j,rest[1]))\n",
        "print(rest[1],l)"
      ],
      "metadata": {
        "colab": {
          "base_uri": "https://localhost:8080/"
        },
        "id": "vfGVfsz5b-h3",
        "outputId": "41c40da1-42f3-4f7e-9774-bf15dce4797a"
      },
      "execution_count": null,
      "outputs": [
        {
          "output_type": "stream",
          "name": "stdout",
          "text": [
            "remainder [0.0, 0.0, 0.0, 0.0, 0.0, 0.0, 0.0, 0.0, 0.0, 0.0, 0.0, 0.0, 0.0, 0.0, 0.0, 0.0, 0.0, 0.0, 0.0, 0.0, 0.0, 0.0, 0.0, 0.0, 0.0, 0.0, 0.0, 0.0, 0.0, 0.0, 0.0, 0.0, 0.0, 0.0, 0.0, 0.0, 0.0, 0.0, 0.0, 0.0, 0.0, 0.0, 0.0, 0.0, 0.0, 0.0, 0.0, 0.0, 0.0, 0.0, 0.0, 0.0, 0.0, 0.0, 0.0, 0.0, 0.0, 0.0, 0.0, 0.0, 0.0, 0.0, 0.0, 0.0, 0.0, 0.0, 0.0, 0.0, 0.0, 0.0, 0.0, 0.0, 0.0, 0.0, 0.0, 0.0, 0.0, 0.0, 0.0, 0.0, 0.0, 0.0, 0.0, 0.0, 0.0, 0.0, 0.0, 0.0, 0.0, 0.0, 0.0, 0.0, 0.0, 0.0, 0.0, 0.0, 0.0, 0.0, 0.0, 0.0, 0.0, 0.0, 0.0, 0.0, 0.0, 0.0, 0.0, 0.0, 0.0, 0.0, 0.0, 0.0, 0.0, 0.0, 0.0, 0.0, 0.0, 0.0, 0.0, 0.0, 0.0, 0.0, 0.0, 0.0, 0.0, 0.0, 0.0, 0.0, 0.0, 0.0, 0.0, 0.0, 0.0, 0.0, 0.0, 0.0, 0.0, 0.0, 0.0, 0.0, 0.0, 0.0, 0.0, 0.0, 0.0, 0.0, 0.0, 0.0, 0.0, 0.0, 0.0, 0.0, 0.0, 0.0, 0.0, 0.0, 0.0, 0.0, 0.0, 0.0, 0.0, 0.0, 0.0, 0.0, 0.0, 0.0, 0.0, 0.0, 0.0, 0.0, 0.0, 0.0, 0.0, 0.0, 0.0, 0.0, 0.0, 0.0, 0.0, 0.0, 0.0]\n"
          ]
        }
      ]
    },
    {
      "cell_type": "code",
      "source": [
        "!pip install spacy-udpipe"
      ],
      "metadata": {
        "colab": {
          "base_uri": "https://localhost:8080/",
          "height": 1000
        },
        "id": "zxAiYk7FjEkd",
        "outputId": "84d0513f-3546-4a94-9981-855e9b792f2b"
      },
      "execution_count": null,
      "outputs": [
        {
          "output_type": "stream",
          "name": "stdout",
          "text": [
            "Collecting spacy-udpipe\n",
            "  Downloading spacy_udpipe-1.0.0-py3-none-any.whl (11 kB)\n",
            "Collecting spacy<4.0.0,>=3.0.0\n",
            "  Downloading spacy-3.2.1-cp37-cp37m-manylinux_2_17_x86_64.manylinux2014_x86_64.whl (6.0 MB)\n",
            "\u001b[K     |████████████████████████████████| 6.0 MB 12.0 MB/s \n",
            "\u001b[?25hCollecting ufal.udpipe>=1.2.0\n",
            "  Downloading ufal.udpipe-1.2.0.3.tar.gz (304 kB)\n",
            "\u001b[K     |████████████████████████████████| 304 kB 35.5 MB/s \n",
            "\u001b[?25hRequirement already satisfied: packaging>=20.0 in /usr/local/lib/python3.7/dist-packages (from spacy<4.0.0,>=3.0.0->spacy-udpipe) (21.3)\n",
            "Collecting catalogue<2.1.0,>=2.0.6\n",
            "  Downloading catalogue-2.0.6-py3-none-any.whl (17 kB)\n",
            "Requirement already satisfied: blis<0.8.0,>=0.4.0 in /usr/local/lib/python3.7/dist-packages (from spacy<4.0.0,>=3.0.0->spacy-udpipe) (0.4.1)\n",
            "Requirement already satisfied: cymem<2.1.0,>=2.0.2 in /usr/local/lib/python3.7/dist-packages (from spacy<4.0.0,>=3.0.0->spacy-udpipe) (2.0.6)\n",
            "Requirement already satisfied: wasabi<1.1.0,>=0.8.1 in /usr/local/lib/python3.7/dist-packages (from spacy<4.0.0,>=3.0.0->spacy-udpipe) (0.8.2)\n",
            "Collecting thinc<8.1.0,>=8.0.12\n",
            "  Downloading thinc-8.0.13-cp37-cp37m-manylinux_2_17_x86_64.manylinux2014_x86_64.whl (628 kB)\n",
            "\u001b[K     |████████████████████████████████| 628 kB 49.8 MB/s \n",
            "\u001b[?25hCollecting spacy-loggers<2.0.0,>=1.0.0\n",
            "  Downloading spacy_loggers-1.0.1-py3-none-any.whl (7.0 kB)\n",
            "Requirement already satisfied: requests<3.0.0,>=2.13.0 in /usr/local/lib/python3.7/dist-packages (from spacy<4.0.0,>=3.0.0->spacy-udpipe) (2.26.0)\n",
            "Requirement already satisfied: setuptools in /usr/local/lib/python3.7/dist-packages (from spacy<4.0.0,>=3.0.0->spacy-udpipe) (57.4.0)\n",
            "Requirement already satisfied: numpy>=1.15.0 in /usr/local/lib/python3.7/dist-packages (from spacy<4.0.0,>=3.0.0->spacy-udpipe) (1.19.5)\n",
            "Collecting typer<0.5.0,>=0.3.0\n",
            "  Downloading typer-0.4.0-py3-none-any.whl (27 kB)\n",
            "Collecting srsly<3.0.0,>=2.4.1\n",
            "  Downloading srsly-2.4.2-cp37-cp37m-manylinux_2_17_x86_64.manylinux2014_x86_64.whl (451 kB)\n",
            "\u001b[K     |████████████████████████████████| 451 kB 51.6 MB/s \n",
            "\u001b[?25hRequirement already satisfied: preshed<3.1.0,>=3.0.2 in /usr/local/lib/python3.7/dist-packages (from spacy<4.0.0,>=3.0.0->spacy-udpipe) (3.0.6)\n",
            "Requirement already satisfied: tqdm<5.0.0,>=4.38.0 in /usr/local/lib/python3.7/dist-packages (from spacy<4.0.0,>=3.0.0->spacy-udpipe) (4.62.3)\n",
            "Collecting spacy-legacy<3.1.0,>=3.0.8\n",
            "  Downloading spacy_legacy-3.0.8-py2.py3-none-any.whl (14 kB)\n",
            "Requirement already satisfied: murmurhash<1.1.0,>=0.28.0 in /usr/local/lib/python3.7/dist-packages (from spacy<4.0.0,>=3.0.0->spacy-udpipe) (1.0.6)\n",
            "Collecting pathy>=0.3.5\n",
            "  Downloading pathy-0.6.1-py3-none-any.whl (42 kB)\n",
            "\u001b[K     |████████████████████████████████| 42 kB 1.2 MB/s \n",
            "\u001b[?25hRequirement already satisfied: jinja2 in /usr/local/lib/python3.7/dist-packages (from spacy<4.0.0,>=3.0.0->spacy-udpipe) (2.11.3)\n",
            "Requirement already satisfied: typing-extensions<4.0.0.0,>=3.7.4 in /usr/local/lib/python3.7/dist-packages (from spacy<4.0.0,>=3.0.0->spacy-udpipe) (3.10.0.2)\n",
            "Collecting pydantic!=1.8,!=1.8.1,<1.9.0,>=1.7.4\n",
            "  Downloading pydantic-1.8.2-cp37-cp37m-manylinux2014_x86_64.whl (10.1 MB)\n",
            "\u001b[K     |████████████████████████████████| 10.1 MB 47.6 MB/s \n",
            "\u001b[?25hCollecting langcodes<4.0.0,>=3.2.0\n",
            "  Downloading langcodes-3.3.0-py3-none-any.whl (181 kB)\n",
            "\u001b[K     |████████████████████████████████| 181 kB 59.6 MB/s \n",
            "\u001b[?25hRequirement already satisfied: zipp>=0.5 in /usr/local/lib/python3.7/dist-packages (from catalogue<2.1.0,>=2.0.6->spacy<4.0.0,>=3.0.0->spacy-udpipe) (3.6.0)\n",
            "Requirement already satisfied: pyparsing!=3.0.5,>=2.0.2 in /usr/local/lib/python3.7/dist-packages (from packaging>=20.0->spacy<4.0.0,>=3.0.0->spacy-udpipe) (3.0.6)\n",
            "Requirement already satisfied: smart-open<6.0.0,>=5.0.0 in /usr/local/lib/python3.7/dist-packages (from pathy>=0.3.5->spacy<4.0.0,>=3.0.0->spacy-udpipe) (5.2.1)\n",
            "Requirement already satisfied: urllib3<1.27,>=1.21.1 in /usr/local/lib/python3.7/dist-packages (from requests<3.0.0,>=2.13.0->spacy<4.0.0,>=3.0.0->spacy-udpipe) (1.24.3)\n",
            "Requirement already satisfied: idna<4,>=2.5 in /usr/local/lib/python3.7/dist-packages (from requests<3.0.0,>=2.13.0->spacy<4.0.0,>=3.0.0->spacy-udpipe) (2.10)\n",
            "Requirement already satisfied: certifi>=2017.4.17 in /usr/local/lib/python3.7/dist-packages (from requests<3.0.0,>=2.13.0->spacy<4.0.0,>=3.0.0->spacy-udpipe) (2021.10.8)\n",
            "Requirement already satisfied: charset-normalizer~=2.0.0 in /usr/local/lib/python3.7/dist-packages (from requests<3.0.0,>=2.13.0->spacy<4.0.0,>=3.0.0->spacy-udpipe) (2.0.8)\n",
            "Requirement already satisfied: click<9.0.0,>=7.1.1 in /usr/local/lib/python3.7/dist-packages (from typer<0.5.0,>=0.3.0->spacy<4.0.0,>=3.0.0->spacy-udpipe) (7.1.2)\n",
            "Requirement already satisfied: MarkupSafe>=0.23 in /usr/local/lib/python3.7/dist-packages (from jinja2->spacy<4.0.0,>=3.0.0->spacy-udpipe) (2.0.1)\n",
            "Building wheels for collected packages: ufal.udpipe\n",
            "  Building wheel for ufal.udpipe (setup.py) ... \u001b[?25l\u001b[?25hdone\n",
            "  Created wheel for ufal.udpipe: filename=ufal.udpipe-1.2.0.3-cp37-cp37m-linux_x86_64.whl size=5626606 sha256=8b2913f31820bac5827be49012979583018b1ae77e5f677e93b2e5752db73ef9\n",
            "  Stored in directory: /root/.cache/pip/wheels/b8/b5/8e/3da091629a21ce2d10bf90759d0cb034ba10a5cf7a01e83d64\n",
            "Successfully built ufal.udpipe\n",
            "Installing collected packages: catalogue, typer, srsly, pydantic, thinc, spacy-loggers, spacy-legacy, pathy, langcodes, ufal.udpipe, spacy, spacy-udpipe\n",
            "  Attempting uninstall: catalogue\n",
            "    Found existing installation: catalogue 1.0.0\n",
            "    Uninstalling catalogue-1.0.0:\n",
            "      Successfully uninstalled catalogue-1.0.0\n",
            "  Attempting uninstall: srsly\n",
            "    Found existing installation: srsly 1.0.5\n",
            "    Uninstalling srsly-1.0.5:\n",
            "      Successfully uninstalled srsly-1.0.5\n",
            "  Attempting uninstall: thinc\n",
            "    Found existing installation: thinc 7.4.0\n",
            "    Uninstalling thinc-7.4.0:\n",
            "      Successfully uninstalled thinc-7.4.0\n",
            "  Attempting uninstall: spacy\n",
            "    Found existing installation: spacy 2.2.4\n",
            "    Uninstalling spacy-2.2.4:\n",
            "      Successfully uninstalled spacy-2.2.4\n",
            "Successfully installed catalogue-2.0.6 langcodes-3.3.0 pathy-0.6.1 pydantic-1.8.2 spacy-3.2.1 spacy-legacy-3.0.8 spacy-loggers-1.0.1 spacy-udpipe-1.0.0 srsly-2.4.2 thinc-8.0.13 typer-0.4.0 ufal.udpipe-1.2.0.3\n"
          ]
        },
        {
          "output_type": "display_data",
          "data": {
            "application/vnd.colab-display-data+json": {
              "pip_warning": {
                "packages": [
                  "catalogue",
                  "spacy",
                  "srsly",
                  "thinc"
                ]
              }
            }
          },
          "metadata": {}
        }
      ]
    },
    {
      "cell_type": "code",
      "source": [
        "!pip install ufal.udpipe"
      ],
      "metadata": {
        "colab": {
          "base_uri": "https://localhost:8080/"
        },
        "id": "BPHZAn-DjqFj",
        "outputId": "8459d26a-c52f-458b-8719-c325542562f9"
      },
      "execution_count": null,
      "outputs": [
        {
          "output_type": "stream",
          "name": "stdout",
          "text": [
            "Requirement already satisfied: ufal.udpipe in /usr/local/lib/python3.7/dist-packages (1.2.0.3)\n"
          ]
        }
      ]
    },
    {
      "cell_type": "code",
      "source": [
        "# in Python: These libraries are getting loaded. \n",
        "import spacy \n",
        "\n",
        "import en_core_web_sm"
      ],
      "metadata": {
        "id": "twLVXb69kI7z"
      },
      "execution_count": null,
      "outputs": []
    },
    {
      "cell_type": "code",
      "source": [
        "python -m download en_core_web_sm"
      ],
      "metadata": {
        "colab": {
          "base_uri": "https://localhost:8080/",
          "height": 113
        },
        "id": "DZH83l3LkEky",
        "outputId": "6227c7c0-c768-4625-d74e-30387fe1757f"
      },
      "execution_count": null,
      "outputs": [
        {
          "output_type": "display_data",
          "data": {
            "text/html": [
              "<pre style=\"white-space:pre;overflow-x:auto;line-height:normal;font-family:Menlo,'DejaVu Sans Mono',consolas,'Courier New',monospace\"><span style=\"color: #800000; text-decoration-color: #800000\">╭───────────────────────────────────────────────────────────────────────────────────────────╮</span>\n",
              "<span style=\"color: #800000; text-decoration-color: #800000\">│</span> <span style=\"color: #808000; text-decoration-color: #808000\"> &lt;ipython-input-276-c5140aba1463&gt;</span>:<span style=\"color: #0000ff; text-decoration-color: #0000ff\">1</span>                                                       <span style=\"color: #800000; text-decoration-color: #800000\">│</span>\n",
              "<span style=\"color: #800000; text-decoration-color: #800000\">│</span> python -m download en_core_web_sm                                                         <span style=\"color: #800000; text-decoration-color: #800000\">│</span>\n",
              "<span style=\"color: #800000; text-decoration-color: #800000\">│</span>                  <span style=\"color: #ff0000; text-decoration-color: #ff0000; font-weight: bold\">▲</span>                                                                        <span style=\"color: #800000; text-decoration-color: #800000\">│</span>\n",
              "<span style=\"color: #800000; text-decoration-color: #800000\">╰───────────────────────────────────────────────────────────────────────────────────────────╯</span>\n",
              "<span style=\"color: #ff0000; text-decoration-color: #ff0000; font-weight: bold\">SyntaxError: </span>invalid syntax\n",
              "</pre>\n"
            ],
            "text/plain": [
              "\u001b[31m╭───────────────────────────────────────────────────────────────────────────────────────────╮\u001b[0m\n",
              "\u001b[31m│\u001b[0m \u001b[33m <ipython-input-276-c5140aba1463>\u001b[0m:\u001b[94m1\u001b[0m                                                       \u001b[31m│\u001b[0m\n",
              "\u001b[31m│\u001b[0m python -m download en_core_web_sm                                                         \u001b[31m│\u001b[0m\n",
              "\u001b[31m│\u001b[0m                  \u001b[1;91m▲\u001b[0m                                                                        \u001b[31m│\u001b[0m\n",
              "\u001b[31m╰───────────────────────────────────────────────────────────────────────────────────────────╯\u001b[0m\n",
              "\u001b[1;91mSyntaxError: \u001b[0minvalid syntax\n"
            ]
          },
          "metadata": {}
        }
      ]
    },
    {
      "cell_type": "code",
      "source": [
        "import spacy_udpipe\n",
        "\n",
        "spacy_udpipe.download(\"italian-postwita\")"
      ],
      "metadata": {
        "colab": {
          "base_uri": "https://localhost:8080/",
          "height": 584
        },
        "id": "bCUdc9eMiOlO",
        "outputId": "a7dcf1d7-fea1-4690-e5e5-6c8d9dcf2b0e"
      },
      "execution_count": null,
      "outputs": [
        {
          "output_type": "display_data",
          "data": {
            "text/html": [
              "<pre style=\"white-space:pre;overflow-x:auto;line-height:normal;font-family:Menlo,'DejaVu Sans Mono',consolas,'Courier New',monospace\"><span style=\"color: #ff0000; text-decoration-color: #ff0000\">╭──────────────────────────── </span><span style=\"color: #800000; text-decoration-color: #800000; font-weight: bold\">Traceback </span><span style=\"color: #bf7f7f; text-decoration-color: #bf7f7f; font-weight: bold\">(most recent call last)</span><span style=\"color: #ff0000; text-decoration-color: #ff0000\"> ────────────────────────────╮</span>\n",
              "<span style=\"color: #ff0000; text-decoration-color: #ff0000\">│</span>                                                                                           <span style=\"color: #ff0000; text-decoration-color: #ff0000\">│</span>\n",
              "<span style=\"color: #ff0000; text-decoration-color: #ff0000\">│</span> <span style=\"color: #bfbf7f; text-decoration-color: #bfbf7f\">/usr/local/lib/python3.7/dist-packages/IPython/core/</span><span style=\"color: #808000; text-decoration-color: #808000; font-weight: bold\">interactiveshell.py</span>:<span style=\"color: #0000ff; text-decoration-color: #0000ff\">2882</span> in <span style=\"color: #00ff00; text-decoration-color: #00ff00\">run_code</span>  <span style=\"color: #ff0000; text-decoration-color: #ff0000\">│</span>\n",
              "<span style=\"color: #ff0000; text-decoration-color: #ff0000\">│</span>                                                                                           <span style=\"color: #ff0000; text-decoration-color: #ff0000\">│</span>\n",
              "<span style=\"color: #ff0000; text-decoration-color: #ff0000\">│</span>   <span style=\"color: #7f7f7f; text-decoration-color: #7f7f7f\">2879 │   │   │   </span><span style=\"color: #0000ff; text-decoration-color: #0000ff\">try</span>:                                                                   <span style=\"color: #ff0000; text-decoration-color: #ff0000\">│</span>\n",
              "<span style=\"color: #ff0000; text-decoration-color: #ff0000\">│</span>   <span style=\"color: #7f7f7f; text-decoration-color: #7f7f7f\">2880 │   │   │   │   </span><span style=\"color: #00ffff; text-decoration-color: #00ffff\">self</span>.hooks.pre_run_code_hook()                                     <span style=\"color: #ff0000; text-decoration-color: #ff0000\">│</span>\n",
              "<span style=\"color: #ff0000; text-decoration-color: #ff0000\">│</span>   <span style=\"color: #7f7f7f; text-decoration-color: #7f7f7f\">2881 │   │   │   │   #rprint('Running code', repr(code_obj)) # dbg</span>                      <span style=\"color: #ff0000; text-decoration-color: #ff0000\">│</span>\n",
              "<span style=\"color: #ff0000; text-decoration-color: #ff0000\">│</span> <span style=\"color: #800000; text-decoration-color: #800000\">❱ </span>2882 <span style=\"color: #7f7f7f; text-decoration-color: #7f7f7f\">│   │   │   │   </span>exec(code_obj, <span style=\"color: #00ffff; text-decoration-color: #00ffff\">self</span>.user_global_ns, <span style=\"color: #00ffff; text-decoration-color: #00ffff\">self</span>.user_ns)                  <span style=\"color: #ff0000; text-decoration-color: #ff0000\">│</span>\n",
              "<span style=\"color: #ff0000; text-decoration-color: #ff0000\">│</span>   <span style=\"color: #7f7f7f; text-decoration-color: #7f7f7f\">2883 │   │   │   </span><span style=\"color: #0000ff; text-decoration-color: #0000ff\">finally</span>:                                                               <span style=\"color: #ff0000; text-decoration-color: #ff0000\">│</span>\n",
              "<span style=\"color: #ff0000; text-decoration-color: #ff0000\">│</span>   <span style=\"color: #7f7f7f; text-decoration-color: #7f7f7f\">2884 │   │   │   │   # Reset our crash handler in place</span>                                 <span style=\"color: #ff0000; text-decoration-color: #ff0000\">│</span>\n",
              "<span style=\"color: #ff0000; text-decoration-color: #ff0000\">│</span>   <span style=\"color: #7f7f7f; text-decoration-color: #7f7f7f\">2885 │   │   │   │   </span>sys.excepthook = old_excepthook                                    <span style=\"color: #ff0000; text-decoration-color: #ff0000\">│</span>\n",
              "<span style=\"color: #ff0000; text-decoration-color: #ff0000\">│</span> <span style=\"color: #808000; text-decoration-color: #808000\">&lt;ipython-input-271-10b8426201bf&gt;</span>:<span style=\"color: #0000ff; text-decoration-color: #0000ff\">1</span> in <span style=\"color: #00ff00; text-decoration-color: #00ff00\">&lt;module&gt;</span>                                            <span style=\"color: #ff0000; text-decoration-color: #ff0000\">│</span>\n",
              "<span style=\"color: #ff0000; text-decoration-color: #ff0000\">│</span>                                                                                           <span style=\"color: #ff0000; text-decoration-color: #ff0000\">│</span>\n",
              "<span style=\"color: #ff0000; text-decoration-color: #ff0000\">│</span> <span style=\"color: #bfbf7f; text-decoration-color: #bfbf7f\">/usr/local/lib/python3.7/dist-packages/spacy_udpipe/</span><span style=\"color: #808000; text-decoration-color: #808000; font-weight: bold\">__init__.py</span>:<span style=\"color: #0000ff; text-decoration-color: #0000ff\">7</span> in <span style=\"color: #00ff00; text-decoration-color: #00ff00\">&lt;module&gt;</span>             <span style=\"color: #ff0000; text-decoration-color: #ff0000\">│</span>\n",
              "<span style=\"color: #ff0000; text-decoration-color: #ff0000\">│</span>                                                                                           <span style=\"color: #ff0000; text-decoration-color: #ff0000\">│</span>\n",
              "<span style=\"color: #ff0000; text-decoration-color: #ff0000\">│</span>   <span style=\"color: #7f7f7f; text-decoration-color: #7f7f7f\"> 4 │   </span><span style=\"color: #808000; text-decoration-color: #808000\">\"UDPipeTokenizer\"</span>, <span style=\"color: #808000; text-decoration-color: #808000\">\"UDPipeModel\"</span>                                                 <span style=\"color: #ff0000; text-decoration-color: #ff0000\">│</span>\n",
              "<span style=\"color: #ff0000; text-decoration-color: #ff0000\">│</span>   <span style=\"color: #7f7f7f; text-decoration-color: #7f7f7f\"> 5 </span>]                                                                                    <span style=\"color: #ff0000; text-decoration-color: #ff0000\">│</span>\n",
              "<span style=\"color: #ff0000; text-decoration-color: #ff0000\">│</span>   <span style=\"color: #7f7f7f; text-decoration-color: #7f7f7f\"> 6 </span>                                                                                     <span style=\"color: #ff0000; text-decoration-color: #ff0000\">│</span>\n",
              "<span style=\"color: #ff0000; text-decoration-color: #ff0000\">│</span> <span style=\"color: #800000; text-decoration-color: #800000\">❱ </span> 7 <span style=\"color: #0000ff; text-decoration-color: #0000ff\">from</span> <span style=\"color: #00ffff; text-decoration-color: #00ffff; text-decoration: underline\">.utils</span> <span style=\"color: #0000ff; text-decoration-color: #0000ff\">import</span> download, load, load_from_path                                    <span style=\"color: #ff0000; text-decoration-color: #ff0000\">│</span>\n",
              "<span style=\"color: #ff0000; text-decoration-color: #ff0000\">│</span>   <span style=\"color: #7f7f7f; text-decoration-color: #7f7f7f\"> 8 </span><span style=\"color: #0000ff; text-decoration-color: #0000ff\">from</span> <span style=\"color: #00ffff; text-decoration-color: #00ffff; text-decoration: underline\">.tokenizer</span> <span style=\"color: #0000ff; text-decoration-color: #0000ff\">import</span> UDPipeTokenizer                                               <span style=\"color: #ff0000; text-decoration-color: #ff0000\">│</span>\n",
              "<span style=\"color: #ff0000; text-decoration-color: #ff0000\">│</span>   <span style=\"color: #7f7f7f; text-decoration-color: #7f7f7f\"> 9 </span><span style=\"color: #0000ff; text-decoration-color: #0000ff\">from</span> <span style=\"color: #00ffff; text-decoration-color: #00ffff; text-decoration: underline\">.udpipe</span> <span style=\"color: #0000ff; text-decoration-color: #0000ff\">import</span> UDPipeModel                                                      <span style=\"color: #ff0000; text-decoration-color: #ff0000\">│</span>\n",
              "<span style=\"color: #ff0000; text-decoration-color: #ff0000\">│</span>   <span style=\"color: #7f7f7f; text-decoration-color: #7f7f7f\">10 </span>                                                                                     <span style=\"color: #ff0000; text-decoration-color: #ff0000\">│</span>\n",
              "<span style=\"color: #ff0000; text-decoration-color: #ff0000\">│</span>                                                                                           <span style=\"color: #ff0000; text-decoration-color: #ff0000\">│</span>\n",
              "<span style=\"color: #ff0000; text-decoration-color: #ff0000\">│</span> <span style=\"color: #bfbf7f; text-decoration-color: #bfbf7f\">/usr/local/lib/python3.7/dist-packages/spacy_udpipe/</span><span style=\"color: #808000; text-decoration-color: #808000; font-weight: bold\">utils.py</span>:<span style=\"color: #0000ff; text-decoration-color: #0000ff\">6</span> in <span style=\"color: #00ff00; text-decoration-color: #00ff00\">&lt;module&gt;</span>                <span style=\"color: #ff0000; text-decoration-color: #ff0000\">│</span>\n",
              "<span style=\"color: #ff0000; text-decoration-color: #ff0000\">│</span>                                                                                           <span style=\"color: #ff0000; text-decoration-color: #ff0000\">│</span>\n",
              "<span style=\"color: #ff0000; text-decoration-color: #ff0000\">│</span>   <span style=\"color: #7f7f7f; text-decoration-color: #7f7f7f\">  3 </span><span style=\"color: #0000ff; text-decoration-color: #0000ff\">import</span> <span style=\"color: #00ffff; text-decoration-color: #00ffff; text-decoration: underline\">urllib.request</span>                                                               <span style=\"color: #ff0000; text-decoration-color: #ff0000\">│</span>\n",
              "<span style=\"color: #ff0000; text-decoration-color: #ff0000\">│</span>   <span style=\"color: #7f7f7f; text-decoration-color: #7f7f7f\">  4 </span><span style=\"color: #0000ff; text-decoration-color: #0000ff\">from</span> <span style=\"color: #00ffff; text-decoration-color: #00ffff; text-decoration: underline\">typing</span> <span style=\"color: #0000ff; text-decoration-color: #0000ff\">import</span> Optional, Dict                                                   <span style=\"color: #ff0000; text-decoration-color: #ff0000\">│</span>\n",
              "<span style=\"color: #ff0000; text-decoration-color: #ff0000\">│</span>   <span style=\"color: #7f7f7f; text-decoration-color: #7f7f7f\">  5 </span>                                                                                    <span style=\"color: #ff0000; text-decoration-color: #ff0000\">│</span>\n",
              "<span style=\"color: #ff0000; text-decoration-color: #ff0000\">│</span> <span style=\"color: #800000; text-decoration-color: #800000\">❱ </span>  6 <span style=\"color: #0000ff; text-decoration-color: #0000ff\">from</span> <span style=\"color: #00ffff; text-decoration-color: #00ffff; text-decoration: underline\">spacy</span> <span style=\"color: #0000ff; text-decoration-color: #0000ff\">import</span> blank, Language                                                   <span style=\"color: #ff0000; text-decoration-color: #ff0000\">│</span>\n",
              "<span style=\"color: #ff0000; text-decoration-color: #ff0000\">│</span>   <span style=\"color: #7f7f7f; text-decoration-color: #7f7f7f\">  7 </span><span style=\"color: #0000ff; text-decoration-color: #0000ff\">from</span> <span style=\"color: #00ffff; text-decoration-color: #00ffff; text-decoration: underline\">spacy.util</span> <span style=\"color: #0000ff; text-decoration-color: #0000ff\">import</span> get_lang_class                                               <span style=\"color: #ff0000; text-decoration-color: #ff0000\">│</span>\n",
              "<span style=\"color: #ff0000; text-decoration-color: #ff0000\">│</span>   <span style=\"color: #7f7f7f; text-decoration-color: #7f7f7f\">  8 </span>                                                                                    <span style=\"color: #ff0000; text-decoration-color: #ff0000\">│</span>\n",
              "<span style=\"color: #ff0000; text-decoration-color: #ff0000\">│</span>   <span style=\"color: #7f7f7f; text-decoration-color: #7f7f7f\">  9 </span>                                                                                    <span style=\"color: #ff0000; text-decoration-color: #ff0000\">│</span>\n",
              "<span style=\"color: #ff0000; text-decoration-color: #ff0000\">╰───────────────────────────────────────────────────────────────────────────────────────────╯</span>\n",
              "<span style=\"color: #ff0000; text-decoration-color: #ff0000; font-weight: bold\">ImportError: </span>cannot import name <span style=\"color: #008000; text-decoration-color: #008000\">'Language'</span> from <span style=\"color: #008000; text-decoration-color: #008000\">'spacy'</span> \n",
              "<span style=\"font-weight: bold\">(</span><span style=\"color: #800080; text-decoration-color: #800080\">/usr/local/lib/python3.7/dist-packages/spacy/</span><span style=\"color: #ff00ff; text-decoration-color: #ff00ff\">__init__.py</span><span style=\"font-weight: bold\">)</span>\n",
              "</pre>\n"
            ],
            "text/plain": [
              "\u001b[91m╭─\u001b[0m\u001b[91m─────────────────────────── \u001b[0m\u001b[1;31mTraceback \u001b[0m\u001b[1;2;31m(most recent call last)\u001b[0m\u001b[91m ───────────────────────────\u001b[0m\u001b[91m─╮\u001b[0m\n",
              "\u001b[91m│\u001b[0m                                                                                           \u001b[91m│\u001b[0m\n",
              "\u001b[91m│\u001b[0m \u001b[2;33m/usr/local/lib/python3.7/dist-packages/IPython/core/\u001b[0m\u001b[1;33minteractiveshell.py\u001b[0m:\u001b[94m2882\u001b[0m in \u001b[92mrun_code\u001b[0m  \u001b[91m│\u001b[0m\n",
              "\u001b[91m│\u001b[0m                                                                                           \u001b[91m│\u001b[0m\n",
              "\u001b[91m│\u001b[0m   \u001b[2m2879 \u001b[0m\u001b[2m│   │   │   \u001b[0m\u001b[94mtry\u001b[0m:                                                                   \u001b[91m│\u001b[0m\n",
              "\u001b[91m│\u001b[0m   \u001b[2m2880 \u001b[0m\u001b[2m│   │   │   │   \u001b[0m\u001b[96mself\u001b[0m.hooks.pre_run_code_hook()                                     \u001b[91m│\u001b[0m\n",
              "\u001b[91m│\u001b[0m   \u001b[2m2881 \u001b[0m\u001b[2m│   │   │   │   \u001b[0m\u001b[2m#rprint('Running code', repr(code_obj)) # dbg\u001b[0m                      \u001b[91m│\u001b[0m\n",
              "\u001b[91m│\u001b[0m \u001b[31m❱ \u001b[0m2882 \u001b[2m│   │   │   │   \u001b[0mexec(code_obj, \u001b[96mself\u001b[0m.user_global_ns, \u001b[96mself\u001b[0m.user_ns)                  \u001b[91m│\u001b[0m\n",
              "\u001b[91m│\u001b[0m   \u001b[2m2883 \u001b[0m\u001b[2m│   │   │   \u001b[0m\u001b[94mfinally\u001b[0m:                                                               \u001b[91m│\u001b[0m\n",
              "\u001b[91m│\u001b[0m   \u001b[2m2884 \u001b[0m\u001b[2m│   │   │   │   \u001b[0m\u001b[2m# Reset our crash handler in place\u001b[0m                                 \u001b[91m│\u001b[0m\n",
              "\u001b[91m│\u001b[0m   \u001b[2m2885 \u001b[0m\u001b[2m│   │   │   │   \u001b[0msys.excepthook = old_excepthook                                    \u001b[91m│\u001b[0m\n",
              "\u001b[91m│\u001b[0m \u001b[33m<ipython-input-271-10b8426201bf>\u001b[0m:\u001b[94m1\u001b[0m in \u001b[92m<module>\u001b[0m                                            \u001b[91m│\u001b[0m\n",
              "\u001b[91m│\u001b[0m                                                                                           \u001b[91m│\u001b[0m\n",
              "\u001b[91m│\u001b[0m \u001b[2;33m/usr/local/lib/python3.7/dist-packages/spacy_udpipe/\u001b[0m\u001b[1;33m__init__.py\u001b[0m:\u001b[94m7\u001b[0m in \u001b[92m<module>\u001b[0m             \u001b[91m│\u001b[0m\n",
              "\u001b[91m│\u001b[0m                                                                                           \u001b[91m│\u001b[0m\n",
              "\u001b[91m│\u001b[0m   \u001b[2m 4 \u001b[0m\u001b[2m│   \u001b[0m\u001b[33m\"\u001b[0m\u001b[33mUDPipeTokenizer\u001b[0m\u001b[33m\"\u001b[0m, \u001b[33m\"\u001b[0m\u001b[33mUDPipeModel\u001b[0m\u001b[33m\"\u001b[0m                                                 \u001b[91m│\u001b[0m\n",
              "\u001b[91m│\u001b[0m   \u001b[2m 5 \u001b[0m]                                                                                    \u001b[91m│\u001b[0m\n",
              "\u001b[91m│\u001b[0m   \u001b[2m 6 \u001b[0m                                                                                     \u001b[91m│\u001b[0m\n",
              "\u001b[91m│\u001b[0m \u001b[31m❱ \u001b[0m 7 \u001b[94mfrom\u001b[0m \u001b[4;96m.\u001b[0m\u001b[4;96mutils\u001b[0m \u001b[94mimport\u001b[0m download, load, load_from_path                                    \u001b[91m│\u001b[0m\n",
              "\u001b[91m│\u001b[0m   \u001b[2m 8 \u001b[0m\u001b[94mfrom\u001b[0m \u001b[4;96m.\u001b[0m\u001b[4;96mtokenizer\u001b[0m \u001b[94mimport\u001b[0m UDPipeTokenizer                                               \u001b[91m│\u001b[0m\n",
              "\u001b[91m│\u001b[0m   \u001b[2m 9 \u001b[0m\u001b[94mfrom\u001b[0m \u001b[4;96m.\u001b[0m\u001b[4;96mudpipe\u001b[0m \u001b[94mimport\u001b[0m UDPipeModel                                                      \u001b[91m│\u001b[0m\n",
              "\u001b[91m│\u001b[0m   \u001b[2m10 \u001b[0m                                                                                     \u001b[91m│\u001b[0m\n",
              "\u001b[91m│\u001b[0m                                                                                           \u001b[91m│\u001b[0m\n",
              "\u001b[91m│\u001b[0m \u001b[2;33m/usr/local/lib/python3.7/dist-packages/spacy_udpipe/\u001b[0m\u001b[1;33mutils.py\u001b[0m:\u001b[94m6\u001b[0m in \u001b[92m<module>\u001b[0m                \u001b[91m│\u001b[0m\n",
              "\u001b[91m│\u001b[0m                                                                                           \u001b[91m│\u001b[0m\n",
              "\u001b[91m│\u001b[0m   \u001b[2m  3 \u001b[0m\u001b[94mimport\u001b[0m \u001b[4;96murllib\u001b[0m\u001b[4;96m.\u001b[0m\u001b[4;96mrequest\u001b[0m                                                               \u001b[91m│\u001b[0m\n",
              "\u001b[91m│\u001b[0m   \u001b[2m  4 \u001b[0m\u001b[94mfrom\u001b[0m \u001b[4;96mtyping\u001b[0m \u001b[94mimport\u001b[0m Optional, Dict                                                   \u001b[91m│\u001b[0m\n",
              "\u001b[91m│\u001b[0m   \u001b[2m  5 \u001b[0m                                                                                    \u001b[91m│\u001b[0m\n",
              "\u001b[91m│\u001b[0m \u001b[31m❱ \u001b[0m  6 \u001b[94mfrom\u001b[0m \u001b[4;96mspacy\u001b[0m \u001b[94mimport\u001b[0m blank, Language                                                   \u001b[91m│\u001b[0m\n",
              "\u001b[91m│\u001b[0m   \u001b[2m  7 \u001b[0m\u001b[94mfrom\u001b[0m \u001b[4;96mspacy\u001b[0m\u001b[4;96m.\u001b[0m\u001b[4;96mutil\u001b[0m \u001b[94mimport\u001b[0m get_lang_class                                               \u001b[91m│\u001b[0m\n",
              "\u001b[91m│\u001b[0m   \u001b[2m  8 \u001b[0m                                                                                    \u001b[91m│\u001b[0m\n",
              "\u001b[91m│\u001b[0m   \u001b[2m  9 \u001b[0m                                                                                    \u001b[91m│\u001b[0m\n",
              "\u001b[91m╰───────────────────────────────────────────────────────────────────────────────────────────╯\u001b[0m\n",
              "\u001b[1;91mImportError: \u001b[0mcannot import name \u001b[32m'Language'\u001b[0m from \u001b[32m'spacy'\u001b[0m \n",
              "\u001b[1m(\u001b[0m\u001b[35m/usr/local/lib/python3.7/dist-packages/spacy/\u001b[0m\u001b[95m__init__.py\u001b[0m\u001b[1m)\u001b[0m\n"
            ]
          },
          "metadata": {}
        }
      ]
    },
    {
      "cell_type": "code",
      "source": [
        "import spacy\n",
        "nlp = spacy.load('en_core_web_md')"
      ],
      "metadata": {
        "colab": {
          "base_uri": "https://localhost:8080/",
          "height": 584
        },
        "id": "zn1Q9rW_iE9H",
        "outputId": "8f03f55a-fc67-455c-8919-b5df31d9f46c"
      },
      "execution_count": null,
      "outputs": [
        {
          "output_type": "display_data",
          "data": {
            "text/html": [
              "<pre style=\"white-space:pre;overflow-x:auto;line-height:normal;font-family:Menlo,'DejaVu Sans Mono',consolas,'Courier New',monospace\"><span style=\"color: #ff0000; text-decoration-color: #ff0000\">╭──────────────────────────── </span><span style=\"color: #800000; text-decoration-color: #800000; font-weight: bold\">Traceback </span><span style=\"color: #bf7f7f; text-decoration-color: #bf7f7f; font-weight: bold\">(most recent call last)</span><span style=\"color: #ff0000; text-decoration-color: #ff0000\"> ────────────────────────────╮</span>\n",
              "<span style=\"color: #ff0000; text-decoration-color: #ff0000\">│</span>                                                                                           <span style=\"color: #ff0000; text-decoration-color: #ff0000\">│</span>\n",
              "<span style=\"color: #ff0000; text-decoration-color: #ff0000\">│</span> <span style=\"color: #bfbf7f; text-decoration-color: #bfbf7f\">/usr/local/lib/python3.7/dist-packages/IPython/core/</span><span style=\"color: #808000; text-decoration-color: #808000; font-weight: bold\">interactiveshell.py</span>:<span style=\"color: #0000ff; text-decoration-color: #0000ff\">2882</span> in <span style=\"color: #00ff00; text-decoration-color: #00ff00\">run_code</span>  <span style=\"color: #ff0000; text-decoration-color: #ff0000\">│</span>\n",
              "<span style=\"color: #ff0000; text-decoration-color: #ff0000\">│</span>                                                                                           <span style=\"color: #ff0000; text-decoration-color: #ff0000\">│</span>\n",
              "<span style=\"color: #ff0000; text-decoration-color: #ff0000\">│</span>   <span style=\"color: #7f7f7f; text-decoration-color: #7f7f7f\">2879 │   │   │   </span><span style=\"color: #0000ff; text-decoration-color: #0000ff\">try</span>:                                                                   <span style=\"color: #ff0000; text-decoration-color: #ff0000\">│</span>\n",
              "<span style=\"color: #ff0000; text-decoration-color: #ff0000\">│</span>   <span style=\"color: #7f7f7f; text-decoration-color: #7f7f7f\">2880 │   │   │   │   </span><span style=\"color: #00ffff; text-decoration-color: #00ffff\">self</span>.hooks.pre_run_code_hook()                                     <span style=\"color: #ff0000; text-decoration-color: #ff0000\">│</span>\n",
              "<span style=\"color: #ff0000; text-decoration-color: #ff0000\">│</span>   <span style=\"color: #7f7f7f; text-decoration-color: #7f7f7f\">2881 │   │   │   │   #rprint('Running code', repr(code_obj)) # dbg</span>                      <span style=\"color: #ff0000; text-decoration-color: #ff0000\">│</span>\n",
              "<span style=\"color: #ff0000; text-decoration-color: #ff0000\">│</span> <span style=\"color: #800000; text-decoration-color: #800000\">❱ </span>2882 <span style=\"color: #7f7f7f; text-decoration-color: #7f7f7f\">│   │   │   │   </span>exec(code_obj, <span style=\"color: #00ffff; text-decoration-color: #00ffff\">self</span>.user_global_ns, <span style=\"color: #00ffff; text-decoration-color: #00ffff\">self</span>.user_ns)                  <span style=\"color: #ff0000; text-decoration-color: #ff0000\">│</span>\n",
              "<span style=\"color: #ff0000; text-decoration-color: #ff0000\">│</span>   <span style=\"color: #7f7f7f; text-decoration-color: #7f7f7f\">2883 │   │   │   </span><span style=\"color: #0000ff; text-decoration-color: #0000ff\">finally</span>:                                                               <span style=\"color: #ff0000; text-decoration-color: #ff0000\">│</span>\n",
              "<span style=\"color: #ff0000; text-decoration-color: #ff0000\">│</span>   <span style=\"color: #7f7f7f; text-decoration-color: #7f7f7f\">2884 │   │   │   │   # Reset our crash handler in place</span>                                 <span style=\"color: #ff0000; text-decoration-color: #ff0000\">│</span>\n",
              "<span style=\"color: #ff0000; text-decoration-color: #ff0000\">│</span>   <span style=\"color: #7f7f7f; text-decoration-color: #7f7f7f\">2885 │   │   │   │   </span>sys.excepthook = old_excepthook                                    <span style=\"color: #ff0000; text-decoration-color: #ff0000\">│</span>\n",
              "<span style=\"color: #ff0000; text-decoration-color: #ff0000\">│</span> <span style=\"color: #808000; text-decoration-color: #808000\">&lt;ipython-input-277-b8962b0d445d&gt;</span>:<span style=\"color: #0000ff; text-decoration-color: #0000ff\">3</span> in <span style=\"color: #00ff00; text-decoration-color: #00ff00\">&lt;module&gt;</span>                                            <span style=\"color: #ff0000; text-decoration-color: #ff0000\">│</span>\n",
              "<span style=\"color: #ff0000; text-decoration-color: #ff0000\">│</span>                                                                                           <span style=\"color: #ff0000; text-decoration-color: #ff0000\">│</span>\n",
              "<span style=\"color: #ff0000; text-decoration-color: #ff0000\">│</span> <span style=\"color: #bfbf7f; text-decoration-color: #bfbf7f\">/usr/local/lib/python3.7/dist-packages/spacy/</span><span style=\"color: #808000; text-decoration-color: #808000; font-weight: bold\">__init__.py</span>:<span style=\"color: #0000ff; text-decoration-color: #0000ff\">30</span> in <span style=\"color: #00ff00; text-decoration-color: #00ff00\">load</span>                       <span style=\"color: #ff0000; text-decoration-color: #ff0000\">│</span>\n",
              "<span style=\"color: #ff0000; text-decoration-color: #ff0000\">│</span>                                                                                           <span style=\"color: #ff0000; text-decoration-color: #ff0000\">│</span>\n",
              "<span style=\"color: #ff0000; text-decoration-color: #ff0000\">│</span>   <span style=\"color: #7f7f7f; text-decoration-color: #7f7f7f\">27 │   </span><span style=\"color: #0000ff; text-decoration-color: #0000ff\">raise</span> <span style=\"color: #00ffff; text-decoration-color: #00ffff\">SystemError</span>(Errors.E130)                                                   <span style=\"color: #ff0000; text-decoration-color: #ff0000\">│</span>\n",
              "<span style=\"color: #ff0000; text-decoration-color: #ff0000\">│</span>   <span style=\"color: #7f7f7f; text-decoration-color: #7f7f7f\">28 </span>                                                                                     <span style=\"color: #ff0000; text-decoration-color: #ff0000\">│</span>\n",
              "<span style=\"color: #ff0000; text-decoration-color: #ff0000\">│</span>   <span style=\"color: #7f7f7f; text-decoration-color: #7f7f7f\">29 </span>                                                                                     <span style=\"color: #ff0000; text-decoration-color: #ff0000\">│</span>\n",
              "<span style=\"color: #ff0000; text-decoration-color: #ff0000\">│</span> <span style=\"color: #800000; text-decoration-color: #800000\">❱ </span>30 <span style=\"color: #0000ff; text-decoration-color: #0000ff\">def</span> <span style=\"color: #00ff00; text-decoration-color: #00ff00\">load</span>(                                                                            <span style=\"color: #ff0000; text-decoration-color: #ff0000\">│</span>\n",
              "<span style=\"color: #ff0000; text-decoration-color: #ff0000\">│</span>   <span style=\"color: #7f7f7f; text-decoration-color: #7f7f7f\">31 │   </span>name: Union[<span style=\"color: #00ffff; text-decoration-color: #00ffff\">str</span>, Path],                                                          <span style=\"color: #ff0000; text-decoration-color: #ff0000\">│</span>\n",
              "<span style=\"color: #ff0000; text-decoration-color: #ff0000\">│</span>   <span style=\"color: #7f7f7f; text-decoration-color: #7f7f7f\">32 │   </span>*,                                                                               <span style=\"color: #ff0000; text-decoration-color: #ff0000\">│</span>\n",
              "<span style=\"color: #ff0000; text-decoration-color: #ff0000\">│</span>   <span style=\"color: #7f7f7f; text-decoration-color: #7f7f7f\">33 │   </span>vocab: Union[Vocab, <span style=\"color: #00ffff; text-decoration-color: #00ffff\">bool</span>] = <span style=\"color: #0000ff; text-decoration-color: #0000ff\">True</span>,                                                <span style=\"color: #ff0000; text-decoration-color: #ff0000\">│</span>\n",
              "<span style=\"color: #ff0000; text-decoration-color: #ff0000\">│</span>                                                                                           <span style=\"color: #ff0000; text-decoration-color: #ff0000\">│</span>\n",
              "<span style=\"color: #ff0000; text-decoration-color: #ff0000\">│</span> <span style=\"color: #bfbf7f; text-decoration-color: #bfbf7f\">/usr/local/lib/python3.7/dist-packages/spacy/</span><span style=\"color: #808000; text-decoration-color: #808000; font-weight: bold\">util.py</span>:<span style=\"color: #0000ff; text-decoration-color: #0000ff\">159</span> in <span style=\"color: #00ff00; text-decoration-color: #00ff00\">load_model</span>                    <span style=\"color: #ff0000; text-decoration-color: #ff0000\">│</span>\n",
              "<span style=\"color: #ff0000; text-decoration-color: #ff0000\">│</span>                                                                                           <span style=\"color: #ff0000; text-decoration-color: #ff0000\">│</span>\n",
              "<span style=\"color: #ff0000; text-decoration-color: #ff0000\">│</span>   <span style=\"color: #7f7f7f; text-decoration-color: #7f7f7f\"> 156 │   │   </span>reg = <span style=\"color: #00ffff; text-decoration-color: #00ffff\">getattr</span>(<span style=\"color: #00ffff; text-decoration-color: #00ffff\">cls</span>, registry_name)                                          <span style=\"color: #ff0000; text-decoration-color: #ff0000\">│</span>\n",
              "<span style=\"color: #ff0000; text-decoration-color: #ff0000\">│</span>   <span style=\"color: #7f7f7f; text-decoration-color: #7f7f7f\"> 157 │   │   </span><span style=\"color: #0000ff; text-decoration-color: #0000ff\">try</span>:                                                                       <span style=\"color: #ff0000; text-decoration-color: #ff0000\">│</span>\n",
              "<span style=\"color: #ff0000; text-decoration-color: #ff0000\">│</span>   <span style=\"color: #7f7f7f; text-decoration-color: #7f7f7f\"> 158 │   │   │   </span>func_info = reg.find(func_name)                                        <span style=\"color: #ff0000; text-decoration-color: #ff0000\">│</span>\n",
              "<span style=\"color: #ff0000; text-decoration-color: #ff0000\">│</span> <span style=\"color: #800000; text-decoration-color: #800000\">❱ </span> 159 <span style=\"color: #7f7f7f; text-decoration-color: #7f7f7f\">│   │   </span><span style=\"color: #0000ff; text-decoration-color: #0000ff\">except</span> RegistryError:                                                      <span style=\"color: #ff0000; text-decoration-color: #ff0000\">│</span>\n",
              "<span style=\"color: #ff0000; text-decoration-color: #ff0000\">│</span>   <span style=\"color: #7f7f7f; text-decoration-color: #7f7f7f\"> 160 │   │   │   </span><span style=\"color: #0000ff; text-decoration-color: #0000ff\">if</span> func_name.startswith(<span style=\"color: #808000; text-decoration-color: #808000\">\"spacy.\"</span>):                                     <span style=\"color: #ff0000; text-decoration-color: #ff0000\">│</span>\n",
              "<span style=\"color: #ff0000; text-decoration-color: #ff0000\">│</span>   <span style=\"color: #7f7f7f; text-decoration-color: #7f7f7f\"> 161 │   │   │   │   </span>legacy_name = func_name.replace(<span style=\"color: #808000; text-decoration-color: #808000\">\"spacy.\"</span>, <span style=\"color: #808000; text-decoration-color: #808000\">\"spacy-legacy.\"</span>)         <span style=\"color: #ff0000; text-decoration-color: #ff0000\">│</span>\n",
              "<span style=\"color: #ff0000; text-decoration-color: #ff0000\">│</span>   <span style=\"color: #7f7f7f; text-decoration-color: #7f7f7f\"> 162 │   │   │   │   </span><span style=\"color: #0000ff; text-decoration-color: #0000ff\">try</span>:                                                               <span style=\"color: #ff0000; text-decoration-color: #ff0000\">│</span>\n",
              "<span style=\"color: #ff0000; text-decoration-color: #ff0000\">╰───────────────────────────────────────────────────────────────────────────────────────────╯</span>\n",
              "<span style=\"color: #ff0000; text-decoration-color: #ff0000; font-weight: bold\">OSError: </span><span style=\"font-weight: bold\">[</span>E049<span style=\"font-weight: bold\">]</span> Can't find spaCy data directory: <span style=\"color: #008000; text-decoration-color: #008000\">'None'</span>. Check your installation and \n",
              "permissions, or use spacy.util.set_data_path to customise the location if necessary.\n",
              "</pre>\n"
            ],
            "text/plain": [
              "\u001b[91m╭─\u001b[0m\u001b[91m─────────────────────────── \u001b[0m\u001b[1;31mTraceback \u001b[0m\u001b[1;2;31m(most recent call last)\u001b[0m\u001b[91m ───────────────────────────\u001b[0m\u001b[91m─╮\u001b[0m\n",
              "\u001b[91m│\u001b[0m                                                                                           \u001b[91m│\u001b[0m\n",
              "\u001b[91m│\u001b[0m \u001b[2;33m/usr/local/lib/python3.7/dist-packages/IPython/core/\u001b[0m\u001b[1;33minteractiveshell.py\u001b[0m:\u001b[94m2882\u001b[0m in \u001b[92mrun_code\u001b[0m  \u001b[91m│\u001b[0m\n",
              "\u001b[91m│\u001b[0m                                                                                           \u001b[91m│\u001b[0m\n",
              "\u001b[91m│\u001b[0m   \u001b[2m2879 \u001b[0m\u001b[2m│   │   │   \u001b[0m\u001b[94mtry\u001b[0m:                                                                   \u001b[91m│\u001b[0m\n",
              "\u001b[91m│\u001b[0m   \u001b[2m2880 \u001b[0m\u001b[2m│   │   │   │   \u001b[0m\u001b[96mself\u001b[0m.hooks.pre_run_code_hook()                                     \u001b[91m│\u001b[0m\n",
              "\u001b[91m│\u001b[0m   \u001b[2m2881 \u001b[0m\u001b[2m│   │   │   │   \u001b[0m\u001b[2m#rprint('Running code', repr(code_obj)) # dbg\u001b[0m                      \u001b[91m│\u001b[0m\n",
              "\u001b[91m│\u001b[0m \u001b[31m❱ \u001b[0m2882 \u001b[2m│   │   │   │   \u001b[0mexec(code_obj, \u001b[96mself\u001b[0m.user_global_ns, \u001b[96mself\u001b[0m.user_ns)                  \u001b[91m│\u001b[0m\n",
              "\u001b[91m│\u001b[0m   \u001b[2m2883 \u001b[0m\u001b[2m│   │   │   \u001b[0m\u001b[94mfinally\u001b[0m:                                                               \u001b[91m│\u001b[0m\n",
              "\u001b[91m│\u001b[0m   \u001b[2m2884 \u001b[0m\u001b[2m│   │   │   │   \u001b[0m\u001b[2m# Reset our crash handler in place\u001b[0m                                 \u001b[91m│\u001b[0m\n",
              "\u001b[91m│\u001b[0m   \u001b[2m2885 \u001b[0m\u001b[2m│   │   │   │   \u001b[0msys.excepthook = old_excepthook                                    \u001b[91m│\u001b[0m\n",
              "\u001b[91m│\u001b[0m \u001b[33m<ipython-input-277-b8962b0d445d>\u001b[0m:\u001b[94m3\u001b[0m in \u001b[92m<module>\u001b[0m                                            \u001b[91m│\u001b[0m\n",
              "\u001b[91m│\u001b[0m                                                                                           \u001b[91m│\u001b[0m\n",
              "\u001b[91m│\u001b[0m \u001b[2;33m/usr/local/lib/python3.7/dist-packages/spacy/\u001b[0m\u001b[1;33m__init__.py\u001b[0m:\u001b[94m30\u001b[0m in \u001b[92mload\u001b[0m                       \u001b[91m│\u001b[0m\n",
              "\u001b[91m│\u001b[0m                                                                                           \u001b[91m│\u001b[0m\n",
              "\u001b[91m│\u001b[0m   \u001b[2m27 \u001b[0m\u001b[2m│   \u001b[0m\u001b[94mraise\u001b[0m \u001b[96mSystemError\u001b[0m(Errors.E130)                                                   \u001b[91m│\u001b[0m\n",
              "\u001b[91m│\u001b[0m   \u001b[2m28 \u001b[0m                                                                                     \u001b[91m│\u001b[0m\n",
              "\u001b[91m│\u001b[0m   \u001b[2m29 \u001b[0m                                                                                     \u001b[91m│\u001b[0m\n",
              "\u001b[91m│\u001b[0m \u001b[31m❱ \u001b[0m30 \u001b[94mdef\u001b[0m \u001b[92mload\u001b[0m(                                                                            \u001b[91m│\u001b[0m\n",
              "\u001b[91m│\u001b[0m   \u001b[2m31 \u001b[0m\u001b[2m│   \u001b[0mname: Union[\u001b[96mstr\u001b[0m, Path],                                                          \u001b[91m│\u001b[0m\n",
              "\u001b[91m│\u001b[0m   \u001b[2m32 \u001b[0m\u001b[2m│   \u001b[0m*,                                                                               \u001b[91m│\u001b[0m\n",
              "\u001b[91m│\u001b[0m   \u001b[2m33 \u001b[0m\u001b[2m│   \u001b[0mvocab: Union[Vocab, \u001b[96mbool\u001b[0m] = \u001b[94mTrue\u001b[0m,                                                \u001b[91m│\u001b[0m\n",
              "\u001b[91m│\u001b[0m                                                                                           \u001b[91m│\u001b[0m\n",
              "\u001b[91m│\u001b[0m \u001b[2;33m/usr/local/lib/python3.7/dist-packages/spacy/\u001b[0m\u001b[1;33mutil.py\u001b[0m:\u001b[94m159\u001b[0m in \u001b[92mload_model\u001b[0m                    \u001b[91m│\u001b[0m\n",
              "\u001b[91m│\u001b[0m                                                                                           \u001b[91m│\u001b[0m\n",
              "\u001b[91m│\u001b[0m   \u001b[2m 156 \u001b[0m\u001b[2m│   │   \u001b[0mreg = \u001b[96mgetattr\u001b[0m(\u001b[96mcls\u001b[0m, registry_name)                                          \u001b[91m│\u001b[0m\n",
              "\u001b[91m│\u001b[0m   \u001b[2m 157 \u001b[0m\u001b[2m│   │   \u001b[0m\u001b[94mtry\u001b[0m:                                                                       \u001b[91m│\u001b[0m\n",
              "\u001b[91m│\u001b[0m   \u001b[2m 158 \u001b[0m\u001b[2m│   │   │   \u001b[0mfunc_info = reg.find(func_name)                                        \u001b[91m│\u001b[0m\n",
              "\u001b[91m│\u001b[0m \u001b[31m❱ \u001b[0m 159 \u001b[2m│   │   \u001b[0m\u001b[94mexcept\u001b[0m RegistryError:                                                      \u001b[91m│\u001b[0m\n",
              "\u001b[91m│\u001b[0m   \u001b[2m 160 \u001b[0m\u001b[2m│   │   │   \u001b[0m\u001b[94mif\u001b[0m func_name.startswith(\u001b[33m\"\u001b[0m\u001b[33mspacy.\u001b[0m\u001b[33m\"\u001b[0m):                                     \u001b[91m│\u001b[0m\n",
              "\u001b[91m│\u001b[0m   \u001b[2m 161 \u001b[0m\u001b[2m│   │   │   │   \u001b[0mlegacy_name = func_name.replace(\u001b[33m\"\u001b[0m\u001b[33mspacy.\u001b[0m\u001b[33m\"\u001b[0m, \u001b[33m\"\u001b[0m\u001b[33mspacy-legacy.\u001b[0m\u001b[33m\"\u001b[0m)         \u001b[91m│\u001b[0m\n",
              "\u001b[91m│\u001b[0m   \u001b[2m 162 \u001b[0m\u001b[2m│   │   │   │   \u001b[0m\u001b[94mtry\u001b[0m:                                                               \u001b[91m│\u001b[0m\n",
              "\u001b[91m╰───────────────────────────────────────────────────────────────────────────────────────────╯\u001b[0m\n",
              "\u001b[1;91mOSError: \u001b[0m\u001b[1m[\u001b[0mE049\u001b[1m]\u001b[0m Can't find spaCy data directory: \u001b[32m'None'\u001b[0m. Check your installation and \n",
              "permissions, or use spacy.util.set_data_path to customise the location if necessary.\n"
            ]
          },
          "metadata": {}
        }
      ]
    },
    {
      "cell_type": "code",
      "source": [
        ""
      ],
      "metadata": {
        "id": "KcyCDYveiGbW"
      },
      "execution_count": null,
      "outputs": []
    },
    {
      "cell_type": "code",
      "source": [
        "nltk.download('wordnet')"
      ],
      "metadata": {
        "colab": {
          "base_uri": "https://localhost:8080/"
        },
        "id": "O5m_KMU0gQZ-",
        "outputId": "ee91c6ab-cd49-4753-aed3-d5b90082b0e2"
      },
      "execution_count": null,
      "outputs": [
        {
          "output_type": "stream",
          "name": "stdout",
          "text": [
            "[nltk_data] Downloading package wordnet to /root/nltk_data...\n",
            "[nltk_data]   Unzipping corpora/wordnet.zip.\n"
          ]
        },
        {
          "output_type": "execute_result",
          "data": {
            "text/plain": [
              "True"
            ]
          },
          "metadata": {},
          "execution_count": 233
        }
      ]
    },
    {
      "cell_type": "code",
      "source": [
        "from nltk.corpus import wordnet\n",
        "\n",
        "list1 = ['Compare', 'require']\n",
        "list2 = ['choose', 'copy', 'define', 'duplicate', 'find', 'how', 'identify', 'label', 'list', 'listen', 'locate', 'match', 'memorise', 'name', 'observe', 'omit', 'quote', 'read', 'recall', 'recite', 'recognise', 'record', 'relate', 'remember', 'repeat', 'reproduce', 'retell', 'select', 'show', 'spell', 'state', 'tell', 'trace', 'write']\n",
        "list = []\n",
        "\n",
        "for word1 in list1:\n",
        "    for word2 in list2:\n",
        "        wordFromList1 = wordnet.synsets(word1)\n",
        "        wordFromList2 = wordnet.synsets(word2)\n",
        "        if wordFromList1 and wordFromList2:\n",
        "            s = wordFromList1[0].wup_similarity(wordFromList2[0])\n",
        "            list.append(s)\n",
        "\n",
        "print(max(list))"
      ],
      "metadata": {
        "colab": {
          "base_uri": "https://localhost:8080/",
          "height": 243
        },
        "id": "aARbqWPmd8u3",
        "outputId": "8540842e-7098-45c9-c759-7da2c5572952"
      },
      "execution_count": null,
      "outputs": [
        {
          "output_type": "display_data",
          "data": {
            "text/html": [
              "<pre style=\"white-space:pre;overflow-x:auto;line-height:normal;font-family:Menlo,'DejaVu Sans Mono',consolas,'Courier New',monospace\"><span style=\"color: #ff0000; text-decoration-color: #ff0000\">╭──────────────────────────── </span><span style=\"color: #800000; text-decoration-color: #800000; font-weight: bold\">Traceback </span><span style=\"color: #bf7f7f; text-decoration-color: #bf7f7f; font-weight: bold\">(most recent call last)</span><span style=\"color: #ff0000; text-decoration-color: #ff0000\"> ────────────────────────────╮</span>\n",
              "<span style=\"color: #ff0000; text-decoration-color: #ff0000\">│</span>                                                                                           <span style=\"color: #ff0000; text-decoration-color: #ff0000\">│</span>\n",
              "<span style=\"color: #ff0000; text-decoration-color: #ff0000\">│</span> <span style=\"color: #bfbf7f; text-decoration-color: #bfbf7f\">/usr/local/lib/python3.7/dist-packages/IPython/core/</span><span style=\"color: #808000; text-decoration-color: #808000; font-weight: bold\">interactiveshell.py</span>:<span style=\"color: #0000ff; text-decoration-color: #0000ff\">2882</span> in <span style=\"color: #00ff00; text-decoration-color: #00ff00\">run_code</span>  <span style=\"color: #ff0000; text-decoration-color: #ff0000\">│</span>\n",
              "<span style=\"color: #ff0000; text-decoration-color: #ff0000\">│</span>                                                                                           <span style=\"color: #ff0000; text-decoration-color: #ff0000\">│</span>\n",
              "<span style=\"color: #ff0000; text-decoration-color: #ff0000\">│</span>   <span style=\"color: #7f7f7f; text-decoration-color: #7f7f7f\">2879 │   │   │   </span><span style=\"color: #0000ff; text-decoration-color: #0000ff\">try</span>:                                                                   <span style=\"color: #ff0000; text-decoration-color: #ff0000\">│</span>\n",
              "<span style=\"color: #ff0000; text-decoration-color: #ff0000\">│</span>   <span style=\"color: #7f7f7f; text-decoration-color: #7f7f7f\">2880 │   │   │   │   </span><span style=\"color: #00ffff; text-decoration-color: #00ffff\">self</span>.hooks.pre_run_code_hook()                                     <span style=\"color: #ff0000; text-decoration-color: #ff0000\">│</span>\n",
              "<span style=\"color: #ff0000; text-decoration-color: #ff0000\">│</span>   <span style=\"color: #7f7f7f; text-decoration-color: #7f7f7f\">2881 │   │   │   │   #rprint('Running code', repr(code_obj)) # dbg</span>                      <span style=\"color: #ff0000; text-decoration-color: #ff0000\">│</span>\n",
              "<span style=\"color: #ff0000; text-decoration-color: #ff0000\">│</span> <span style=\"color: #800000; text-decoration-color: #800000\">❱ </span>2882 <span style=\"color: #7f7f7f; text-decoration-color: #7f7f7f\">│   │   │   │   </span>exec(code_obj, <span style=\"color: #00ffff; text-decoration-color: #00ffff\">self</span>.user_global_ns, <span style=\"color: #00ffff; text-decoration-color: #00ffff\">self</span>.user_ns)                  <span style=\"color: #ff0000; text-decoration-color: #ff0000\">│</span>\n",
              "<span style=\"color: #ff0000; text-decoration-color: #ff0000\">│</span>   <span style=\"color: #7f7f7f; text-decoration-color: #7f7f7f\">2883 │   │   │   </span><span style=\"color: #0000ff; text-decoration-color: #0000ff\">finally</span>:                                                               <span style=\"color: #ff0000; text-decoration-color: #ff0000\">│</span>\n",
              "<span style=\"color: #ff0000; text-decoration-color: #ff0000\">│</span>   <span style=\"color: #7f7f7f; text-decoration-color: #7f7f7f\">2884 │   │   │   │   # Reset our crash handler in place</span>                                 <span style=\"color: #ff0000; text-decoration-color: #ff0000\">│</span>\n",
              "<span style=\"color: #ff0000; text-decoration-color: #ff0000\">│</span>   <span style=\"color: #7f7f7f; text-decoration-color: #7f7f7f\">2885 │   │   │   │   </span>sys.excepthook = old_excepthook                                    <span style=\"color: #ff0000; text-decoration-color: #ff0000\">│</span>\n",
              "<span style=\"color: #ff0000; text-decoration-color: #ff0000\">│</span> <span style=\"color: #808000; text-decoration-color: #808000\">&lt;ipython-input-234-0eb8b321b89a&gt;</span>:<span style=\"color: #0000ff; text-decoration-color: #0000ff\">15</span> in <span style=\"color: #00ff00; text-decoration-color: #00ff00\">&lt;module&gt;</span>                                           <span style=\"color: #ff0000; text-decoration-color: #ff0000\">│</span>\n",
              "<span style=\"color: #ff0000; text-decoration-color: #ff0000\">╰───────────────────────────────────────────────────────────────────────────────────────────╯</span>\n",
              "<span style=\"color: #ff0000; text-decoration-color: #ff0000; font-weight: bold\">TypeError: </span><span style=\"color: #008000; text-decoration-color: #008000\">'&gt;'</span> not supported between instances of <span style=\"color: #008000; text-decoration-color: #008000\">'float'</span> and <span style=\"color: #008000; text-decoration-color: #008000\">'NoneType'</span>\n",
              "</pre>\n"
            ],
            "text/plain": [
              "\u001b[91m╭─\u001b[0m\u001b[91m─────────────────────────── \u001b[0m\u001b[1;31mTraceback \u001b[0m\u001b[1;2;31m(most recent call last)\u001b[0m\u001b[91m ───────────────────────────\u001b[0m\u001b[91m─╮\u001b[0m\n",
              "\u001b[91m│\u001b[0m                                                                                           \u001b[91m│\u001b[0m\n",
              "\u001b[91m│\u001b[0m \u001b[2;33m/usr/local/lib/python3.7/dist-packages/IPython/core/\u001b[0m\u001b[1;33minteractiveshell.py\u001b[0m:\u001b[94m2882\u001b[0m in \u001b[92mrun_code\u001b[0m  \u001b[91m│\u001b[0m\n",
              "\u001b[91m│\u001b[0m                                                                                           \u001b[91m│\u001b[0m\n",
              "\u001b[91m│\u001b[0m   \u001b[2m2879 \u001b[0m\u001b[2m│   │   │   \u001b[0m\u001b[94mtry\u001b[0m:                                                                   \u001b[91m│\u001b[0m\n",
              "\u001b[91m│\u001b[0m   \u001b[2m2880 \u001b[0m\u001b[2m│   │   │   │   \u001b[0m\u001b[96mself\u001b[0m.hooks.pre_run_code_hook()                                     \u001b[91m│\u001b[0m\n",
              "\u001b[91m│\u001b[0m   \u001b[2m2881 \u001b[0m\u001b[2m│   │   │   │   \u001b[0m\u001b[2m#rprint('Running code', repr(code_obj)) # dbg\u001b[0m                      \u001b[91m│\u001b[0m\n",
              "\u001b[91m│\u001b[0m \u001b[31m❱ \u001b[0m2882 \u001b[2m│   │   │   │   \u001b[0mexec(code_obj, \u001b[96mself\u001b[0m.user_global_ns, \u001b[96mself\u001b[0m.user_ns)                  \u001b[91m│\u001b[0m\n",
              "\u001b[91m│\u001b[0m   \u001b[2m2883 \u001b[0m\u001b[2m│   │   │   \u001b[0m\u001b[94mfinally\u001b[0m:                                                               \u001b[91m│\u001b[0m\n",
              "\u001b[91m│\u001b[0m   \u001b[2m2884 \u001b[0m\u001b[2m│   │   │   │   \u001b[0m\u001b[2m# Reset our crash handler in place\u001b[0m                                 \u001b[91m│\u001b[0m\n",
              "\u001b[91m│\u001b[0m   \u001b[2m2885 \u001b[0m\u001b[2m│   │   │   │   \u001b[0msys.excepthook = old_excepthook                                    \u001b[91m│\u001b[0m\n",
              "\u001b[91m│\u001b[0m \u001b[33m<ipython-input-234-0eb8b321b89a>\u001b[0m:\u001b[94m15\u001b[0m in \u001b[92m<module>\u001b[0m                                           \u001b[91m│\u001b[0m\n",
              "\u001b[91m╰───────────────────────────────────────────────────────────────────────────────────────────╯\u001b[0m\n",
              "\u001b[1;91mTypeError: \u001b[0m\u001b[32m'>'\u001b[0m not supported between instances of \u001b[32m'float'\u001b[0m and \u001b[32m'NoneType'\u001b[0m\n"
            ]
          },
          "metadata": {}
        }
      ]
    },
    {
      "cell_type": "code",
      "source": [
        "l=[]\n",
        "ll=[]\n",
        "for i in rest:\n",
        "  print(i,l)\n",
        "  for j in test_words:\n",
        "    l.append(cosine_sim(j,'equines'))\n",
        "  ll.append(test_words[np.argmax(l)])\n",
        "  l.clear()"
      ],
      "metadata": {
        "colab": {
          "base_uri": "https://localhost:8080/"
        },
        "id": "9_w-E7EPZVqk",
        "outputId": "68294027-92d4-4815-b7ee-b927892642ea"
      },
      "execution_count": null,
      "outputs": [
        {
          "output_type": "stream",
          "name": "stdout",
          "text": [
            "equines []\n",
            "remainder []\n",
            "amongst []\n",
            "well []\n",
            "partnership []\n",
            "individuals []\n",
            "subsidy []\n",
            "these []\n",
            "vital []\n",
            "never []\n",
            "thousanddollars []\n",
            "losing []\n",
            "frequently []\n",
            "may []\n",
            "several []\n",
            "martin []\n",
            "complicated []\n",
            "havent []\n",
            "stalemate []\n",
            "either []\n",
            "oversubscribed []\n",
            "private []\n",
            "hundreds []\n",
            "below []\n",
            "additon []\n",
            "england []\n",
            "larger []\n",
            "firm []\n",
            "sold []\n",
            "managership []\n",
            "grown []\n",
            "themselves []\n",
            "four []\n",
            "attendees []\n",
            "he []\n",
            "ought []\n",
            "low []\n",
            "calamitous []\n",
            "were []\n",
            "less []\n",
            "paid []\n",
            "made []\n",
            "this []\n",
            "similar []\n",
            "info []\n",
            "repaid []\n",
            "had []\n"
          ]
        }
      ]
    },
    {
      "cell_type": "code",
      "source": [
        "len(rest),ll[0]"
      ],
      "metadata": {
        "colab": {
          "base_uri": "https://localhost:8080/"
        },
        "id": "nexXdNqvZ7Ef",
        "outputId": "5f8daea0-2b85-4cbb-9bb3-2fe68e3e80d6"
      },
      "execution_count": null,
      "outputs": [
        {
          "output_type": "execute_result",
          "data": {
            "text/plain": [
              "(47, 'equine')"
            ]
          },
          "metadata": {},
          "execution_count": 329
        }
      ]
    },
    {
      "cell_type": "code",
      "source": [
        "for i in ll:\n",
        "  if i not in ['equine']:\n",
        "    print(i)"
      ],
      "metadata": {
        "id": "oQf1L1BhbVj-"
      },
      "execution_count": null,
      "outputs": []
    },
    {
      "cell_type": "code",
      "source": [
        "rest_fill"
      ],
      "metadata": {
        "colab": {
          "base_uri": "https://localhost:8080/"
        },
        "id": "6BDguObfZs9e",
        "outputId": "8bf90f9b-6717-47a2-947c-5951d1abc0ef"
      },
      "execution_count": null,
      "outputs": [
        {
          "output_type": "execute_result",
          "data": {
            "text/plain": [
              "{'additon': ['addition'],\n",
              " 'amongst': ['among'],\n",
              " 'attendees': ['at'],\n",
              " 'below': ['be'],\n",
              " 'calamitous': ['can', 'capital'],\n",
              " 'complicated': ['complex'],\n",
              " 'either': ['equine',\n",
              "  'establish',\n",
              "  'exchange',\n",
              "  'estimating',\n",
              "  'estate',\n",
              "  'economy',\n",
              "  'economic'],\n",
              " 'england': ['equine',\n",
              "  'establish',\n",
              "  'exchange',\n",
              "  'estimating',\n",
              "  'estate',\n",
              "  'economy',\n",
              "  'economic'],\n",
              " 'equines': ['equine'],\n",
              " 'firm': ['finance'],\n",
              " 'four': ['force', 'formula', 'for'],\n",
              " 'frequently': ['from', 'friends'],\n",
              " 'grown': ['growing'],\n",
              " 'had': ['have', 'has'],\n",
              " 'havent': ['have'],\n",
              " 'he': ['have', 'high', 'has', 'horses', 'horse', 'his', 'him'],\n",
              " 'hundreds': ['have', 'high', 'has', 'horses', 'horse', 'his', 'him'],\n",
              " 'individuals': ['industry'],\n",
              " 'info': ['information'],\n",
              " 'larger': ['large'],\n",
              " 'less': ['legal'],\n",
              " 'losing': ['lost'],\n",
              " 'low': ['longer', 'lost', 'london'],\n",
              " 'made': ['many',\n",
              "  'management',\n",
              "  'making',\n",
              "  'managerial',\n",
              "  'managers',\n",
              "  'market',\n",
              "  'markets'],\n",
              " 'managership': ['managers'],\n",
              " 'martin': ['market', 'markets'],\n",
              " 'may': ['many',\n",
              "  'management',\n",
              "  'making',\n",
              "  'managerial',\n",
              "  'managers',\n",
              "  'market',\n",
              "  'markets'],\n",
              " 'never': ['not'],\n",
              " 'ought': ['outlay'],\n",
              " 'oversubscribed': ['often',\n",
              "  'outlay',\n",
              "  'other',\n",
              "  'on',\n",
              "  'of',\n",
              "  'opinion',\n",
              "  'ownership',\n",
              "  'organizational',\n",
              "  'or'],\n",
              " 'paid': ['pay', 'partners', 'participants'],\n",
              " 'partnership': ['partners'],\n",
              " 'private': ['prices', 'price'],\n",
              " 'remainder': ['refers',\n",
              "  'revenue',\n",
              "  'relation',\n",
              "  'related',\n",
              "  'resolve',\n",
              "  'repay',\n",
              "  'rest'],\n",
              " 'repaid': ['repay'],\n",
              " 'several': ['sell', 'sector', 'services', 'selling'],\n",
              " 'similar': ['should',\n",
              "  'sums',\n",
              "  'some',\n",
              "  'sell',\n",
              "  'shareholders',\n",
              "  'sector',\n",
              "  'such',\n",
              "  'stock',\n",
              "  'structure',\n",
              "  'she',\n",
              "  'services',\n",
              "  'subsidize',\n",
              "  's',\n",
              "  'selling',\n",
              "  'same',\n",
              "  'system',\n",
              "  'shares',\n",
              "  'subscribed',\n",
              "  'small'],\n",
              " 'sold': ['some'],\n",
              " 'stalemate': ['stock', 'structure'],\n",
              " 'subsidy': ['subsidize'],\n",
              " 'themselves': ['the', 'they', 'their'],\n",
              " 'these': ['the', 'they', 'their'],\n",
              " 'this': ['the', 'they', 'three', 'their', 'thousands'],\n",
              " 'thousanddollars': ['thousands'],\n",
              " 'vital': ['valuation', 'value', 'venture'],\n",
              " 'well': ['when', 'within', 'with', 'was'],\n",
              " 'were': ['when', 'within', 'with', 'was']}"
            ]
          },
          "metadata": {},
          "execution_count": 235
        }
      ]
    },
    {
      "cell_type": "code",
      "source": [
        "rest_fill"
      ],
      "metadata": {
        "id": "STm8DELxl9UV"
      },
      "execution_count": null,
      "outputs": []
    },
    {
      "cell_type": "code",
      "source": [
        "rest_fills={}\n",
        "for i in rrest:\n",
        "  print(i)\n",
        "  print('**')\n",
        "  f=False\n",
        "  k=i\n",
        "  while(len(k)!=0):\n",
        "    temp=[]\n",
        "    for j in test_words:\n",
        "      if j.startswith(k):\n",
        "        f=True\n",
        "        temp.append(j)\n",
        "        print(j)\n",
        "    if f==True:\n",
        "      rest_fills[i]=temp\n",
        "      break\n",
        "    k=k[:len(k)-1]\n",
        "  print('***')"
      ],
      "metadata": {
        "colab": {
          "base_uri": "https://localhost:8080/"
        },
        "id": "gwYZQ2pbcaVL",
        "outputId": "c16e1f5c-030b-40e1-928a-3ff47b31be9f"
      },
      "execution_count": null,
      "outputs": [
        {
          "output_type": "stream",
          "name": "stdout",
          "text": [
            "well\n",
            "**\n",
            "when\n",
            "within\n",
            "with\n",
            "was\n",
            "***\n",
            "partnership\n",
            "**\n",
            "partners\n",
            "***\n",
            "subsidy\n",
            "**\n",
            "subsidize\n",
            "***\n",
            "vital\n",
            "**\n",
            "valuation\n",
            "value\n",
            "venture\n",
            "***\n",
            "thousanddollars\n",
            "**\n",
            "thousands\n",
            "***\n",
            "martin\n",
            "**\n",
            "market\n",
            "markets\n",
            "***\n",
            "havent\n",
            "**\n",
            "have\n",
            "***\n",
            "england\n",
            "**\n",
            "equine\n",
            "establish\n",
            "exchange\n",
            "estimating\n",
            "estate\n",
            "economy\n",
            "economic\n",
            "***\n",
            "themselves\n",
            "**\n",
            "the\n",
            "they\n",
            "their\n",
            "***\n",
            "similar\n",
            "**\n",
            "should\n",
            "sums\n",
            "some\n",
            "sell\n",
            "shareholders\n",
            "sector\n",
            "such\n",
            "stock\n",
            "structure\n",
            "she\n",
            "services\n",
            "subsidize\n",
            "s\n",
            "selling\n",
            "same\n",
            "system\n",
            "shares\n",
            "subscribed\n",
            "small\n",
            "***\n"
          ]
        }
      ]
    },
    {
      "cell_type": "code",
      "source": [
        "rest_fill['well']='when'\n",
        "rest_fill['partnership']='partners'\n",
        "rest_fill['subsidy']='subsidize'\n",
        "rest_fill['vital']='value'\n",
        "rest_fill['martin']='market'\n",
        "rest_fill['havent']='have'\n",
        "rest_fill['england']='estate'\n",
        "rest_fill['themselves']='their'\n",
        "rest_fill['similar']='same'\n"
      ],
      "metadata": {
        "id": "c93_lba3l_CS"
      },
      "execution_count": null,
      "outputs": []
    },
    {
      "cell_type": "code",
      "source": [
        "\n",
        "for i in rest_fill.keys():\n",
        "  if(len(rest_fill[i])>1):\n",
        "    print(i,rest_fill[i])"
      ],
      "metadata": {
        "colab": {
          "base_uri": "https://localhost:8080/"
        },
        "id": "mLZ3pH6rlXZP",
        "outputId": "8c76f0c7-7257-423e-b8a9-a44a031d6d5b"
      },
      "execution_count": null,
      "outputs": [
        {
          "output_type": "stream",
          "name": "stdout",
          "text": [
            "remainder ['refers', 'revenue', 'relation', 'related', 'resolve', 'repay', 'rest']\n",
            "well ['when', 'within', 'with', 'was']\n",
            "these ['the', 'they', 'their']\n",
            "vital ['valuation', 'value', 'venture']\n",
            "frequently ['from', 'friends']\n",
            "may ['many', 'management', 'making', 'managerial', 'managers', 'market', 'markets']\n",
            "several ['sell', 'sector', 'services', 'selling']\n",
            "martin ['market', 'markets']\n",
            "stalemate ['stock', 'structure']\n",
            "either ['equine', 'establish', 'exchange', 'estimating', 'estate', 'economy', 'economic']\n",
            "oversubscribed ['often', 'outlay', 'other', 'on', 'of', 'opinion', 'ownership', 'organizational', 'or']\n",
            "private ['prices', 'price']\n",
            "hundreds ['have', 'high', 'has', 'horses', 'horse', 'his', 'him']\n",
            "england ['equine', 'establish', 'exchange', 'estimating', 'estate', 'economy', 'economic']\n",
            "themselves ['the', 'they', 'their']\n",
            "four ['force', 'formula', 'for']\n",
            "he ['have', 'high', 'has', 'horses', 'horse', 'his', 'him']\n",
            "low ['longer', 'lost', 'london']\n",
            "calamitous ['can', 'capital']\n",
            "were ['when', 'within', 'with', 'was']\n",
            "paid ['pay', 'partners', 'participants']\n",
            "made ['many', 'management', 'making', 'managerial', 'managers', 'market', 'markets']\n",
            "this ['the', 'they', 'three', 'their', 'thousands']\n",
            "similar ['should', 'sums', 'some', 'sell', 'shareholders', 'sector', 'such', 'stock', 'structure', 'she', 'services', 'subsidize', 's', 'selling', 'same', 'system', 'shares', 'subscribed', 'small']\n",
            "had ['have', 'has']\n"
          ]
        }
      ]
    },
    {
      "cell_type": "code",
      "source": [
        "\n",
        "for i in rest:\n",
        "  if i not in rest_fill.keys():\n",
        "    print(i)"
      ],
      "metadata": {
        "colab": {
          "base_uri": "https://localhost:8080/"
        },
        "id": "mpkxPW5Ek-3M",
        "outputId": "11b6d184-7b5e-467d-e1b8-4b8f3d8495cd"
      },
      "execution_count": null,
      "outputs": [
        {
          "output_type": "stream",
          "name": "stdout",
          "text": [
            "thousanddollars\n"
          ]
        }
      ]
    },
    {
      "cell_type": "code",
      "source": [
        "d['thousanddollars']"
      ],
      "metadata": {
        "colab": {
          "base_uri": "https://localhost:8080/"
        },
        "id": "hXovqPea3W5T",
        "outputId": "d807325b-3fd1-4ff4-e721-131a706fc54f"
      },
      "execution_count": null,
      "outputs": [
        {
          "output_type": "execute_result",
          "data": {
            "text/plain": [
              "['thousands', 'dollars']"
            ]
          },
          "metadata": {},
          "execution_count": 335
        }
      ]
    },
    {
      "cell_type": "code",
      "source": [
        "for i in dd.values():\n",
        "  if(len(i)==0):\n",
        "    print(i)"
      ],
      "metadata": {
        "id": "CJ76kCFIKm7e"
      },
      "execution_count": null,
      "outputs": []
    },
    {
      "cell_type": "code",
      "source": [
        "l=[]\n",
        "for j in test_words:\n",
        "  l.append(cosine_sim('bythe',j))\n",
        "k=np.argmax(l)"
      ],
      "metadata": {
        "id": "GqsUjp7xKpH2"
      },
      "execution_count": null,
      "outputs": []
    },
    {
      "cell_type": "code",
      "source": [
        "for i in rest_fill.keys():\n",
        "  print(rest_fill[i])"
      ],
      "metadata": {
        "colab": {
          "base_uri": "https://localhost:8080/"
        },
        "id": "ivtHnPAQH_vH",
        "outputId": "43b06008-d0aa-46b7-a63d-2144a61b69cb"
      },
      "execution_count": null,
      "outputs": [
        {
          "output_type": "stream",
          "name": "stdout",
          "text": [
            "equine\n",
            "rest\n",
            "among\n",
            "people\n",
            "many\n",
            "not\n",
            "lost\n",
            "often\n",
            "might\n",
            "many\n",
            "complex\n",
            "deadlock\n",
            "or\n",
            "subscribed\n",
            "public\n",
            "thousands\n",
            "above\n",
            "addition\n",
            "large\n",
            "company\n",
            "bought\n",
            "management\n",
            "growing\n",
            "three\n",
            "participants\n",
            "she\n",
            "should\n",
            "high\n",
            "disastrous\n",
            "are\n",
            "more\n",
            "pay\n",
            "was\n",
            "the\n",
            "information\n",
            "repay\n",
            "have\n",
            "when\n",
            "partners\n",
            "subsidize\n",
            "value\n",
            "market\n",
            "have\n",
            "estate\n",
            "their\n",
            "same\n"
          ]
        }
      ]
    },
    {
      "cell_type": "code",
      "source": [
        "def func(embedding_list):\n",
        "  similar=[]\n",
        "  index=[]\n",
        "  for i in range(len(Y)):\n",
        "    #print(i)\n",
        "    s=similarity(X[i],embedding_list)\n",
        "    #print(s)\n",
        "    similar.append(s)\n",
        "    index.append(i)\n",
        "  ll=sorted(zip(similar,index), reverse=True)[:4]\n",
        "  #print(ll)\n",
        "  lists=[]\n",
        "  for i,j in ll:\n",
        "    #print(Y[j])\n",
        "    if Y[j] in d:\n",
        "      for val in d[Y[j]]:\n",
        "        if val not in lists:\n",
        "          lists.append(val)\n",
        "    elif Y[j] in dd:\n",
        "      for val in dd[Y[j]]:\n",
        "        if val not in lists:\n",
        "          lists.append(val)\n",
        "    else:\n",
        "      if rest_fill[Y[j]] not in lists:\n",
        "          lists.append(rest_fill[Y[j]])\n",
        "  print(lists)\n",
        "  return lists[:3]"
      ],
      "metadata": {
        "id": "XFrQMYm-_TaE"
      },
      "execution_count": null,
      "outputs": []
    },
    {
      "cell_type": "code",
      "source": [
        "func(ast.literal_eval(test_df.embeddings[0]))"
      ],
      "metadata": {
        "colab": {
          "base_uri": "https://localhost:8080/"
        },
        "id": "jN0C4CKXXQJ9",
        "outputId": "f7ba4c2f-83e3-4149-dcb9-7e3916b696d5"
      },
      "execution_count": null,
      "outputs": [
        {
          "output_type": "stream",
          "name": "stdout",
          "text": [
            "['the', 'capital', 'or']\n"
          ]
        },
        {
          "output_type": "execute_result",
          "data": {
            "text/plain": [
              "['the', 'capital', 'or']"
            ]
          },
          "metadata": {},
          "execution_count": 349
        }
      ]
    },
    {
      "cell_type": "code",
      "source": [
        "arrays=[]\n",
        "for i in test_df.embeddings:\n",
        "  try:\n",
        "    j=ast.literal_eval(i)\n",
        "    arrays.append(func(j))\n",
        "  except:\n",
        "    listss=[]\n",
        "    listss.append(i)\n",
        "    listss.append(test_words[0])\n",
        "    listss.append(test_words[1])\n",
        "    arrays.append(listss)"
      ],
      "metadata": {
        "colab": {
          "base_uri": "https://localhost:8080/"
        },
        "id": "YgojUyr293Ct",
        "outputId": "cce795d6-31dd-4b4a-d909-e1ab6c8e21c8"
      },
      "execution_count": null,
      "outputs": [
        {
          "output_type": "stream",
          "name": "stdout",
          "text": [
            "['the', 'capital', 'or', 'she']\n",
            "['the', 'on', 'or', 'within']\n",
            "['high', 'the', 'when', 'capital']\n",
            "['investment', 'tax', 'the', 'capital', 'general']\n",
            "['should', 'might', 'or']\n",
            "['pay', 'the', 'capital', 'market']\n",
            "['more', 'the', 'or', 'capital']\n",
            "['tax', 'subsidize', 'investment', 'general']\n",
            "['public', 'general', 'the', 'capital', 'or']\n",
            "['opinion', 'general', 'or', 'market']\n",
            "['should', 'might', 'or', 'many']\n",
            "['the', 'capital', 'force', 'she', 'or']\n",
            "['the', 'within', 'or', 'capital']\n",
            "['government', 'the', 'capital', 'or', 'general']\n",
            "['the', 'into', 'in', 'or']\n",
            "['the', 'or', 'market', 'capital']\n",
            "['or', 'not', 'the', 'she']\n",
            "['bought', 'have', 'the', 'capital']\n",
            "['many', 'the', 'or']\n",
            "['stock', 'the', 'capital', 'or', 'within']\n",
            "['estate', 'the', 'capital', 'market', 'on']\n",
            "['stock', 'the', 'capital', 'investment', 'or']\n",
            "['the', 'capital', 'within', 'or', 'exchange']\n",
            "['place', 'market', 'the', 'capital', 'within']\n",
            "['bubble', 'or', 'the', 'when']\n",
            "['the', 'might', 'or', 'within']\n",
            "['type', 'the', 'or', 'within']\n",
            "['the', 'capital', 'general', 'within']\n",
            "['taking', 'the', 'or', 'capital']\n",
            "['place', 'the', 'capital', 'within']\n",
            "['the', 'in', 'within', 'capital']\n",
            "['place', 'market', 'the', 'capital', 'within']\n",
            "['not', 'she', 'the', 'or']\n",
            "['participants', 'the', 'capital', 'in', 'within']\n",
            "['drive', 'the', 'or', 'capital']\n",
            "['prices', 'price', 'the', 'capital', 'place']\n",
            "['above', 'the', 'on', 'within']\n",
            "['or', 'their', 'the', 'capital']\n",
            "['the', 'capital', 'when', 'or', 'general']\n",
            "['relation', 'related', 'the', 'within', 'capital', 'in']\n",
            "['system', 'the', 'within', 'or']\n",
            "['valuation', 'investment', 'the', 'capital', 'bought']\n",
            "['banking', 'the', 'capital', 'general', 'services']\n",
            "['general', 'the', 'capital', 'within']\n",
            "['industry', 'public', 'the', 'capital', 'services']\n",
            "['have', 'are', 'the', 'be']\n",
            "['growing', 'the', 'within', 'capital']\n",
            "['addition', 'the', 'capital', 'within']\n",
            "['estimating', 'the', 'capital', 'within']\n",
            "['bought', 'the', 'capital', 'market']\n",
            "['prices', 'price', 'bought', 'the', 'capital']\n",
            "['the', 'within', 'market', 'general', 'services']\n",
            "['the', 'same', 'within', 'or']\n",
            "['tools', 'system', 'the', 'capital']\n",
            "['are', 'many', 'or', 'their']\n",
            "['often', 'or', 'might', 'when']\n",
            "['used', 'use', 'the', 'within', 'or']\n",
            "['or', 'the', 'within', 'by']\n",
            "['appraisers', 'or', 'thousands', 'market']\n",
            "['resolve', 'the', 'within', 'or']\n",
            "['disputes', 'the', 'within', 'capital', 'general']\n",
            "['relation', 'related', 'the', 'within', 'in', 'capital']\n",
            "['estate', 'the', 'capital', 'market', 'within']\n",
            "['gift', 'market', 'the', 'general']\n",
            "['tax', 'general', 'the', 'capital', 'government']\n",
            "['divorce', 'the', 'capital', 'general', 'not']\n",
            "['litigation', 'market', 'the', 'within']\n",
            "['allocate', 'the', 'within', 'capital', 'general']\n",
            "['bought', 'the', 'capital', 'within']\n",
            "['among', 'the', 'capital', 'in', 'within']\n",
            "['investment', 'the', 'within', 'capital', 'or']\n",
            "['establish', 'the', 'within', 'capital']\n",
            "['formula', 'the', 'or', 'more']\n",
            "['the', 'or', 'in', 'within']\n",
            "['the', 'capital', 'within', 'or', 'partners']\n",
            "['ownership', 'the', 'within', 'capital']\n",
            "['the', 'within', 'capital', 'or']\n",
            "['bought', 'or', 'the', 'market']\n",
            "['bought', 'or', 'the', 'capital']\n",
            "['agreements', 'the', 'within', 'capital', 'or']\n",
            "['many', 'thousands', 'when']\n",
            "['or', 'many', 'the', 'capital']\n",
            "['general', 'market', 'the', 'capital']\n",
            "['purposes', 'type', 'rest', 'the', 'within']\n",
            "['when', 'many', 'or', 'the', 'within']\n",
            "['when', 'or', 'the', 'within']\n",
            "['shareholders', 'investment', 'the', 'capital', 'company']\n",
            "['deadlock', 'the', 'capital', 'market', 'general']\n",
            "['contest', 'market', 'or', 'the']\n",
            "['company', 'the', 'within', 'capital', 'market']\n",
            "['have', 'be', 'the', 'not']\n",
            "['complex', 'the', 'within', 'capital']\n",
            "['organizational', 'the', 'within', 'general']\n",
            "['structure', 'the', 'within', 'market']\n",
            "['the', 'within', 'management', 'managers', 'general']\n",
            "['the', 'within', 'accounting', 'general', 'in']\n",
            "['or', 'the', 'within', 'might']\n",
            "['management', 'general', 'the', 'within', 'market']\n",
            "['general', 'or', 'the', 'within']\n",
            "['or', 'used', 'use', 'the', 'within']\n",
            "['information', 'the', 'within', 'capital']\n",
            "['decision', 'market', 'general', 'the']\n",
            "['was', 'the', 'capital', 'or']\n",
            "['assist', 'the', 'in', 'within', 'capital']\n",
            "['performance', 'the', 'within', 'or', 'capital']\n",
            "['control', 'or', 'the', 'capital']\n",
            "['functions', 'activity', 'the', 'within', 'services']\n",
            "['or', 'the', 'capital', 'she', 'not']\n",
            "['industry', 'place', 'market', 'system', 'the']\n",
            "['equine', 'or', 'the', 'within', 'capital']\n",
            "['activity', 'the', 'within', 'or']\n",
            "['the', 'within', 'relation', 'related', 'or', 'in']\n",
            "['the', 'with', 'have', 'or']\n",
            "['equine', 'the', 'capital', 'or', 'time']\n",
            "['large', 'the', 'capital', 'or']\n",
            "['the', 'capital', 'people', 'industry', 'or']\n",
            "['value', 'when', 'thousands', 'the', 'capital']\n",
            "['she', 'general', 'the', 'capital']\n",
            "['have', 'or', 'not', 'the']\n",
            "['bought', 'the', 'capital', 'within', 'services']\n",
            "['large', 'the', 'within', 'capital']\n",
            "['sums', 'the', 'capital', 'when']\n",
            "['general', 'years', 'the', 'capital', 'investment']\n",
            "['she', 'not', 'the']\n",
            "['market', 'the', 'capital', 'within']\n",
            "['not', 'or', 'the', 'should']\n",
            "['prepared', 'the', 'or', 'she']\n",
            "['subsidize', 'pay', 'the', 'capital']\n",
            "['she', 'the', 'have', 'capital']\n",
            "['gambling', 'or', 'the', 'capital']\n",
            "['or', 'the', 'not', 'might']\n",
            "['more', 'or', 'might', 'the', 'within']\n",
            "['lawsuits', 'litigation', 'might', 'type']\n",
            "['consume', 'more', 'or', 'the', 'capital']\n",
            "['years', 'the', 'or', 'she']\n",
            "['the', 'general', 'capital', 'she']\n",
            "['the', 'rest', 'or', 'when']\n",
            "['friends', 'or', 'not', 'market']\n",
            "['accused', 'the', 'capital', 'market', 'general']\n",
            "['misusing', 'be', 'the', 'capital', 'general']\n",
            "['money', 'investment', 'fund', 'funds', 'the', 'capital']\n",
            "['disastrous', 'or', 'the', 'she']\n",
            "['venture', 'the', 'capital', 'or']\n",
            "['lost', 'have', 'the', 'capital']\n",
            "['she', 'not', 'the', 'or']\n",
            "['thousands', 'many', 'the', 'capital', 'or']\n",
            "['thousands', 'the', 'capital', 'years']\n",
            "['your', 'or', 'the', 'market']\n",
            "['the', 'capital', 'within', 'general']\n",
            "['might', 'should', 'or']\n",
            "['be', 'or', 'should', 'the']\n",
            "['the', 'within', 'or', 'capital']\n",
            "['risk', 'or', 'the', 'might']\n",
            "['inflation', 'increase', 'outlay', 'government']\n",
            "['refers', 'used', 'use', 'the', 'within']\n",
            "['general', 'the', 'capital', 'within']\n",
            "['the', 'within', 'or', 'general']\n",
            "['increase', 'years', 'the', 'within', 'capital']\n",
            "['the', 'capital', 'within', 'general']\n",
            "['services', 'the', 'within', 'capital', 'system']\n",
            "['the', 'within', 'capital', 'or']\n",
            "['investment', 'profit', 'the', 'within', 'capital']\n",
            "['the', 'from', 'or', 'capital']\n",
            "['farm', 'the', 'capital', 'or', 'she']\n",
            "['might', 'should', 'or', 'have']\n",
            "['repay', 'general', 'the', 'capital', 'pay']\n",
            "['the', 'capital', 'have', 'might']\n",
            "['outlay', 'market', 'sums', 'general']\n",
            "['the', 'within', 'in', 'or']\n",
            "['three', 'many', 'years', 'or']\n",
            "['years', 'time', 'have', 'the', 'within']\n",
            "['the', 'capital', 'or', 'within']\n",
            "['investment', 'the', 'capital', 'general', 'company']\n",
            "['contingent', 'the', 'capital', 'force', 'within']\n",
            "['the', 'on', 'within', 'or']\n",
            "['profit', 'the', 'within', 'capital', 'market']\n"
          ]
        }
      ]
    },
    {
      "cell_type": "code",
      "source": [
        "len(arrays),test_df.shape"
      ],
      "metadata": {
        "colab": {
          "base_uri": "https://localhost:8080/"
        },
        "id": "hprRSToN9dh5",
        "outputId": "08d4ac59-e01b-41b1-bf06-d590f46f4841"
      },
      "execution_count": null,
      "outputs": [
        {
          "output_type": "execute_result",
          "data": {
            "text/plain": [
              "(180, (180, 3))"
            ]
          },
          "metadata": {},
          "execution_count": 364
        }
      ]
    },
    {
      "cell_type": "code",
      "source": [
        "arrays[0]"
      ],
      "metadata": {
        "colab": {
          "base_uri": "https://localhost:8080/"
        },
        "id": "er3HTB1FUd2Y",
        "outputId": "737904fe-1466-4e16-b0dd-80d07b438d21"
      },
      "execution_count": null,
      "outputs": [
        {
          "output_type": "execute_result",
          "data": {
            "text/plain": [
              "['the', 'capital', 'or']"
            ]
          },
          "metadata": {},
          "execution_count": 371
        }
      ]
    },
    {
      "cell_type": "code",
      "source": [
        "predicted=[]\n",
        "for i in arrays:\n",
        "  j=str(i)\n",
        "  #j=' '.join(c for c in i)\n",
        "  #k='['+j+']'\n",
        "  k=j.replace(',','')\n",
        "  predicted.append(k)"
      ],
      "metadata": {
        "id": "qvZwgaAY9dkB"
      },
      "execution_count": null,
      "outputs": []
    },
    {
      "cell_type": "code",
      "source": [
        "count=0\n",
        "for i in arrays:\n",
        "  for j in i:\n",
        "    if j not in test_words:\n",
        "      count+=1\n",
        "      print(j)"
      ],
      "metadata": {
        "id": "4EILhI79YU7u"
      },
      "execution_count": null,
      "outputs": []
    },
    {
      "cell_type": "code",
      "source": [
        "count"
      ],
      "metadata": {
        "colab": {
          "base_uri": "https://localhost:8080/"
        },
        "id": "4hPkwSjTY6IB",
        "outputId": "4e665f82-fe75-4a2f-b833-dd780acadf14"
      },
      "execution_count": null,
      "outputs": [
        {
          "output_type": "execute_result",
          "data": {
            "text/plain": [
              "0"
            ]
          },
          "metadata": {},
          "execution_count": 374
        }
      ]
    },
    {
      "cell_type": "code",
      "source": [
        "predicted"
      ],
      "metadata": {
        "colab": {
          "base_uri": "https://localhost:8080/"
        },
        "id": "7ksYD49E-S5_",
        "outputId": "53f9d10d-09f1-41d7-e11c-375ac433c622"
      },
      "execution_count": null,
      "outputs": [
        {
          "output_type": "execute_result",
          "data": {
            "text/plain": [
              "[\"['the' 'capital' 'or']\",\n",
              " \"['the' 'on' 'or']\",\n",
              " \"['a' 'equine' 'is']\",\n",
              " \"['high' 'the' 'when']\",\n",
              " \"['investment' 'tax' 'the']\",\n",
              " \"['should' 'might' 'or']\",\n",
              " \"['pay' 'the' 'capital']\",\n",
              " \"['more' 'the' 'or']\",\n",
              " \"['tax' 'subsidize' 'investment']\",\n",
              " \"['public' 'general' 'the']\",\n",
              " \"['opinion' 'general' 'or']\",\n",
              " \"['should' 'might' 'or']\",\n",
              " \"['the' 'capital' 'force']\",\n",
              " \"['the' 'within' 'or']\",\n",
              " \"['government' 'the' 'capital']\",\n",
              " \"['the' 'into' 'in']\",\n",
              " \"['the' 'or' 'market']\",\n",
              " \"['or' 'not' 'the']\",\n",
              " \"['bought' 'have' 'the']\",\n",
              " \"['many' 'the' 'or']\",\n",
              " \"['stock' 'the' 'capital']\",\n",
              " \"['estate' 'the' 'capital']\",\n",
              " \"['stock' 'the' 'capital']\",\n",
              " \"['the' 'capital' 'within']\",\n",
              " \"['place' 'market' 'the']\",\n",
              " \"['bubble' 'or' 'the']\",\n",
              " \"['the' 'might' 'or']\",\n",
              " \"['type' 'the' 'or']\",\n",
              " \"['of' 'equine' 'is']\",\n",
              " \"['the' 'capital' 'general']\",\n",
              " \"['taking' 'the' 'or']\",\n",
              " \"['place' 'the' 'capital']\",\n",
              " \"['the' 'in' 'within']\",\n",
              " \"['place' 'market' 'the']\",\n",
              " \"['not' 'she' 'the']\",\n",
              " \"['participants' 'the' 'capital']\",\n",
              " \"['drive' 'the' 'or']\",\n",
              " \"['prices' 'price' 'the']\",\n",
              " \"['above' 'the' 'on']\",\n",
              " \"['or' 'their' 'the']\",\n",
              " \"['the' 'capital' 'when']\",\n",
              " \"['relation' 'related' 'the']\",\n",
              " \"['to' 'equine' 'is']\",\n",
              " \"['system' 'the' 'within']\",\n",
              " \"['valuation' 'investment' 'the']\",\n",
              " \"['banking' 'the' 'capital']\",\n",
              " \"['and' 'equine' 'is']\",\n",
              " \"['general' 'the' 'capital']\",\n",
              " \"['industry' 'public' 'the']\",\n",
              " \"['have' 'are' 'the']\",\n",
              " \"['growing' 'the' 'within']\",\n",
              " \"['addition' 'the' 'capital']\",\n",
              " \"['estimating' 'the' 'capital']\",\n",
              " \"['bought' 'the' 'capital']\",\n",
              " \"['prices' 'price' 'bought']\",\n",
              " \"['the' 'within' 'market']\",\n",
              " \"['the' 'same' 'within']\",\n",
              " \"['tools' 'system' 'the']\",\n",
              " \"['are' 'many' 'or']\",\n",
              " \"['often' 'or' 'might']\",\n",
              " \"['used' 'use' 'the']\",\n",
              " \"['or' 'the' 'within']\",\n",
              " \"['appraisers' 'or' 'thousands']\",\n",
              " \"['resolve' 'the' 'within']\",\n",
              " \"['disputes' 'the' 'within']\",\n",
              " \"['relation' 'related' 'the']\",\n",
              " \"['estate' 'the' 'capital']\",\n",
              " \"['gift' 'market' 'the']\",\n",
              " \"['tax' 'general' 'the']\",\n",
              " \"['divorce' 'the' 'capital']\",\n",
              " \"['litigation' 'market' 'the']\",\n",
              " \"['allocate' 'the' 'within']\",\n",
              " \"['bought' 'the' 'capital']\",\n",
              " \"['among' 'the' 'capital']\",\n",
              " \"['investment' 'the' 'within']\",\n",
              " \"['establish' 'the' 'within']\",\n",
              " \"['formula' 'the' 'or']\",\n",
              " \"['the' 'or' 'in']\",\n",
              " \"['the' 'capital' 'within']\",\n",
              " \"['ownership' 'the' 'within']\",\n",
              " \"['the' 'within' 'capital']\",\n",
              " \"['bought' 'or' 'the']\",\n",
              " \"['bought' 'or' 'the']\",\n",
              " \"['agreements' 'the' 'within']\",\n",
              " \"['many' 'thousands' 'when']\",\n",
              " \"['or' 'many' 'the']\",\n",
              " \"['general' 'market' 'the']\",\n",
              " \"['purposes' 'type' 'rest']\",\n",
              " \"['when' 'many' 'or']\",\n",
              " \"['when' 'or' 'the']\",\n",
              " \"['shareholders' 'investment' 'the']\",\n",
              " \"['deadlock' 'the' 'capital']\",\n",
              " \"['contest' 'market' 'or']\",\n",
              " \"['company' 'the' 'within']\",\n",
              " \"['have' 'be' 'the']\",\n",
              " \"['complex' 'the' 'within']\",\n",
              " \"['organizational' 'the' 'within']\",\n",
              " \"['structure' 'the' 'within']\",\n",
              " \"['the' 'within' 'management']\",\n",
              " \"['the' 'within' 'accounting']\",\n",
              " \"['or' 'the' 'within']\",\n",
              " \"['management' 'general' 'the']\",\n",
              " \"['general' 'or' 'the']\",\n",
              " \"['or' 'used' 'use']\",\n",
              " \"['information' 'the' 'within']\",\n",
              " \"['decision' 'market' 'general']\",\n",
              " \"['was' 'the' 'capital']\",\n",
              " \"['assist' 'the' 'in']\",\n",
              " \"['performance' 'the' 'within']\",\n",
              " \"['control' 'or' 'the']\",\n",
              " \"['functions' 'activity' 'the']\",\n",
              " \"['or' 'the' 'capital']\",\n",
              " \"['industry' 'place' 'market']\",\n",
              " \"['equine' 'or' 'the']\",\n",
              " \"['activity' 'the' 'within']\",\n",
              " \"['the' 'within' 'relation']\",\n",
              " \"['the' 'with' 'have']\",\n",
              " \"['equine' 'the' 'capital']\",\n",
              " \"['large' 'the' 'capital']\",\n",
              " \"['the' 'capital' 'people']\",\n",
              " \"['value' 'when' 'thousands']\",\n",
              " \"['she' 'general' 'the']\",\n",
              " \"['have' 'or' 'not']\",\n",
              " \"['bought' 'the' 'capital']\",\n",
              " \"['large' 'the' 'within']\",\n",
              " \"['sums' 'the' 'capital']\",\n",
              " \"['general' 'years' 'the']\",\n",
              " \"['she' 'not' 'the']\",\n",
              " \"['market' 'the' 'capital']\",\n",
              " \"['not' 'or' 'the']\",\n",
              " \"['prepared' 'the' 'or']\",\n",
              " \"['subsidize' 'pay' 'the']\",\n",
              " \"['she' 'the' 'have']\",\n",
              " \"['gambling' 'or' 'the']\",\n",
              " \"['or' 'the' 'not']\",\n",
              " \"['more' 'or' 'might']\",\n",
              " \"['lawsuits' 'litigation' 'might']\",\n",
              " \"['consume' 'more' 'or']\",\n",
              " \"['years' 'the' 'or']\",\n",
              " \"['the' 'general' 'capital']\",\n",
              " \"['the' 'rest' 'or']\",\n",
              " \"['friends' 'or' 'not']\",\n",
              " \"['accused' 'the' 'capital']\",\n",
              " \"['misusing' 'be' 'the']\",\n",
              " \"['money' 'investment' 'fund']\",\n",
              " \"['disastrous' 'or' 'the']\",\n",
              " \"['venture' 'the' 'capital']\",\n",
              " \"['lost' 'have' 'the']\",\n",
              " \"['she' 'not' 'the']\",\n",
              " \"['thousands' 'many' 'the']\",\n",
              " \"['thousands' 'the' 'capital']\",\n",
              " \"['your' 'or' 'the']\",\n",
              " \"['the' 'capital' 'within']\",\n",
              " \"['might' 'should' 'or']\",\n",
              " \"['be' 'or' 'should']\",\n",
              " \"['the' 'within' 'or']\",\n",
              " \"['risk' 'or' 'the']\",\n",
              " \"['inflation' 'increase' 'outlay']\",\n",
              " \"['refers' 'used' 'use']\",\n",
              " \"['general' 'the' 'capital']\",\n",
              " \"['the' 'within' 'or']\",\n",
              " \"['increase' 'years' 'the']\",\n",
              " \"['the' 'capital' 'within']\",\n",
              " \"['services' 'the' 'within']\",\n",
              " \"['the' 'within' 'capital']\",\n",
              " \"['investment' 'profit' 'the']\",\n",
              " \"['the' 'from' 'or']\",\n",
              " \"['farm' 'the' 'capital']\",\n",
              " \"['might' 'should' 'or']\",\n",
              " \"['repay' 'general' 'the']\",\n",
              " \"['the' 'capital' 'have']\",\n",
              " \"['outlay' 'market' 'sums']\",\n",
              " \"['the' 'within' 'in']\",\n",
              " \"['three' 'many' 'years']\",\n",
              " \"['years' 'time' 'have']\",\n",
              " \"['the' 'capital' 'or']\",\n",
              " \"['investment' 'the' 'capital']\",\n",
              " \"['contingent' 'the' 'capital']\",\n",
              " \"['the' 'on' 'within']\",\n",
              " \"['profit' 'the' 'within']\"]"
            ]
          },
          "metadata": {},
          "execution_count": 375
        }
      ]
    },
    {
      "cell_type": "code",
      "source": [
        "test_df['word'] = predicted"
      ],
      "metadata": {
        "id": "QBaqlVLJ9dl4"
      },
      "execution_count": null,
      "outputs": []
    },
    {
      "cell_type": "code",
      "source": [
        "type(test_df['word'][0])"
      ],
      "metadata": {
        "colab": {
          "base_uri": "https://localhost:8080/"
        },
        "id": "JDG8FQ8x7Lk0",
        "outputId": "97620b03-5340-4c33-bbed-1606aae7999a"
      },
      "execution_count": null,
      "outputs": [
        {
          "output_type": "execute_result",
          "data": {
            "text/plain": [
              "str"
            ]
          },
          "metadata": {},
          "execution_count": 377
        }
      ]
    },
    {
      "cell_type": "code",
      "source": [
        "test_df.head(5)"
      ],
      "metadata": {
        "colab": {
          "base_uri": "https://localhost:8080/",
          "height": 206
        },
        "id": "VCYUPJSs9dn6",
        "outputId": "834e975e-5ad0-4a94-f24f-f2a8f1ba5aeb"
      },
      "execution_count": null,
      "outputs": [
        {
          "output_type": "execute_result",
          "data": {
            "text/html": [
              "\n",
              "  <div id=\"df-6d9f89a1-7d99-4a03-af77-140cdba1fbe4\">\n",
              "    <div class=\"colab-df-container\">\n",
              "      <div>\n",
              "<style scoped>\n",
              "    .dataframe tbody tr th:only-of-type {\n",
              "        vertical-align: middle;\n",
              "    }\n",
              "\n",
              "    .dataframe tbody tr th {\n",
              "        vertical-align: top;\n",
              "    }\n",
              "\n",
              "    .dataframe thead th {\n",
              "        text-align: right;\n",
              "    }\n",
              "</style>\n",
              "<table border=\"1\" class=\"dataframe\">\n",
              "  <thead>\n",
              "    <tr style=\"text-align: right;\">\n",
              "      <th></th>\n",
              "      <th>placeholder</th>\n",
              "      <th>embeddings</th>\n",
              "      <th>word</th>\n",
              "    </tr>\n",
              "  </thead>\n",
              "  <tbody>\n",
              "    <tr>\n",
              "      <th>0</th>\n",
              "      <td>0</td>\n",
              "      <td>[0.72639763, 0.55363804, 0.5709315, 0.69988114...</td>\n",
              "      <td>['the' 'capital' 'or']</td>\n",
              "    </tr>\n",
              "    <tr>\n",
              "      <th>1</th>\n",
              "      <td>1</td>\n",
              "      <td>[0.570044, 0.53571916, 0.5704866, 0.6747511, 0...</td>\n",
              "      <td>['the' 'on' 'or']</td>\n",
              "    </tr>\n",
              "    <tr>\n",
              "      <th>2</th>\n",
              "      <td>2</td>\n",
              "      <td>a</td>\n",
              "      <td>['a' 'equine' 'is']</td>\n",
              "    </tr>\n",
              "    <tr>\n",
              "      <th>3</th>\n",
              "      <td>3</td>\n",
              "      <td>[0.5926122, 0.56348646, 0.5378386, 0.65755475,...</td>\n",
              "      <td>['high' 'the' 'when']</td>\n",
              "    </tr>\n",
              "    <tr>\n",
              "      <th>4</th>\n",
              "      <td>4</td>\n",
              "      <td>[0.6739781, 0.5331372, 0.5242991, 0.5666829, 0...</td>\n",
              "      <td>['investment' 'tax' 'the']</td>\n",
              "    </tr>\n",
              "  </tbody>\n",
              "</table>\n",
              "</div>\n",
              "      <button class=\"colab-df-convert\" onclick=\"convertToInteractive('df-6d9f89a1-7d99-4a03-af77-140cdba1fbe4')\"\n",
              "              title=\"Convert this dataframe to an interactive table.\"\n",
              "              style=\"display:none;\">\n",
              "        \n",
              "  <svg xmlns=\"http://www.w3.org/2000/svg\" height=\"24px\"viewBox=\"0 0 24 24\"\n",
              "       width=\"24px\">\n",
              "    <path d=\"M0 0h24v24H0V0z\" fill=\"none\"/>\n",
              "    <path d=\"M18.56 5.44l.94 2.06.94-2.06 2.06-.94-2.06-.94-.94-2.06-.94 2.06-2.06.94zm-11 1L8.5 8.5l.94-2.06 2.06-.94-2.06-.94L8.5 2.5l-.94 2.06-2.06.94zm10 10l.94 2.06.94-2.06 2.06-.94-2.06-.94-.94-2.06-.94 2.06-2.06.94z\"/><path d=\"M17.41 7.96l-1.37-1.37c-.4-.4-.92-.59-1.43-.59-.52 0-1.04.2-1.43.59L10.3 9.45l-7.72 7.72c-.78.78-.78 2.05 0 2.83L4 21.41c.39.39.9.59 1.41.59.51 0 1.02-.2 1.41-.59l7.78-7.78 2.81-2.81c.8-.78.8-2.07 0-2.86zM5.41 20L4 18.59l7.72-7.72 1.47 1.35L5.41 20z\"/>\n",
              "  </svg>\n",
              "      </button>\n",
              "      \n",
              "  <style>\n",
              "    .colab-df-container {\n",
              "      display:flex;\n",
              "      flex-wrap:wrap;\n",
              "      gap: 12px;\n",
              "    }\n",
              "\n",
              "    .colab-df-convert {\n",
              "      background-color: #E8F0FE;\n",
              "      border: none;\n",
              "      border-radius: 50%;\n",
              "      cursor: pointer;\n",
              "      display: none;\n",
              "      fill: #1967D2;\n",
              "      height: 32px;\n",
              "      padding: 0 0 0 0;\n",
              "      width: 32px;\n",
              "    }\n",
              "\n",
              "    .colab-df-convert:hover {\n",
              "      background-color: #E2EBFA;\n",
              "      box-shadow: 0px 1px 2px rgba(60, 64, 67, 0.3), 0px 1px 3px 1px rgba(60, 64, 67, 0.15);\n",
              "      fill: #174EA6;\n",
              "    }\n",
              "\n",
              "    [theme=dark] .colab-df-convert {\n",
              "      background-color: #3B4455;\n",
              "      fill: #D2E3FC;\n",
              "    }\n",
              "\n",
              "    [theme=dark] .colab-df-convert:hover {\n",
              "      background-color: #434B5C;\n",
              "      box-shadow: 0px 1px 3px 1px rgba(0, 0, 0, 0.15);\n",
              "      filter: drop-shadow(0px 1px 2px rgba(0, 0, 0, 0.3));\n",
              "      fill: #FFFFFF;\n",
              "    }\n",
              "  </style>\n",
              "\n",
              "      <script>\n",
              "        const buttonEl =\n",
              "          document.querySelector('#df-6d9f89a1-7d99-4a03-af77-140cdba1fbe4 button.colab-df-convert');\n",
              "        buttonEl.style.display =\n",
              "          google.colab.kernel.accessAllowed ? 'block' : 'none';\n",
              "\n",
              "        async function convertToInteractive(key) {\n",
              "          const element = document.querySelector('#df-6d9f89a1-7d99-4a03-af77-140cdba1fbe4');\n",
              "          const dataTable =\n",
              "            await google.colab.kernel.invokeFunction('convertToInteractive',\n",
              "                                                     [key], {});\n",
              "          if (!dataTable) return;\n",
              "\n",
              "          const docLinkHtml = 'Like what you see? Visit the ' +\n",
              "            '<a target=\"_blank\" href=https://colab.research.google.com/notebooks/data_table.ipynb>data table notebook</a>'\n",
              "            + ' to learn more about interactive tables.';\n",
              "          element.innerHTML = '';\n",
              "          dataTable['output_type'] = 'display_data';\n",
              "          await google.colab.output.renderOutput(dataTable, element);\n",
              "          const docLink = document.createElement('div');\n",
              "          docLink.innerHTML = docLinkHtml;\n",
              "          element.appendChild(docLink);\n",
              "        }\n",
              "      </script>\n",
              "    </div>\n",
              "  </div>\n",
              "  "
            ],
            "text/plain": [
              "   placeholder  ...                        word\n",
              "0            0  ...      ['the' 'capital' 'or']\n",
              "1            1  ...           ['the' 'on' 'or']\n",
              "2            2  ...         ['a' 'equine' 'is']\n",
              "3            3  ...       ['high' 'the' 'when']\n",
              "4            4  ...  ['investment' 'tax' 'the']\n",
              "\n",
              "[5 rows x 3 columns]"
            ]
          },
          "metadata": {},
          "execution_count": 378
        }
      ]
    },
    {
      "cell_type": "code",
      "source": [
        "for i in arrays:\n",
        "  if len(i)!=3:\n",
        "    print(i)"
      ],
      "metadata": {
        "id": "ApCXMzhg6iSV"
      },
      "execution_count": null,
      "outputs": []
    },
    {
      "cell_type": "code",
      "source": [
        "!rm -rf assets\n",
        "!mkdir assets\n",
        "test_df.to_csv(os.path.join(\"assets\", \"submission.csv\"))"
      ],
      "metadata": {
        "id": "DbwYJxeS19mY"
      },
      "execution_count": null,
      "outputs": []
    },
    {
      "cell_type": "code",
      "source": [
        "%aicrowd notebook submit -c embedding-game -a assets --no-verify"
      ],
      "metadata": {
        "colab": {
          "base_uri": "https://localhost:8080/",
          "height": 342,
          "referenced_widgets": [
            "8b62a80b484b47d8a4a52daf44596e52",
            "b11f437d69e84306b42b0b762fce30ea"
          ]
        },
        "id": "xti1xcZp19pC",
        "outputId": "7ec4a8d0-f474-4596-fac1-497084596001"
      },
      "execution_count": null,
      "outputs": [
        {
          "output_type": "stream",
          "name": "stdout",
          "text": [
            "Using notebook: Embedding.ipynb for submission...\n",
            "Removing existing files from submission directory...\n",
            "Scrubbing API keys from the notebook...\n",
            "Collecting notebook...\n"
          ]
        },
        {
          "output_type": "display_data",
          "data": {
            "application/vnd.jupyter.widget-view+json": {
              "model_id": "8b62a80b484b47d8a4a52daf44596e52",
              "version_minor": 0,
              "version_major": 2
            },
            "text/plain": [
              "Output()"
            ]
          },
          "metadata": {}
        },
        {
          "output_type": "display_data",
          "data": {
            "text/html": [
              "<pre style=\"white-space:pre;overflow-x:auto;line-height:normal;font-family:Menlo,'DejaVu Sans Mono',consolas,'Courier New',monospace\"></pre>\n"
            ],
            "text/plain": [
              ""
            ]
          },
          "metadata": {}
        },
        {
          "output_type": "display_data",
          "data": {
            "text/html": [
              "<pre style=\"white-space:pre;overflow-x:auto;line-height:normal;font-family:Menlo,'DejaVu Sans Mono',consolas,'Courier New',monospace\">\n",
              "</pre>\n"
            ],
            "text/plain": [
              "\n"
            ]
          },
          "metadata": {}
        },
        {
          "output_type": "display_data",
          "data": {
            "text/html": [
              "<pre style=\"white-space:pre;overflow-x:auto;line-height:normal;font-family:Menlo,'DejaVu Sans Mono',consolas,'Courier New',monospace\">                                                 ╭─────────────────────────╮                                                  \n",
              "                                                 │ <span style=\"font-weight: bold\">Successfully submitted!</span> │                                                  \n",
              "                                                 ╰─────────────────────────╯                                                  \n",
              "</pre>\n"
            ],
            "text/plain": [
              "                                                 ╭─────────────────────────╮                                                  \n",
              "                                                 │ \u001b[1mSuccessfully submitted!\u001b[0m │                                                  \n",
              "                                                 ╰─────────────────────────╯                                                  \n"
            ]
          },
          "metadata": {}
        },
        {
          "output_type": "display_data",
          "data": {
            "text/html": [
              "<pre style=\"white-space:pre;overflow-x:auto;line-height:normal;font-family:Menlo,'DejaVu Sans Mono',consolas,'Courier New',monospace\"><span style=\"font-style: italic\">                                                       Important links                                                        </span>\n",
              "┌──────────────────┬─────────────────────────────────────────────────────────────────────────────────────────────────────────┐\n",
              "│  This submission │ https://www.aicrowd.com/challenges/ai-blitz-xii/problems/embedding-game/submissions/170359              │\n",
              "│                  │                                                                                                         │\n",
              "│  All submissions │ https://www.aicrowd.com/challenges/ai-blitz-xii/problems/embedding-game/submissions?my_submissions=true │\n",
              "│                  │                                                                                                         │\n",
              "│      Leaderboard │ https://www.aicrowd.com/challenges/ai-blitz-xii/problems/embedding-game/leaderboards                    │\n",
              "│                  │                                                                                                         │\n",
              "│ Discussion forum │ https://discourse.aicrowd.com/c/ai-blitz-xii                                                            │\n",
              "│                  │                                                                                                         │\n",
              "│   Challenge page │ https://www.aicrowd.com/challenges/ai-blitz-xii/problems/embedding-game                                 │\n",
              "└──────────────────┴─────────────────────────────────────────────────────────────────────────────────────────────────────────┘\n",
              "</pre>\n"
            ],
            "text/plain": [
              "\u001b[3m                                                       Important links                                                        \u001b[0m\n",
              "┌──────────────────┬─────────────────────────────────────────────────────────────────────────────────────────────────────────┐\n",
              "│  This submission │ https://www.aicrowd.com/challenges/ai-blitz-xii/problems/embedding-game/submissions/170359              │\n",
              "│                  │                                                                                                         │\n",
              "│  All submissions │ https://www.aicrowd.com/challenges/ai-blitz-xii/problems/embedding-game/submissions?my_submissions=true │\n",
              "│                  │                                                                                                         │\n",
              "│      Leaderboard │ https://www.aicrowd.com/challenges/ai-blitz-xii/problems/embedding-game/leaderboards                    │\n",
              "│                  │                                                                                                         │\n",
              "│ Discussion forum │ https://discourse.aicrowd.com/c/ai-blitz-xii                                                            │\n",
              "│                  │                                                                                                         │\n",
              "│   Challenge page │ https://www.aicrowd.com/challenges/ai-blitz-xii/problems/embedding-game                                 │\n",
              "└──────────────────┴─────────────────────────────────────────────────────────────────────────────────────────────────────────┘\n"
            ]
          },
          "metadata": {}
        }
      ]
    },
    {
      "cell_type": "code",
      "source": [
        "!pip install pattern"
      ],
      "metadata": {
        "colab": {
          "base_uri": "https://localhost:8080/"
        },
        "id": "ecjKtTjEyeL-",
        "outputId": "e00f399d-4001-4a0e-d844-5da36f16ec64"
      },
      "execution_count": null,
      "outputs": [
        {
          "output_type": "stream",
          "name": "stdout",
          "text": [
            "Collecting pattern\n",
            "  Downloading Pattern-3.6.0.tar.gz (22.2 MB)\n",
            "\u001b[K     |████████████████████████████████| 22.2 MB 1.3 MB/s \n",
            "\u001b[?25hRequirement already satisfied: future in /usr/local/lib/python3.7/dist-packages (from pattern) (0.16.0)\n",
            "Collecting backports.csv\n",
            "  Downloading backports.csv-1.0.7-py2.py3-none-any.whl (12 kB)\n",
            "Collecting mysqlclient\n",
            "  Downloading mysqlclient-2.1.0.tar.gz (87 kB)\n",
            "\u001b[K     |████████████████████████████████| 87 kB 6.0 MB/s \n",
            "\u001b[?25hRequirement already satisfied: beautifulsoup4 in /usr/local/lib/python3.7/dist-packages (from pattern) (4.6.3)\n",
            "Requirement already satisfied: lxml in /usr/local/lib/python3.7/dist-packages (from pattern) (4.2.6)\n",
            "Collecting feedparser\n",
            "  Downloading feedparser-6.0.8-py3-none-any.whl (81 kB)\n",
            "\u001b[K     |████████████████████████████████| 81 kB 9.2 MB/s \n",
            "\u001b[?25hCollecting pdfminer.six\n",
            "  Downloading pdfminer.six-20211012-py3-none-any.whl (5.6 MB)\n",
            "\u001b[K     |████████████████████████████████| 5.6 MB 48.5 MB/s \n",
            "\u001b[?25hRequirement already satisfied: numpy in /usr/local/lib/python3.7/dist-packages (from pattern) (1.19.5)\n",
            "Requirement already satisfied: scipy in /usr/local/lib/python3.7/dist-packages (from pattern) (1.4.1)\n",
            "Requirement already satisfied: nltk in /usr/local/lib/python3.7/dist-packages (from pattern) (3.2.5)\n",
            "Collecting python-docx\n",
            "  Downloading python-docx-0.8.11.tar.gz (5.6 MB)\n",
            "\u001b[K     |████████████████████████████████| 5.6 MB 22.8 MB/s \n",
            "\u001b[?25hCollecting cherrypy\n",
            "  Downloading CherryPy-18.6.1-py2.py3-none-any.whl (419 kB)\n",
            "\u001b[K     |████████████████████████████████| 419 kB 43.7 MB/s \n",
            "\u001b[?25hRequirement already satisfied: requests in /usr/local/lib/python3.7/dist-packages (from pattern) (2.26.0)\n",
            "Requirement already satisfied: more-itertools in /usr/local/lib/python3.7/dist-packages (from cherrypy->pattern) (8.12.0)\n",
            "Collecting jaraco.collections\n",
            "  Downloading jaraco.collections-3.4.0-py3-none-any.whl (10 kB)\n",
            "Collecting cheroot>=8.2.1\n",
            "  Downloading cheroot-8.5.2-py2.py3-none-any.whl (97 kB)\n",
            "\u001b[K     |████████████████████████████████| 97 kB 5.5 MB/s \n",
            "\u001b[?25hCollecting zc.lockfile\n",
            "  Downloading zc.lockfile-2.0-py2.py3-none-any.whl (9.7 kB)\n",
            "Collecting portend>=2.1.1\n",
            "  Downloading portend-3.1.0-py3-none-any.whl (5.3 kB)\n",
            "Collecting jaraco.functools\n",
            "  Downloading jaraco.functools-3.5.0-py3-none-any.whl (7.0 kB)\n",
            "Requirement already satisfied: six>=1.11.0 in /usr/local/lib/python3.7/dist-packages (from cheroot>=8.2.1->cherrypy->pattern) (1.15.0)\n",
            "Collecting tempora>=1.8\n",
            "  Downloading tempora-4.1.2-py3-none-any.whl (15 kB)\n",
            "Requirement already satisfied: pytz in /usr/local/lib/python3.7/dist-packages (from tempora>=1.8->portend>=2.1.1->cherrypy->pattern) (2018.9)\n",
            "Collecting sgmllib3k\n",
            "  Downloading sgmllib3k-1.0.0.tar.gz (5.8 kB)\n",
            "Collecting jaraco.classes\n",
            "  Downloading jaraco.classes-3.2.1-py3-none-any.whl (5.6 kB)\n",
            "Collecting jaraco.text\n",
            "  Downloading jaraco.text-3.6.0-py3-none-any.whl (8.1 kB)\n",
            "Requirement already satisfied: importlib-resources in /usr/local/lib/python3.7/dist-packages (from jaraco.text->jaraco.collections->cherrypy->pattern) (5.4.0)\n",
            "Requirement already satisfied: zipp>=3.1.0 in /usr/local/lib/python3.7/dist-packages (from importlib-resources->jaraco.text->jaraco.collections->cherrypy->pattern) (3.6.0)\n",
            "Collecting cryptography\n",
            "  Downloading cryptography-36.0.1-cp36-abi3-manylinux_2_24_x86_64.whl (3.6 MB)\n",
            "\u001b[K     |████████████████████████████████| 3.6 MB 28.0 MB/s \n",
            "\u001b[?25hRequirement already satisfied: chardet in /usr/local/lib/python3.7/dist-packages (from pdfminer.six->pattern) (3.0.4)\n",
            "Requirement already satisfied: cffi>=1.12 in /usr/local/lib/python3.7/dist-packages (from cryptography->pdfminer.six->pattern) (1.15.0)\n",
            "Requirement already satisfied: pycparser in /usr/local/lib/python3.7/dist-packages (from cffi>=1.12->cryptography->pdfminer.six->pattern) (2.21)\n",
            "Requirement already satisfied: certifi>=2017.4.17 in /usr/local/lib/python3.7/dist-packages (from requests->pattern) (2021.10.8)\n",
            "Requirement already satisfied: urllib3<1.27,>=1.21.1 in /usr/local/lib/python3.7/dist-packages (from requests->pattern) (1.24.3)\n",
            "Requirement already satisfied: charset-normalizer~=2.0.0 in /usr/local/lib/python3.7/dist-packages (from requests->pattern) (2.0.8)\n",
            "Requirement already satisfied: idna<4,>=2.5 in /usr/local/lib/python3.7/dist-packages (from requests->pattern) (2.10)\n",
            "Requirement already satisfied: setuptools in /usr/local/lib/python3.7/dist-packages (from zc.lockfile->cherrypy->pattern) (57.4.0)\n",
            "Building wheels for collected packages: pattern, mysqlclient, python-docx, sgmllib3k\n",
            "  Building wheel for pattern (setup.py) ... \u001b[?25l\u001b[?25hdone\n",
            "  Created wheel for pattern: filename=Pattern-3.6-py3-none-any.whl size=22332721 sha256=1bf372bb2e2fceb1494cea9968ff850829d6f09b83260a4e01d715112b731392\n",
            "  Stored in directory: /root/.cache/pip/wheels/8d/1f/4e/9b67afd2430d55dee90bd57618dd7d899f1323e5852c465682\n",
            "  Building wheel for mysqlclient (setup.py) ... \u001b[?25l\u001b[?25hdone\n",
            "  Created wheel for mysqlclient: filename=mysqlclient-2.1.0-cp37-cp37m-linux_x86_64.whl size=99964 sha256=f66e6dc09dde6cab51afad3cb4aad1f3f8f52d76aae65059abe8640d09a1bc40\n",
            "  Stored in directory: /root/.cache/pip/wheels/97/d4/df/08cd6e1fa4a8691b268ab254bd0fa589827ab5b65638c010b4\n",
            "  Building wheel for python-docx (setup.py) ... \u001b[?25l\u001b[?25hdone\n",
            "  Created wheel for python-docx: filename=python_docx-0.8.11-py3-none-any.whl size=184508 sha256=4b99e19840cb574d7edc8db20e7fa4be1fe66f9c8187237bdbf67ecb5247a1a0\n",
            "  Stored in directory: /root/.cache/pip/wheels/f6/6f/b9/d798122a8b55b74ad30b5f52b01482169b445fbb84a11797a6\n",
            "  Building wheel for sgmllib3k (setup.py) ... \u001b[?25l\u001b[?25hdone\n",
            "  Created wheel for sgmllib3k: filename=sgmllib3k-1.0.0-py3-none-any.whl size=6065 sha256=4f0e32d0a3d30c9147bc0fc22d2fd11913f0940966e407b0dc71ad74067ce0e6\n",
            "  Stored in directory: /root/.cache/pip/wheels/73/ad/a4/0dff4a6ef231fc0dfa12ffbac2a36cebfdddfe059f50e019aa\n",
            "Successfully built pattern mysqlclient python-docx sgmllib3k\n",
            "Installing collected packages: jaraco.functools, tempora, jaraco.text, jaraco.classes, zc.lockfile, sgmllib3k, portend, jaraco.collections, cryptography, cheroot, python-docx, pdfminer.six, mysqlclient, feedparser, cherrypy, backports.csv, pattern\n",
            "Successfully installed backports.csv-1.0.7 cheroot-8.5.2 cherrypy-18.6.1 cryptography-36.0.1 feedparser-6.0.8 jaraco.classes-3.2.1 jaraco.collections-3.4.0 jaraco.functools-3.5.0 jaraco.text-3.6.0 mysqlclient-2.1.0 pattern-3.6 pdfminer.six-20211012 portend-3.1.0 python-docx-0.8.11 sgmllib3k-1.0.0 tempora-4.1.2 zc.lockfile-2.0\n"
          ]
        }
      ]
    },
    {
      "cell_type": "code",
      "source": [
        "from pattern.text.en import singularize\n",
        "\n",
        "plurals = ['caresses', 'flies', 'dies', 'mules', 'geese', 'mice', 'bars', 'foos',\n",
        "           'families', 'dogs', 'child', 'wolves']\n",
        "\n",
        "singles = [singularize(plural) for plural in plurals]\n",
        "print(singles)"
      ],
      "metadata": {
        "colab": {
          "base_uri": "https://localhost:8080/"
        },
        "id": "6nXbRejRybp2",
        "outputId": "c8df9bee-1ebf-4bb7-de10-65a89d454153"
      },
      "execution_count": null,
      "outputs": [
        {
          "output_type": "stream",
          "name": "stdout",
          "text": [
            "['caress', 'fly', 'dy', 'mule', 'goose', 'mouse', 'bar', 'foo', 'family', 'dog', 'child', 'wolf']\n"
          ]
        }
      ]
    },
    {
      "cell_type": "code",
      "source": [
        "from gensim.test.utils import common_texts\n",
        "from gensim.models import Word2Vec\n",
        "\n",
        "model = Word2Vec(sentences=common_texts,size=100, window=5, min_count=1, workers=4)"
      ],
      "metadata": {
        "id": "z_EzATXPwn_9"
      },
      "execution_count": null,
      "outputs": []
    },
    {
      "cell_type": "code",
      "source": [
        "model.train([[\"hello\", \"world\"]], total_examples=1, epochs=1)"
      ],
      "metadata": {
        "colab": {
          "base_uri": "https://localhost:8080/"
        },
        "id": "EuqQy6T5xfdX",
        "outputId": "f81a1580-bd16-4146-b73a-2ef53f069ced"
      },
      "execution_count": null,
      "outputs": [
        {
          "output_type": "execute_result",
          "data": {
            "text/plain": [
              "(0, 2)"
            ]
          },
          "metadata": {},
          "execution_count": 296
        }
      ]
    },
    {
      "cell_type": "code",
      "source": [
        "import gensim.downloader"
      ],
      "metadata": {
        "id": "PkUT9lNFxjuP"
      },
      "execution_count": null,
      "outputs": []
    },
    {
      "cell_type": "code",
      "source": [
        "gensim.downloader.info()['models'].keys()"
      ],
      "metadata": {
        "colab": {
          "base_uri": "https://localhost:8080/"
        },
        "id": "w1Uu4HyJxjxk",
        "outputId": "b4a7d9d0-4930-4d77-e869-1575b0377c9e"
      },
      "execution_count": null,
      "outputs": [
        {
          "output_type": "execute_result",
          "data": {
            "text/plain": [
              "dict_keys(['fasttext-wiki-news-subwords-300', 'conceptnet-numberbatch-17-06-300', 'word2vec-ruscorpora-300', 'word2vec-google-news-300', 'glove-wiki-gigaword-50', 'glove-wiki-gigaword-100', 'glove-wiki-gigaword-200', 'glove-wiki-gigaword-300', 'glove-twitter-25', 'glove-twitter-50', 'glove-twitter-100', 'glove-twitter-200', '__testing_word2vec-matrix-synopsis'])"
            ]
          },
          "metadata": {},
          "execution_count": 300
        }
      ]
    },
    {
      "cell_type": "code",
      "source": [
        "model = gensim.downloader.load('fasttext-wiki-news-subwords-300')"
      ],
      "metadata": {
        "colab": {
          "base_uri": "https://localhost:8080/"
        },
        "id": "TknbAo6_xz_l",
        "outputId": "6608a049-cf13-4d6a-b749-5833ec4cc573"
      },
      "execution_count": null,
      "outputs": [
        {
          "output_type": "stream",
          "name": "stdout",
          "text": [
            "[==================================================] 100.0% 958.5/958.4MB downloaded\n"
          ]
        }
      ]
    },
    {
      "cell_type": "code",
      "source": [
        "model.most_similar('amongst')[0]"
      ],
      "metadata": {
        "colab": {
          "base_uri": "https://localhost:8080/"
        },
        "id": "uTW3ao-lx0B2",
        "outputId": "0461b2a4-3011-47d8-e361-f3c28769f1b8"
      },
      "execution_count": null,
      "outputs": [
        {
          "output_type": "execute_result",
          "data": {
            "text/plain": [
              "('among', 0.9080010652542114)"
            ]
          },
          "metadata": {},
          "execution_count": 303
        }
      ]
    },
    {
      "cell_type": "code",
      "source": [
        "rest_fill={}\n",
        "for i in rest:\n",
        "  print(i)\n",
        "  try:\n",
        "    p=model.most_similar(i)\n",
        "    for j,k in p:\n",
        "      if j in test_words:\n",
        "        print(i+' -> '+j)\n",
        "        rest_fill[i]=j\n",
        "        break\n",
        "  except:\n",
        "    print(i+' not in dictionary')"
      ],
      "metadata": {
        "colab": {
          "base_uri": "https://localhost:8080/"
        },
        "id": "gcJdIxTXx0Fg",
        "outputId": "8f52b346-34fc-4409-c3f2-47acb5abf1dd"
      },
      "execution_count": null,
      "outputs": [
        {
          "output_type": "stream",
          "name": "stdout",
          "text": [
            "equines\n",
            "equines -> equine\n",
            "remainder\n",
            "remainder -> rest\n",
            "amongst\n",
            "amongst -> among\n",
            "well\n",
            "partnership\n",
            "individuals\n",
            "individuals -> people\n",
            "subsidy\n",
            "these\n",
            "these -> many\n",
            "vital\n",
            "never\n",
            "never -> not\n",
            "thousanddollars\n",
            "thousanddollars not in dictionary\n",
            "losing\n",
            "losing -> lost\n",
            "frequently\n",
            "frequently -> often\n",
            "may\n",
            "may -> might\n",
            "several\n",
            "several -> many\n",
            "martin\n",
            "complicated\n",
            "complicated -> complex\n",
            "havent\n",
            "stalemate\n",
            "stalemate -> deadlock\n",
            "either\n",
            "either -> or\n",
            "oversubscribed\n",
            "oversubscribed -> subscribed\n",
            "private\n",
            "private -> public\n",
            "hundreds\n",
            "hundreds -> thousands\n",
            "below\n",
            "below -> above\n",
            "additon\n",
            "additon -> addition\n",
            "england\n",
            "larger\n",
            "larger -> large\n",
            "firm\n",
            "firm -> company\n",
            "sold\n",
            "sold -> bought\n",
            "managership\n",
            "managership -> management\n",
            "grown\n",
            "grown -> growing\n",
            "themselves\n",
            "four\n",
            "four -> three\n",
            "attendees\n",
            "attendees -> participants\n",
            "he\n",
            "he -> she\n",
            "ought\n",
            "ought -> should\n",
            "low\n",
            "low -> high\n",
            "calamitous\n",
            "calamitous -> disastrous\n",
            "were\n",
            "were -> are\n",
            "less\n",
            "less -> more\n",
            "paid\n",
            "paid -> pay\n",
            "made\n",
            "made -> was\n",
            "this\n",
            "this -> the\n",
            "similar\n",
            "info\n",
            "info -> information\n",
            "repaid\n",
            "repaid -> repay\n",
            "had\n",
            "had -> have\n"
          ]
        }
      ]
    },
    {
      "cell_type": "code",
      "source": [
        "for i in rest:\n",
        "  if i not in rest_fill.keys():\n",
        "    print(i)"
      ],
      "metadata": {
        "colab": {
          "base_uri": "https://localhost:8080/"
        },
        "id": "g0J9HSAd2tSw",
        "outputId": "76857061-c664-45c4-d7fe-6dd193a3d716"
      },
      "execution_count": null,
      "outputs": [
        {
          "output_type": "stream",
          "name": "stdout",
          "text": [
            "well\n",
            "partnership\n",
            "subsidy\n",
            "vital\n",
            "thousanddollars\n",
            "martin\n",
            "havent\n",
            "england\n",
            "themselves\n",
            "similar\n"
          ]
        }
      ]
    },
    {
      "cell_type": "code",
      "source": [
        "d['thousanddollars']=['thousands','dollars']"
      ],
      "metadata": {
        "id": "b9pSu0hy1uTc"
      },
      "execution_count": null,
      "outputs": []
    },
    {
      "cell_type": "code",
      "source": [
        "d"
      ],
      "metadata": {
        "colab": {
          "base_uri": "https://localhost:8080/"
        },
        "id": "LTwnMaGo1_Pz",
        "outputId": "2dd593e0-5abc-44dc-9c93-afb4ef8e1383"
      },
      "execution_count": null,
      "outputs": [
        {
          "output_type": "execute_result",
          "data": {
            "text/plain": [
              "{'bythe': ['the', 'by'],\n",
              " 'fromthe': ['the', 'from'],\n",
              " 'inthe': ['the', 'in'],\n",
              " 'intothe': ['the', 'into'],\n",
              " 'marketplace': ['place', 'market'],\n",
              " 'onthe': ['the', 'on'],\n",
              " 'thecapital': ['the', 'capital'],\n",
              " 'thousanddollars': ['thousands', 'dollars'],\n",
              " 'withinthe': ['the', 'within'],\n",
              " 'withthe': ['the', 'with']}"
            ]
          },
          "metadata": {},
          "execution_count": 318
        }
      ]
    },
    {
      "cell_type": "code",
      "source": [
        "for i in rest:\n",
        "  if i in d.keys():\n",
        "    print(i)"
      ],
      "metadata": {
        "id": "fzLjHQhw1XYi"
      },
      "execution_count": null,
      "outputs": []
    },
    {
      "cell_type": "code",
      "source": [
        ""
      ],
      "metadata": {
        "id": "CqWyMcILx0LR"
      },
      "execution_count": null,
      "outputs": []
    },
    {
      "cell_type": "code",
      "source": [
        "for i in rest:\n",
        "  j=singularize(i)\n",
        "  print(j)\n",
        "  for k in test_words:\n",
        "    kk=singularize(k)\n",
        "    if kk==j:\n",
        "      print(i+' -> '+k)"
      ],
      "metadata": {
        "colab": {
          "base_uri": "https://localhost:8080/"
        },
        "id": "EoUp8dYxwP4n",
        "outputId": "3e0b1cc5-859a-4a02-fda6-aadef9e76be9"
      },
      "execution_count": null,
      "outputs": [
        {
          "output_type": "stream",
          "name": "stdout",
          "text": [
            "equine\n",
            "equines -> equine\n",
            "remainder\n",
            "amongst\n",
            "well\n",
            "partnership\n",
            "individual\n",
            "subsidy\n",
            "these\n",
            "vital\n",
            "never\n",
            "thousanddollar\n",
            "losing\n",
            "frequently\n",
            "may\n",
            "several\n",
            "martin\n",
            "complicated\n",
            "havent\n",
            "stalemate\n",
            "either\n",
            "oversubscribed\n",
            "private\n",
            "hundred\n",
            "below\n",
            "additon\n",
            "england\n",
            "larger\n",
            "firm\n",
            "sold\n",
            "managership\n",
            "grown\n",
            "themself\n",
            "fmy\n",
            "attendee\n",
            "he\n",
            "ought\n",
            "low\n",
            "calamitou\n",
            "were\n",
            "les\n",
            "paid\n",
            "made\n",
            "thi\n",
            "similar\n",
            "info\n",
            "repaid\n",
            "had\n"
          ]
        }
      ]
    },
    {
      "cell_type": "code",
      "source": [
        "words=[]\n",
        "for i in test_words:\n",
        "  j=i.lower()\n",
        "  words.append(singularize(j))\n",
        "sorted(words)"
      ],
      "metadata": {
        "id": "Ec5QTKt019rI",
        "colab": {
          "base_uri": "https://localhost:8080/"
        },
        "outputId": "e64c379d-f9ab-4e57-b2ed-5ef253b01d5c"
      },
      "execution_count": null,
      "outputs": [
        {
          "output_type": "execute_result",
          "data": {
            "text/plain": [
              "['',\n",
              " 'a',\n",
              " 'above',\n",
              " 'accounting',\n",
              " 'accused',\n",
              " 'action',\n",
              " 'activity',\n",
              " 'addition',\n",
              " 'agreement',\n",
              " 'allocate',\n",
              " 'among',\n",
              " 'an',\n",
              " 'and',\n",
              " 'any',\n",
              " 'appraiser',\n",
              " 'are',\n",
              " 'as',\n",
              " 'asset',\n",
              " 'assist',\n",
              " 'associated',\n",
              " 'at',\n",
              " 'banking',\n",
              " 'be',\n",
              " 'bought',\n",
              " 'bubble',\n",
              " 'busines',\n",
              " 'business',\n",
              " 'buy',\n",
              " 'by',\n",
              " 'can',\n",
              " 'capital',\n",
              " 'company',\n",
              " 'complex',\n",
              " 'consume',\n",
              " 'contest',\n",
              " 'contingent',\n",
              " 'control',\n",
              " 'could',\n",
              " 'deadlock',\n",
              " 'decision',\n",
              " 'disastrou',\n",
              " 'dispute',\n",
              " 'divorce',\n",
              " 'dollar',\n",
              " 'drive',\n",
              " 'economic',\n",
              " 'economy',\n",
              " 'equine',\n",
              " 'establish',\n",
              " 'estate',\n",
              " 'estimating',\n",
              " 'exchange',\n",
              " 'farm',\n",
              " 'finance',\n",
              " 'for',\n",
              " 'force',\n",
              " 'formula',\n",
              " 'friend',\n",
              " 'from',\n",
              " 'function',\n",
              " 'fund',\n",
              " 'fund',\n",
              " 'further',\n",
              " 'gambling',\n",
              " 'general',\n",
              " 'gift',\n",
              " 'good',\n",
              " 'government',\n",
              " 'growing',\n",
              " 'ha',\n",
              " 'have',\n",
              " 'hi',\n",
              " 'high',\n",
              " 'him',\n",
              " 'horse',\n",
              " 'horse',\n",
              " 'in',\n",
              " 'income',\n",
              " 'increase',\n",
              " 'industry',\n",
              " 'inflation',\n",
              " 'information',\n",
              " 'initial',\n",
              " 'interest',\n",
              " 'into',\n",
              " 'investment',\n",
              " 'is',\n",
              " 'large',\n",
              " 'lawsuit',\n",
              " 'legal',\n",
              " 'lifeblood',\n",
              " 'litigation',\n",
              " 'london',\n",
              " 'longer',\n",
              " 'lost',\n",
              " 'making',\n",
              " 'management',\n",
              " 'manager',\n",
              " 'managerial',\n",
              " 'many',\n",
              " 'market',\n",
              " 'market',\n",
              " 'might',\n",
              " 'misusing',\n",
              " 'money',\n",
              " 'more',\n",
              " 'not',\n",
              " 'of',\n",
              " 'often',\n",
              " 'on',\n",
              " 'opinion',\n",
              " 'or',\n",
              " 'organizational',\n",
              " 'other',\n",
              " 'outlay',\n",
              " 'ownership',\n",
              " 'participant',\n",
              " 'partner',\n",
              " 'pay',\n",
              " 'performance',\n",
              " 'person',\n",
              " 'place',\n",
              " 'prepared',\n",
              " 'price',\n",
              " 'price',\n",
              " 'profit',\n",
              " 'progressive',\n",
              " 'public',\n",
              " 'purchase',\n",
              " 'purpose',\n",
              " 'refer',\n",
              " 'related',\n",
              " 'relation',\n",
              " 'repay',\n",
              " 'resolve',\n",
              " 'rest',\n",
              " 'revenue',\n",
              " 'risk',\n",
              " 's',\n",
              " 'same',\n",
              " 'sector',\n",
              " 'sell',\n",
              " 'selling',\n",
              " 'service',\n",
              " 'share',\n",
              " 'shareholder',\n",
              " 'she',\n",
              " 'should',\n",
              " 'small',\n",
              " 'some',\n",
              " 'stock',\n",
              " 'structure',\n",
              " 'subscribed',\n",
              " 'subsidize',\n",
              " 'such',\n",
              " 'sum',\n",
              " 'system',\n",
              " 'taking',\n",
              " 'tax',\n",
              " 'taxation',\n",
              " 'the',\n",
              " 'their',\n",
              " 'they',\n",
              " 'thousand',\n",
              " 'three',\n",
              " 'time',\n",
              " 'to',\n",
              " 'tool',\n",
              " 'type',\n",
              " 'upon',\n",
              " 'use',\n",
              " 'used',\n",
              " 'valuation',\n",
              " 'value',\n",
              " 'venture',\n",
              " 'wa',\n",
              " 'when',\n",
              " 'with',\n",
              " 'within',\n",
              " 'year',\n",
              " 'ymy']"
            ]
          },
          "metadata": {},
          "execution_count": 184
        }
      ]
    },
    {
      "cell_type": "code",
      "source": [
        "dataset=pd.read_csv('data/sample_submission.csv')"
      ],
      "metadata": {
        "id": "quojInZ_2XDv"
      },
      "execution_count": null,
      "outputs": []
    },
    {
      "cell_type": "code",
      "source": [
        "for i in dd.keys():\n",
        "  try:\n",
        "    p=model.most_similar(i)[0]\n",
        "    print(i,dd[i])\n",
        "    print(p)\n",
        "  except:\n",
        "    print(i)"
      ],
      "metadata": {
        "colab": {
          "base_uri": "https://localhost:8080/"
        },
        "id": "6f660VJ37msG",
        "outputId": "bb37c789-de95-46f0-9107-5fab05c2b15e"
      },
      "execution_count": null,
      "outputs": [
        {
          "output_type": "stream",
          "name": "stdout",
          "text": [
            "exchanges ['exchange']\n",
            "('exchange', 0.852319061756134)\n",
            "was ['was']\n",
            "('is', 0.8081117868423462)\n",
            "systems ['system']\n",
            "('system', 0.822524905204773)\n",
            "decisions ['decision']\n",
            "('decisons', 0.8226788640022278)\n",
            "the from\n",
            "longer ['longer']\n",
            "('shorter', 0.755343496799469)\n",
            "economy ['economy']\n",
            "('economy-', 0.8162562251091003)\n",
            "dispute ['disputes']\n",
            "('disputes', 0.8630889654159546)\n",
            "gifts ['gift']\n",
            "('gift', 0.832480788230896)\n",
            "the on\n",
            "outlays ['outlay']\n",
            "('expenditures', 0.8147125244140625)\n",
            "further ['further']\n",
            "('futher', 0.8049038648605347)\n",
            "risks ['risk']\n",
            "('risk', 0.8407328128814697)\n",
            "the by\n",
            "allocating ['allocate']\n",
            "('reallocating', 0.8487706184387207)\n",
            "actions ['action']\n",
            "('inactions', 0.8178368806838989)\n",
            "resolving ['resolve']\n",
            "('solving', 0.7731807231903076)\n",
            "when ['when']\n",
            "('whenever', 0.7771919965744019)\n",
            "assisting ['assist']\n",
            "('aiding', 0.8545658588409424)\n",
            "contingents ['contingent']\n",
            "('contingent', 0.7521751523017883)\n",
            "for ['for']\n",
            "('time--for', 0.7398208975791931)\n",
            "tool ['tools']\n",
            "('tools', 0.7866291999816895)\n",
            "the into\n",
            "businesses ['business', 'businesses']\n",
            "('companies', 0.798488199710846)\n",
            "litigation ['litigation']\n",
            "('litigations', 0.8325306177139282)\n",
            "funds ['fund', 'funds']\n",
            "('fund', 0.846437931060791)\n",
            "appraiser ['appraisers']\n",
            "('appraisers', 0.8308889865875244)\n",
            "at ['at']\n",
            "('near', 0.6875590682029724)\n",
            "goods ['goods']\n",
            "('bads', 0.7568666338920593)\n",
            "year ['years']\n",
            "('month', 0.8239168524742126)\n",
            "managing ['management', 'managers']\n",
            "('co-managing', 0.7360231280326843)\n",
            "function ['functions']\n",
            "('functions', 0.8562166690826416)\n",
            "taxes ['tax']\n",
            "('taxation', 0.8358892798423767)\n",
            "inflation ['inflation']\n",
            "('inflationary', 0.8112747073173523)\n",
            "government ['government']\n",
            "('governments', 0.8001903295516968)\n",
            "agreement ['agreements']\n",
            "('agreeement', 0.8553131818771362)\n",
            "service ['services']\n",
            "('services', 0.791146457195282)\n",
            "ventures ['venture']\n",
            "('venture', 0.8146073222160339)\n",
            "estates ['estate']\n",
            "('estate', 0.8255878686904907)\n",
            "farms ['farm']\n",
            "('farm', 0.829724133014679)\n",
            "investments ['investment']\n",
            "('investment', 0.877887487411499)\n",
            "divorces ['divorce']\n",
            "('divorce', 0.8392422199249268)\n",
            "valuations ['valuation']\n",
            "('valuation', 0.8555625081062317)\n",
            "purpose ['purposes']\n",
            "('purposes', 0.8151813745498657)\n",
            "relating ['relation', 'related']\n",
            "('pertaining', 0.8724989891052246)\n",
            "ownerships ['ownership']\n",
            "('ownership', 0.797177791595459)\n",
            "times ['time']\n",
            "('days', 0.7298232316970825)\n",
            "should ['should']\n",
            "('must', 0.8547425270080566)\n",
            "places ['place']\n",
            "('place', 0.7514921426773071)\n",
            "shareholder ['shareholders']\n",
            "('stockholder', 0.8553516864776611)\n",
            "gambling ['gambling']\n",
            "('gambling-related', 0.7981909513473511)\n",
            "your ['your']\n",
            "('my', 0.7594338655471802)\n",
            "stocks ['stock']\n",
            "('stock', 0.8331550359725952)\n",
            "forces ['force']\n",
            "('force', 0.834143340587616)\n",
            "take ['taking']\n",
            "('taking', 0.8109922409057617)\n",
            "profits ['profit']\n",
            "('profit', 0.8384164571762085)\n",
            "initial ['initial']\n",
            "('intial', 0.8317749500274658)\n",
            "his ['his']\n",
            "('ofhis', 0.780472993850708)\n",
            "progressives ['progressive']\n",
            "('conservatives', 0.8293029069900513)\n",
            "the within\n",
            "moneys ['money']\n",
            "('monies', 0.8721204996109009)\n",
            "structures ['structure']\n",
            "('structure', 0.8238328695297241)\n",
            "contests ['contest']\n",
            "('contest', 0.7980856895446777)\n",
            "business ['business', 'businesses']\n",
            "('busines', 0.81876540184021)\n",
            "she ['she']\n",
            "('he', 0.7858771085739136)\n",
            "consumed ['consume']\n",
            "('unconsumed', 0.7874747514724731)\n",
            "drives ['drive']\n",
            "('drive', 0.8504801392555237)\n",
            "referred ['refers']\n",
            "('refered', 0.8689150810241699)\n",
            "opinions ['opinion']\n",
            "('opinion', 0.8353242874145508)\n",
            "bank ['banking']\n",
            "('banks', 0.8218396902084351)\n",
            "lawsuit ['lawsuits']\n",
            "('lawsuits', 0.8359867334365845)\n",
            "industries ['industry']\n",
            "('industry', 0.8024261593818665)\n",
            "uses ['used', 'use']\n",
            "('utilizes', 0.7979768514633179)\n",
            "sum ['sums']\n",
            "('sums', 0.8011087775230408)\n",
            "accusing ['accused']\n",
            "('accuse', 0.8529375791549683)\n",
            "interests ['interest']\n",
            "('interestes', 0.7996741533279419)\n",
            "financing ['finance']\n",
            "('finance', 0.7807836532592773)\n",
            "performances ['performance']\n",
            "('perfomances', 0.8175448179244995)\n",
            "pricing ['prices', 'price']\n",
            "('price', 0.7853336930274963)\n",
            "other ['other']\n",
            "('various', 0.7692878246307373)\n",
            "activities ['activity']\n",
            "('activites', 0.844556450843811)\n",
            "the capital\n",
            "place market\n",
            "organizational ['organizational']\n",
            "('organisational', 0.8060777187347412)\n",
            "is ['is']\n",
            "('was', 0.8081119060516357)\n",
            "general ['general']\n",
            "('non-general', 0.7898072600364685)\n",
            "an ['an']\n",
            "('An', 0.758163332939148)\n",
            "the in\n",
            "increases ['increase']\n",
            "('decreases', 0.9410411715507507)\n",
            "controlling ['control']\n",
            "('controling', 0.824134886264801)\n",
            "friend ['friends']\n",
            "('colleague', 0.7886343002319336)\n",
            "being ['be']\n",
            "('beiing', 0.778037428855896)\n",
            "the with\n",
            "accounting ['accounting']\n",
            "('non-accounting', 0.7750859260559082)\n",
            "misused ['misusing']\n",
            "('mis-used', 0.8862175941467285)\n",
            "establishing ['establish']\n",
            "('re-establishing', 0.8102340698242188)\n",
            "formulas ['formula']\n",
            "('formulae', 0.9103837609291077)\n",
            "estimate ['estimating']\n",
            "('estimates', 0.8703328371047974)\n",
            "manager ['management', 'managers']\n",
            "('co-manager', 0.7749764919281006)\n",
            "bubbles ['bubble']\n",
            "('bubble', 0.844642162322998)\n",
            "preparing ['prepared']\n",
            "('readying', 0.8172748684883118)\n",
            "types ['type']\n",
            "('sub-types', 0.8030937910079956)\n"
          ]
        }
      ]
    },
    {
      "cell_type": "code",
      "source": [
        "Y=Y_new"
      ],
      "metadata": {
        "id": "gNIN_PSg7mvb"
      },
      "execution_count": null,
      "outputs": []
    }
  ]
}